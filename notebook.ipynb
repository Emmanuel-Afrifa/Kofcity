{
 "cells": [
  {
   "cell_type": "code",
   "execution_count": 1,
   "metadata": {},
   "outputs": [],
   "source": [
    "import numpy as np\n",
    "import pandas as pd \n",
    "import matplotlib.pyplot as plt\n",
    "import seaborn as sns\n",
    "\n",
    "from collections import Counter\n",
    "from warnings import filterwarnings\n",
    "filterwarnings('ignore')\n"
   ]
  },
  {
   "cell_type": "code",
   "execution_count": 2,
   "metadata": {},
   "outputs": [],
   "source": [
    "data = pd.read_excel(\"AFES- DATA REMOB.COLLECTION EXX..xlsx\")\n",
    "df = data.copy()"
   ]
  },
  {
   "cell_type": "code",
   "execution_count": 3,
   "metadata": {},
   "outputs": [
    {
     "data": {
      "text/html": [
       "<div>\n",
       "<style scoped>\n",
       "    .dataframe tbody tr th:only-of-type {\n",
       "        vertical-align: middle;\n",
       "    }\n",
       "\n",
       "    .dataframe tbody tr th {\n",
       "        vertical-align: top;\n",
       "    }\n",
       "\n",
       "    .dataframe thead th {\n",
       "        text-align: right;\n",
       "    }\n",
       "</style>\n",
       "<table border=\"1\" class=\"dataframe\">\n",
       "  <thead>\n",
       "    <tr style=\"text-align: right;\">\n",
       "      <th></th>\n",
       "      <th>Timestamp</th>\n",
       "      <th>Email Address</th>\n",
       "      <th>Enumerator's Name</th>\n",
       "      <th>Respondent's Name</th>\n",
       "      <th>Age</th>\n",
       "      <th>Sex</th>\n",
       "      <th>Marital status</th>\n",
       "      <th>Do you have children?</th>\n",
       "      <th>If yes, how many children do you have?</th>\n",
       "      <th>Do you have any form of disability?</th>\n",
       "      <th>...</th>\n",
       "      <th>Have you heard about the Kofkro project? Yes/No</th>\n",
       "      <th>If yes, where did you hear about it?</th>\n",
       "      <th>What are your interests or hobbies?</th>\n",
       "      <th>What do you think are the biggest challenges facing youth in your community?</th>\n",
       "      <th>How do you think those challenges in your community can be solved?</th>\n",
       "      <th>Is there anything else you would like to share about yourself or your community?</th>\n",
       "      <th>Would you like to be part of youth centered activities in your community?</th>\n",
       "      <th>Are you willing to be contacted for future follow-up?</th>\n",
       "      <th>Do you have any question or suggestion?</th>\n",
       "      <th>If you have any suggestions or recommendations? kindly indicate.</th>\n",
       "    </tr>\n",
       "  </thead>\n",
       "  <tbody>\n",
       "    <tr>\n",
       "      <th>0</th>\n",
       "      <td>2024-10-07 05:37:09.368</td>\n",
       "      <td>NaN</td>\n",
       "      <td>Francis Adu-Amankwah</td>\n",
       "      <td>Francis</td>\n",
       "      <td>31-35</td>\n",
       "      <td>Male</td>\n",
       "      <td>Maried</td>\n",
       "      <td>Yes</td>\n",
       "      <td>3</td>\n",
       "      <td>No</td>\n",
       "      <td>...</td>\n",
       "      <td>Yes</td>\n",
       "      <td>AFES Ghana's Koforidua Youth Manifesto Project...</td>\n",
       "      <td>Research</td>\n",
       "      <td>Youth unemployment</td>\n",
       "      <td>Creating more job opportunities</td>\n",
       "      <td>NaN</td>\n",
       "      <td>NaN</td>\n",
       "      <td>NaN</td>\n",
       "      <td>NaN</td>\n",
       "      <td>Thank you</td>\n",
       "    </tr>\n",
       "    <tr>\n",
       "      <th>1</th>\n",
       "      <td>2024-10-08 17:14:02.165</td>\n",
       "      <td>NaN</td>\n",
       "      <td>NaN</td>\n",
       "      <td>Tttt</td>\n",
       "      <td>NaN</td>\n",
       "      <td>NaN</td>\n",
       "      <td>NaN</td>\n",
       "      <td>NaN</td>\n",
       "      <td>NaN</td>\n",
       "      <td>NaN</td>\n",
       "      <td>...</td>\n",
       "      <td>NaN</td>\n",
       "      <td>NaN</td>\n",
       "      <td>NaN</td>\n",
       "      <td>NaN</td>\n",
       "      <td>NaN</td>\n",
       "      <td>NaN</td>\n",
       "      <td>NaN</td>\n",
       "      <td>NaN</td>\n",
       "      <td>NaN</td>\n",
       "      <td>NaN</td>\n",
       "    </tr>\n",
       "    <tr>\n",
       "      <th>2</th>\n",
       "      <td>2024-10-08 19:24:48.496</td>\n",
       "      <td>francisaduamankwah8@gmail.com</td>\n",
       "      <td>Francis</td>\n",
       "      <td>Owusua</td>\n",
       "      <td>31-35</td>\n",
       "      <td>Female</td>\n",
       "      <td>Maried</td>\n",
       "      <td>Yes</td>\n",
       "      <td>3</td>\n",
       "      <td>No</td>\n",
       "      <td>...</td>\n",
       "      <td>Yes</td>\n",
       "      <td>During the Koforidua Manifesto Launch</td>\n",
       "      <td>Reading</td>\n",
       "      <td>unemployment</td>\n",
       "      <td>creating more entrepreneurship opportunities</td>\n",
       "      <td>no</td>\n",
       "      <td>Yes</td>\n",
       "      <td>Yes</td>\n",
       "      <td>No</td>\n",
       "      <td>NaN</td>\n",
       "    </tr>\n",
       "    <tr>\n",
       "      <th>3</th>\n",
       "      <td>2024-10-08 20:33:12.461</td>\n",
       "      <td>tinadankyi@gmail.com</td>\n",
       "      <td>NaN</td>\n",
       "      <td>Tttt</td>\n",
       "      <td>NaN</td>\n",
       "      <td>NaN</td>\n",
       "      <td>NaN</td>\n",
       "      <td>NaN</td>\n",
       "      <td>NaN</td>\n",
       "      <td>NaN</td>\n",
       "      <td>...</td>\n",
       "      <td>NaN</td>\n",
       "      <td>NaN</td>\n",
       "      <td>NaN</td>\n",
       "      <td>NaN</td>\n",
       "      <td>NaN</td>\n",
       "      <td>NaN</td>\n",
       "      <td>NaN</td>\n",
       "      <td>NaN</td>\n",
       "      <td>NaN</td>\n",
       "      <td>NaN</td>\n",
       "    </tr>\n",
       "    <tr>\n",
       "      <th>4</th>\n",
       "      <td>2024-10-08 21:52:52.980</td>\n",
       "      <td>henriettaaddoquaye4@gmail.com</td>\n",
       "      <td>Henrietta Addo_quaye</td>\n",
       "      <td>Loyola Addo_quaye</td>\n",
       "      <td>15- 20</td>\n",
       "      <td>Female</td>\n",
       "      <td>Single</td>\n",
       "      <td>No</td>\n",
       "      <td>NaN</td>\n",
       "      <td>No</td>\n",
       "      <td>...</td>\n",
       "      <td>No</td>\n",
       "      <td>NaN</td>\n",
       "      <td>Reading</td>\n",
       "      <td>Sanitation issues</td>\n",
       "      <td>By engaging in communal labour</td>\n",
       "      <td>Several cases of teenage pregnancy</td>\n",
       "      <td>Yes</td>\n",
       "      <td>Yes</td>\n",
       "      <td>No</td>\n",
       "      <td>NaN</td>\n",
       "    </tr>\n",
       "  </tbody>\n",
       "</table>\n",
       "<p>5 rows × 81 columns</p>\n",
       "</div>"
      ],
      "text/plain": [
       "                Timestamp                  Email Address  \\\n",
       "0 2024-10-07 05:37:09.368                            NaN   \n",
       "1 2024-10-08 17:14:02.165                            NaN   \n",
       "2 2024-10-08 19:24:48.496  francisaduamankwah8@gmail.com   \n",
       "3 2024-10-08 20:33:12.461           tinadankyi@gmail.com   \n",
       "4 2024-10-08 21:52:52.980  henriettaaddoquaye4@gmail.com   \n",
       "\n",
       "       Enumerator's Name   Respondent's Name     Age     Sex Marital status  \\\n",
       "0  Francis Adu-Amankwah             Francis    31-35    Male         Maried   \n",
       "1                    NaN                Tttt     NaN     NaN            NaN   \n",
       "2               Francis               Owusua   31-35  Female         Maried   \n",
       "3                    NaN                Tttt     NaN     NaN            NaN   \n",
       "4  Henrietta Addo_quaye   Loyola Addo_quaye   15- 20  Female         Single   \n",
       "\n",
       "  Do you have children?  If yes, how many children do you have?  \\\n",
       "0                    Yes                                      3   \n",
       "1                    NaN                                    NaN   \n",
       "2                    Yes                                      3   \n",
       "3                    NaN                                    NaN   \n",
       "4                     No                                    NaN   \n",
       "\n",
       "  Do you have any form of disability?  ...  \\\n",
       "0                                  No  ...   \n",
       "1                                 NaN  ...   \n",
       "2                                  No  ...   \n",
       "3                                 NaN  ...   \n",
       "4                                  No  ...   \n",
       "\n",
       "    Have you heard about the Kofkro project? Yes/No  \\\n",
       "0                                               Yes   \n",
       "1                                               NaN   \n",
       "2                                               Yes   \n",
       "3                                               NaN   \n",
       "4                                                No   \n",
       "\n",
       "                If yes, where did you hear about it?  \\\n",
       "0  AFES Ghana's Koforidua Youth Manifesto Project...   \n",
       "1                                                NaN   \n",
       "2              During the Koforidua Manifesto Launch   \n",
       "3                                                NaN   \n",
       "4                                                NaN   \n",
       "\n",
       "  What are your interests or hobbies?  \\\n",
       "0                           Research    \n",
       "1                                 NaN   \n",
       "2                             Reading   \n",
       "3                                 NaN   \n",
       "4                             Reading   \n",
       "\n",
       "  What do you think are the biggest challenges facing youth in your community?  \\\n",
       "0                                Youth unemployment                              \n",
       "1                                                NaN                             \n",
       "2                                       unemployment                             \n",
       "3                                                NaN                             \n",
       "4                                 Sanitation issues                              \n",
       "\n",
       "  How do you think those challenges in your community can be solved?  \\\n",
       "0                   Creating more job opportunities                    \n",
       "1                                                NaN                   \n",
       "2       creating more entrepreneurship opportunities                   \n",
       "3                                                NaN                   \n",
       "4                     By engaging in communal labour                   \n",
       "\n",
       "   Is there anything else you would like to share about yourself or your community?  \\\n",
       "0                                                NaN                                  \n",
       "1                                                NaN                                  \n",
       "2                                                 no                                  \n",
       "3                                                NaN                                  \n",
       "4                Several cases of teenage pregnancy                                   \n",
       "\n",
       "  Would you like to be part of youth centered activities in your community?  \\\n",
       "0                                                NaN                          \n",
       "1                                                NaN                          \n",
       "2                                                Yes                          \n",
       "3                                                NaN                          \n",
       "4                                                Yes                          \n",
       "\n",
       "  Are you willing to be contacted for future follow-up?  \\\n",
       "0                                                NaN      \n",
       "1                                                NaN      \n",
       "2                                                Yes      \n",
       "3                                                NaN      \n",
       "4                                                Yes      \n",
       "\n",
       "  Do you have any question or suggestion?   \\\n",
       "0                                      NaN   \n",
       "1                                      NaN   \n",
       "2                                       No   \n",
       "3                                      NaN   \n",
       "4                                       No   \n",
       "\n",
       "  If you have any suggestions or recommendations? kindly indicate.  \n",
       "0                                          Thank you                \n",
       "1                                                NaN                \n",
       "2                                                NaN                \n",
       "3                                                NaN                \n",
       "4                                                NaN                \n",
       "\n",
       "[5 rows x 81 columns]"
      ]
     },
     "execution_count": 3,
     "metadata": {},
     "output_type": "execute_result"
    }
   ],
   "source": [
    "df.head(5)"
   ]
  },
  {
   "cell_type": "code",
   "execution_count": 4,
   "metadata": {},
   "outputs": [
    {
     "data": {
      "text/plain": [
       "Index(['Timestamp', 'Email Address', 'Enumerator's Name', 'Respondent's Name',\n",
       "       'Age', 'Sex', 'Marital status', 'Do you have children? ',\n",
       "       'If yes, how many children do you have?',\n",
       "       'Do you have any form of disability?',\n",
       "       'If yes,  Please specify the type of disability',\n",
       "       'Educational Status: Which of these categories do you belong?',\n",
       "       'If you have attended school in the past, what's the highest level you attained?',\n",
       "       'If you are currently schooling, which level are you?',\n",
       "       'Where do you spend most part of your day?',\n",
       "       'Where do you sleep at night?',\n",
       "       'Where do you currently reside in Koforidua? (Specify area/ community) [Old Estate West]',\n",
       "       'Where do you currently reside in Koforidua? (Specify area/ community) [Old Estate East]',\n",
       "       'Where do you currently reside in Koforidua? (Specify area/ community) [Nyamekrom]',\n",
       "       'Where do you currently reside in Koforidua? (Specify area/ community) [Railway station B]',\n",
       "       'Where do you currently reside in Koforidua? (Specify area/ community) [Nsukwao Abotanso]',\n",
       "       'Where do you currently reside in Koforidua? (Specify area/ community) [Tanoso]',\n",
       "       'Where do you currently reside in Koforidua? (Specify area/ community) [Nsukwaoso]',\n",
       "       'Where do you currently reside in Koforidua? (Specify area/ community) [Osabene Mile 50]',\n",
       "       'Where do you currently reside in Koforidua? (Specify area/ community) [Adweso Estate]',\n",
       "       'Where do you currently reside in Koforidua? (Specify area/ community) [Adweso Town]',\n",
       "       'Where do you currently reside in Koforidua? (Specify area/ community) [Two Streams]',\n",
       "       'Where do you currently reside in Koforidua? (Specify area/ community) [Nyerede North]',\n",
       "       'Where do you currently reside in Koforidua? (Specify area/ community) [Nyerede South]',\n",
       "       'Where do you currently reside in Koforidua? (Specify area/ community) [Oguaa]',\n",
       "       'Where do you currently reside in Koforidua? (Specify area/ community) [Residential Area]',\n",
       "       'Where do you currently reside in Koforidua? (Specify area/ community) [Sempoamiensa]',\n",
       "       'Where do you currently reside in Koforidua? (Specify area/ community) [Ohemaa Park]',\n",
       "       'Where do you currently reside in Koforidua? (Specify area/ community) [Adontua]',\n",
       "       'Where do you currently reside in Koforidua? (Specify area/ community) [School Town]',\n",
       "       'Where do you currently reside in Koforidua? (Specify area/ community) [Anglican]',\n",
       "       'Where do you currently reside in Koforidua? (Specify area/ community) [Asuofiriso]',\n",
       "       'Where do you currently reside in Koforidua? (Specify area/ community) [Anlo Town South]',\n",
       "       'Where do you currently reside in Koforidua? (Specify area/ community) [Anlo Town North]',\n",
       "       'Where do you currently reside in Koforidua? (Specify area/ community) [Central Hospital]',\n",
       "       'Where do you currently reside in Koforidua? (Specify area/ community) [Klu Town- Yaw Kyerema]',\n",
       "       'Where do you currently reside in Koforidua? (Specify area/ community) [Social Welfare]',\n",
       "       'Where do you currently reside in Koforidua? (Specify area/ community) [Central Market]',\n",
       "       'Where do you currently reside in Koforidua? (Specify area/ community) [Debrakrom]',\n",
       "       'Where do you currently reside in Koforidua? (Specify area/ community) [Akwaasu Asebi]',\n",
       "       'Where do you currently reside in Koforidua? (Specify area/ community) [Kantudu]',\n",
       "       'Where do you currently reside in Koforidua? (Specify area/ community) [New Zongo -Community A&B]',\n",
       "       'Where do you currently reside in Koforidua? (Specify area/ community) [New Zongo- Community C]',\n",
       "       'Where do you currently reside in Koforidua? (Specify area/ community) [New Zongo- Community D]',\n",
       "       'Where do you currently reside in Koforidua? (Specify area/ community) [Ada]',\n",
       "       '1.     What is your phone number?', '  Is this number on WhatsApp? ',\n",
       "       ' If No, provide the number on WhatsApp.',\n",
       "       'Are you on any of the social media platforms?',\n",
       "       ' If yes, which of them (select as many as applied)',\n",
       "       'What is your email address (if applicable)?', '  Are you:',\n",
       "       'If employed, what is the nature of your employment?',\n",
       "       'If unemployed, are you searching for a job?',\n",
       "       '  Are you satisfied with your employment situation? ',\n",
       "       'Are you undergoing any training?',\n",
       "       'If yes, which kind of training are you undergoing and for what reason are you being trained?',\n",
       "       'Do you have access to some basic amenities?',\n",
       "       'If yes, which of the following do you have?',\n",
       "       'Do you have a national health insurance card?',\n",
       "       'Do you have a voter’s ID card? ',\n",
       "       'Have you ever voted in any elections? ',\n",
       "       'Do you plan to vote in the upcoming general election?',\n",
       "       'Have you participated in any town hall meeting organized by the assembly?',\n",
       "       'Have you ever engaged yourself in ay community development activity–communal labour?',\n",
       "       'If yes, please specify the kind of activity.',\n",
       "       '  Have you heard about the Kofkro project? Yes/No',\n",
       "       '    If yes, where did you hear about it?',\n",
       "       'What are your interests or hobbies?',\n",
       "       'What do you think are the biggest challenges facing youth in your community?',\n",
       "       'How do you think those challenges in your community can be solved?',\n",
       "       ' Is there anything else you would like to share about yourself or your community?',\n",
       "       'Would you like to be part of youth centered activities in your community?',\n",
       "       'Are you willing to be contacted for future follow-up?',\n",
       "       'Do you have any question or suggestion? ',\n",
       "       'If you have any suggestions or recommendations? kindly indicate.'],\n",
       "      dtype='object')"
      ]
     },
     "execution_count": 4,
     "metadata": {},
     "output_type": "execute_result"
    }
   ],
   "source": [
    "df.columns"
   ]
  },
  {
   "cell_type": "code",
   "execution_count": 5,
   "metadata": {},
   "outputs": [
    {
     "data": {
      "text/plain": [
       "Timestamp                                                                               0\n",
       "Email Address                                                                        2466\n",
       "Enumerator's Name                                                                       8\n",
       "Respondent's Name                                                                       0\n",
       "Age                                                                                    12\n",
       "                                                                                     ... \n",
       " Is there anything else you would like to share about yourself or your community?    1766\n",
       "Would you like to be part of youth centered activities in your community?              72\n",
       "Are you willing to be contacted for future follow-up?                                  83\n",
       "Do you have any question or suggestion?                                               157\n",
       "If you have any suggestions or recommendations? kindly indicate.                     2662\n",
       "Length: 81, dtype: int64"
      ]
     },
     "execution_count": 5,
     "metadata": {},
     "output_type": "execute_result"
    }
   ],
   "source": [
    "df.isnull().sum()"
   ]
  },
  {
   "cell_type": "code",
   "execution_count": 6,
   "metadata": {},
   "outputs": [
    {
     "name": "stdout",
     "output_type": "stream",
     "text": [
      "Index(['timestamp', 'email_address', 'enumerators_name', 'respondents_name',\n",
      "       'age', 'sex', 'marital_status', 'do_you_have_children',\n",
      "       'if_yes_how_many_children_do_you_have',\n",
      "       'do_you_have_any_form_of_disability',\n",
      "       'if_yes_please_specify_the_type_of_disability',\n",
      "       'educational_status_which_of_these_categories_do_you_belong',\n",
      "       'if_you_have_attended_school_in_the_past_whats_the_highest_level_you_attained',\n",
      "       'if_you_are_currently_schooling_which_level_are_you',\n",
      "       'where_do_you_spend_most_part_of_your_day',\n",
      "       'where_do_you_sleep_at_night',\n",
      "       'where_do_you_currently_reside_in_koforidua_specify_area_community_old_estate_west',\n",
      "       'where_do_you_currently_reside_in_koforidua_specify_area_community_old_estate_east',\n",
      "       'where_do_you_currently_reside_in_koforidua_specify_area_community_nyamekrom',\n",
      "       'where_do_you_currently_reside_in_koforidua_specify_area_community_railway_station_b',\n",
      "       'where_do_you_currently_reside_in_koforidua_specify_area_community_nsukwao_abotanso',\n",
      "       'where_do_you_currently_reside_in_koforidua_specify_area_community_tanoso',\n",
      "       'where_do_you_currently_reside_in_koforidua_specify_area_community_nsukwaoso',\n",
      "       'where_do_you_currently_reside_in_koforidua_specify_area_community_osabene_mile_50',\n",
      "       'where_do_you_currently_reside_in_koforidua_specify_area_community_adweso_estate',\n",
      "       'where_do_you_currently_reside_in_koforidua_specify_area_community_adweso_town',\n",
      "       'where_do_you_currently_reside_in_koforidua_specify_area_community_two_streams',\n",
      "       'where_do_you_currently_reside_in_koforidua_specify_area_community_nyerede_north',\n",
      "       'where_do_you_currently_reside_in_koforidua_specify_area_community_nyerede_south',\n",
      "       'where_do_you_currently_reside_in_koforidua_specify_area_community_oguaa',\n",
      "       'where_do_you_currently_reside_in_koforidua_specify_area_community_residential_area',\n",
      "       'where_do_you_currently_reside_in_koforidua_specify_area_community_sempoamiensa',\n",
      "       'where_do_you_currently_reside_in_koforidua_specify_area_community_ohemaa_park',\n",
      "       'where_do_you_currently_reside_in_koforidua_specify_area_community_adontua',\n",
      "       'where_do_you_currently_reside_in_koforidua_specify_area_community_school_town',\n",
      "       'where_do_you_currently_reside_in_koforidua_specify_area_community_anglican',\n",
      "       'where_do_you_currently_reside_in_koforidua_specify_area_community_asuofiriso',\n",
      "       'where_do_you_currently_reside_in_koforidua_specify_area_community_anlo_town_south',\n",
      "       'where_do_you_currently_reside_in_koforidua_specify_area_community_anlo_town_north',\n",
      "       'where_do_you_currently_reside_in_koforidua_specify_area_community_central_hospital',\n",
      "       'where_do_you_currently_reside_in_koforidua_specify_area_community_klu_town_yaw_kyerema',\n",
      "       'where_do_you_currently_reside_in_koforidua_specify_area_community_social_welfare',\n",
      "       'where_do_you_currently_reside_in_koforidua_specify_area_community_central_market',\n",
      "       'where_do_you_currently_reside_in_koforidua_specify_area_community_debrakrom',\n",
      "       'where_do_you_currently_reside_in_koforidua_specify_area_community_akwaasu_asebi',\n",
      "       'where_do_you_currently_reside_in_koforidua_specify_area_community_kantudu',\n",
      "       'where_do_you_currently_reside_in_koforidua_specify_area_community_new_zongo_community_ab',\n",
      "       'where_do_you_currently_reside_in_koforidua_specify_area_community_new_zongo_community_c',\n",
      "       'where_do_you_currently_reside_in_koforidua_specify_area_community_new_zongo_community_d',\n",
      "       'where_do_you_currently_reside_in_koforidua_specify_area_community_ada',\n",
      "       '1_what_is_your_phone_number', 'is_this_number_on_whatsapp',\n",
      "       'if_no_provide_the_number_on_whatsapp',\n",
      "       'are_you_on_any_of_the_social_media_platforms',\n",
      "       'if_yes_which_of_them_select_as_many_as_applied',\n",
      "       'what_is_your_email_address_if_applicable', 'are_you',\n",
      "       'if_employed_what_is_the_nature_of_your_employment',\n",
      "       'if_unemployed_are_you_searching_for_a_job',\n",
      "       'are_you_satisfied_with_your_employment_situation',\n",
      "       'are_you_undergoing_any_training',\n",
      "       'if_yes_which_kind_of_training_are_you_undergoing_and_for_what_reason_are_you_being_trained',\n",
      "       'do_you_have_access_to_some_basic_amenities',\n",
      "       'if_yes_which_of_the_following_do_you_have',\n",
      "       'do_you_have_a_national_health_insurance_card',\n",
      "       'do_you_have_a_voters_id_card', 'have_you_ever_voted_in_any_elections',\n",
      "       'do_you_plan_to_vote_in_the_upcoming_general_election',\n",
      "       'have_you_participated_in_any_town_hall_meeting_organized_by_the_assembly',\n",
      "       'have_you_ever_engaged_yourself_in_ay_community_development_activitycommunal_labour',\n",
      "       'if_yes_please_specify_the_kind_of_activity',\n",
      "       'have_you_heard_about_the_kofkro_project_yesno',\n",
      "       'if_yes_where_did_you_hear_about_it',\n",
      "       'what_are_your_interests_or_hobbies',\n",
      "       'what_do_you_think_are_the_biggest_challenges_facing_youth_in_your_community',\n",
      "       'how_do_you_think_those_challenges_in_your_community_can_be_solved',\n",
      "       'is_there_anything_else_you_would_like_to_share_about_yourself_or_your_community',\n",
      "       'would_you_like_to_be_part_of_youth_centered_activities_in_your_community',\n",
      "       'are_you_willing_to_be_contacted_for_future_followup',\n",
      "       'do_you_have_any_question_or_suggestion',\n",
      "       'if_you_have_any_suggestions_or_recommendations_kindly_indicate'],\n",
      "      dtype='object')\n"
     ]
    }
   ],
   "source": [
    "# Clean column names\n",
    "df.columns = (\n",
    "    df.columns\n",
    "    .str.strip()  # Remove leading and trailing spaces\n",
    "    .str.lower()  # Convert to lowercase\n",
    "    .str.replace('[^\\w\\s]', '', regex=True)  # Remove non-alphanumeric characters\n",
    "    .str.replace('\\s+', '_', regex=True)  # Replace spaces with underscores\n",
    ")\n",
    "\n",
    "\n",
    "print(df.columns)"
   ]
  },
  {
   "cell_type": "code",
   "execution_count": 7,
   "metadata": {},
   "outputs": [],
   "source": [
    "\n",
    "df = df.drop(['timestamp', 'email_address', 'enumerators_name', 'respondents_name'], axis=1)"
   ]
  },
  {
   "cell_type": "code",
   "execution_count": 8,
   "metadata": {},
   "outputs": [],
   "source": [
    "\n",
    "df = df.rename(columns={\n",
    "    'age': 'Age',\n",
    "    'sex': 'Gender',\n",
    "    'marital_status': 'MaritalStatus',\n",
    "    'do_you_have_children': 'HasChildren',\n",
    "    'if_yes_how_many_children_do_you_have': 'NumChildren',\n",
    "    'do_you_have_any_form_of_disability': 'HasDisability',\n",
    "    'if_yes_please_specify_the_type_of_disability': 'DisabilityType',\n",
    "    'educational_status_which_of_these_categories_do_you_belong': 'EducationStatus',\n",
    "    'if_you_have_attended_school_in_the_past_whats_the_highest_level_you_attained': 'HighestEducationLevel',\n",
    "    'if_you_are_currently_schooling_which_level_are_you': 'CurrentEducationLevel',\n",
    "    'where_do_you_spend_most_part_of_your_day': 'DayLocation',\n",
    "    'where_do_you_sleep_at_night': 'NightLocation',\n",
    "    'where_do_you_currently_reside_in_koforidua_specify_area_community_old_estate_west': 'Residence_OldEstateWest',\n",
    "    'where_do_you_currently_reside_in_koforidua_specify_area_community_old_estate_east': 'Residence_OldEstateEast',\n",
    "    'where_do_you_currently_reside_in_koforidua_specify_area_community_nyamekrom': 'Residence_Nyamekrom',\n",
    "    'where_do_you_currently_reside_in_koforidua_specify_area_community_railway_station_b': 'Residence_RailwayStation',\n",
    "    'where_do_you_currently_reside_in_koforidua_specify_area_community_nsukwao_abotanso': 'Residence_NsuakwoAbotanso',\n",
    "    'where_do_you_currently_reside_in_koforidua_specify_area_community_tanoso': ' Residence_Tanoso',\n",
    "    'where_do_you_currently_reside_in_koforidua_specify_area_community_nsukwaoso': 'Residence_Nsukwaoso',\n",
    "    'where_do_you_currently_reside_in_koforidua_specify_area_community_osabene_mile_50': 'Residence_OsabeneMile_50',\n",
    "    'where_do_you_currently_reside_in_koforidua_specify_area_community_adweso_estate': 'Residence_AdwesoEstate',\n",
    "    'where_do_you_currently_reside_in_koforidua_specify_area_community_adweso_town': 'Residence_AdwesoTown',\n",
    "    'where_do_you_currently_reside_in_koforidua_specify_area_community_two_streams': 'Residence_TwoStreams',\n",
    "    'where_do_you_currently_reside_in_koforidua_specify_area_community_nyerede_north': 'Residence_NyeredeNorth',\n",
    "    'where_do_you_currently_reside_in_koforidua_specify_area_community_nyerede_south':'Residence_NyeredeSouth',\n",
    "    'where_do_you_currently_reside_in_koforidua_specify_area_community_oguaa': 'Residence_Oguaa',\n",
    "    'where_do_you_currently_reside_in_koforidua_specify_area_community_residential_area':'Residence_ResidentialArea',\n",
    "    'where_do_you_currently_reside_in_koforidua_specify_area_community_sempoamiensa':'Residence_Sempoamiensa',\n",
    "    'where_do_you_currently_reside_in_koforidua_specify_area_community_ohemaa_park':'Residence_OhemaaPark',\n",
    "    'where_do_you_currently_reside_in_koforidua_specify_area_community_adontua': 'Residence_Adontua',\n",
    "    'where_do_you_currently_reside_in_koforidua_specify_area_community_school_town':'Residence_SchoolTown',\n",
    "    'where_do_you_currently_reside_in_koforidua_specify_area_community_anglican':'Residence_Anglican',\n",
    "    'where_do_you_currently_reside_in_koforidua_specify_area_community_asuofiriso':'Residence_Asuafiriso',\n",
    "    'where_do_you_currently_reside_in_koforidua_specify_area_community_anlo_town_south': 'Residence_AnloTownSouth',\n",
    "    'where_do_you_currently_reside_in_koforidua_specify_area_community_anlo_town_north':'Residence_AnloTownNorth',\n",
    "    'where_do_you_currently_reside_in_koforidua_specify_area_community_central_hospital':'Residence_CentralHospital',\n",
    "    'where_do_you_currently_reside_in_koforidua_specify_area_community_klu_town_yaw_kyerema':'Residence_KluTownYawKyerema',\n",
    "    'where_do_you_currently_reside_in_koforidua_specify_area_community_social_welfare':'Residence_SocialWelfare',\n",
    "    'where_do_you_currently_reside_in_koforidua_specify_area_community_central_market':'Residence_CentralMarket',\n",
    "    'where_do_you_currently_reside_in_koforidua_specify_area_community_debrakrom':'Residence_Debrakrom',\n",
    "    'where_do_you_currently_reside_in_koforidua_specify_area_community_akwaasu_asebi':'Residence_AkwaasuAsebi',\n",
    "    'where_do_you_currently_reside_in_koforidua_specify_area_community_kantudu': 'Residence_Kantudu',\n",
    "    'where_do_you_currently_reside_in_koforidua_specify_area_community_new_zongo_community_ab':'Residence_NewZongo_AB',\n",
    "    'where_do_you_currently_reside_in_koforidua_specify_area_community_new_zongo_community_c':'Residence_NewZongo_C',\n",
    "    'where_do_you_currently_reside_in_koforidua_specify_area_community_new_zongo_community_d':'Residence_NewZongo_D',\n",
    "    'where_do_you_currently_reside_in_koforidua_specify_area_community_ada':'Residence_Ada',\n",
    "    '1_what_is_your_phone_number': 'PhoneNumber',\n",
    "    'is_this_number_on_whatsapp': 'OnWhatsApp',\n",
    "    'if_no_provide_the_number_on_whatsapp': 'WhatsAppNumber',\n",
    "    'are_you_on_any_of_the_social_media_platforms': 'OnSocialMedia',\n",
    "    'if_yes_which_of_them_select_as_many_as_applied': 'SocialMediaPlatforms',\n",
    "    'what_is_your_email_address_if_applicable': 'EmailAddressOptional',\n",
    "    'are_you': 'EmploymentStatus',\n",
    "    'if_employed_what_is_the_nature_of_your_employment': 'EmploymentNature',\n",
    "    'if_unemployed_are_you_searching_for_a_job': 'JobSearchStatus',\n",
    "    'are_you_satisfied_with_your_employment_situation': 'EmploymentSatisfaction',\n",
    "    'are_you_undergoing_any_training': 'UndergoingTraining',\n",
    "    'if_yes_which_kind_of_training_are_you_undergoing_and_for_what_reason_are_you_being_trained': 'TrainingTypeAndReason',\n",
    "    'do_you_have_access_to_some_basic_amenities': 'AccessToAmenities',\n",
    "    'if_yes_which_of_the_following_do_you_have': 'AmenitiesType',\n",
    "    'do_you_have_a_national_health_insurance_card': 'HasHealthInsurance',\n",
    "    'do_you_have_a_voters_id_card': 'HasVotersID',\n",
    "    'have_you_ever_voted_in_any_elections': 'VotedBefore',\n",
    "    'do_you_plan_to_vote_in_the_upcoming_general_election': 'PlanToVote',\n",
    "    'have_you_participated_in_any_town_hall_meeting_organized_by_the_assembly': 'TownHallParticipation',\n",
    "    'have_you_ever_engaged_yourself_in_ay_community_development_activitycommunal_labour': 'CommunityActivity',\n",
    "    'if_yes_please_specify_the_kind_of_activity': 'ActivityType',\n",
    "    'have_you_heard_about_the_kofkro_project_yesno': 'HeardAboutKofkroProject',\n",
    "    'if_yes_where_did_you_hear_about_it': 'SourceOfKofkroInfo',\n",
    "    'what_are_your_interests_or_hobbies': 'InterestsOrHobbies',\n",
    "    'what_do_you_think_are_the_biggest_challenges_facing_youth_in_your_community': 'CommunityChallenges',\n",
    "    'how_do_you_think_those_challenges_in_your_community_can_be_solved': 'CommunityChallengesSolutions',\n",
    "    'is_there_anything_else_you_would_like_to_share_about_yourself_or_your_community': 'AdditionalInfo',\n",
    "    'would_you_like_to_be_part_of_youth_centered_activities_in_your_community': 'YouthActivityInterest',\n",
    "    'are_you_willing_to_be_contacted_for_future_followup': 'FutureFollowupInterest',\n",
    "    'do_you_have_any_question_or_suggestion': 'QuestionsOrSuggestions',\n",
    "    'if_you_have_any_suggestions_or_recommendations_kindly_indicate': 'SuggestionsOrRecommendations'\n",
    "    \n",
    "})\n",
    "\n",
    "\n"
   ]
  },
  {
   "cell_type": "code",
   "execution_count": 9,
   "metadata": {},
   "outputs": [
    {
     "data": {
      "text/html": [
       "<div>\n",
       "<style scoped>\n",
       "    .dataframe tbody tr th:only-of-type {\n",
       "        vertical-align: middle;\n",
       "    }\n",
       "\n",
       "    .dataframe tbody tr th {\n",
       "        vertical-align: top;\n",
       "    }\n",
       "\n",
       "    .dataframe thead th {\n",
       "        text-align: right;\n",
       "    }\n",
       "</style>\n",
       "<table border=\"1\" class=\"dataframe\">\n",
       "  <thead>\n",
       "    <tr style=\"text-align: right;\">\n",
       "      <th></th>\n",
       "      <th>Age</th>\n",
       "      <th>Gender</th>\n",
       "      <th>MaritalStatus</th>\n",
       "      <th>HasChildren</th>\n",
       "      <th>NumChildren</th>\n",
       "      <th>HasDisability</th>\n",
       "      <th>DisabilityType</th>\n",
       "      <th>EducationStatus</th>\n",
       "      <th>HighestEducationLevel</th>\n",
       "      <th>CurrentEducationLevel</th>\n",
       "      <th>...</th>\n",
       "      <th>HeardAboutKofkroProject</th>\n",
       "      <th>SourceOfKofkroInfo</th>\n",
       "      <th>InterestsOrHobbies</th>\n",
       "      <th>CommunityChallenges</th>\n",
       "      <th>CommunityChallengesSolutions</th>\n",
       "      <th>AdditionalInfo</th>\n",
       "      <th>YouthActivityInterest</th>\n",
       "      <th>FutureFollowupInterest</th>\n",
       "      <th>QuestionsOrSuggestions</th>\n",
       "      <th>SuggestionsOrRecommendations</th>\n",
       "    </tr>\n",
       "  </thead>\n",
       "  <tbody>\n",
       "    <tr>\n",
       "      <th>0</th>\n",
       "      <td>31-35</td>\n",
       "      <td>Male</td>\n",
       "      <td>Maried</td>\n",
       "      <td>Yes</td>\n",
       "      <td>3</td>\n",
       "      <td>No</td>\n",
       "      <td>NaN</td>\n",
       "      <td>Currently attending</td>\n",
       "      <td>TERTIARY</td>\n",
       "      <td>NaN</td>\n",
       "      <td>...</td>\n",
       "      <td>Yes</td>\n",
       "      <td>AFES Ghana's Koforidua Youth Manifesto Project...</td>\n",
       "      <td>Research</td>\n",
       "      <td>Youth unemployment</td>\n",
       "      <td>Creating more job opportunities</td>\n",
       "      <td>NaN</td>\n",
       "      <td>NaN</td>\n",
       "      <td>NaN</td>\n",
       "      <td>NaN</td>\n",
       "      <td>Thank you</td>\n",
       "    </tr>\n",
       "    <tr>\n",
       "      <th>1</th>\n",
       "      <td>NaN</td>\n",
       "      <td>NaN</td>\n",
       "      <td>NaN</td>\n",
       "      <td>NaN</td>\n",
       "      <td>NaN</td>\n",
       "      <td>NaN</td>\n",
       "      <td>NaN</td>\n",
       "      <td>NaN</td>\n",
       "      <td>NaN</td>\n",
       "      <td>NaN</td>\n",
       "      <td>...</td>\n",
       "      <td>NaN</td>\n",
       "      <td>NaN</td>\n",
       "      <td>NaN</td>\n",
       "      <td>NaN</td>\n",
       "      <td>NaN</td>\n",
       "      <td>NaN</td>\n",
       "      <td>NaN</td>\n",
       "      <td>NaN</td>\n",
       "      <td>NaN</td>\n",
       "      <td>NaN</td>\n",
       "    </tr>\n",
       "    <tr>\n",
       "      <th>2</th>\n",
       "      <td>31-35</td>\n",
       "      <td>Female</td>\n",
       "      <td>Maried</td>\n",
       "      <td>Yes</td>\n",
       "      <td>3</td>\n",
       "      <td>No</td>\n",
       "      <td>NaN</td>\n",
       "      <td>NaN</td>\n",
       "      <td>TERTIARY</td>\n",
       "      <td>NaN</td>\n",
       "      <td>...</td>\n",
       "      <td>Yes</td>\n",
       "      <td>During the Koforidua Manifesto Launch</td>\n",
       "      <td>Reading</td>\n",
       "      <td>unemployment</td>\n",
       "      <td>creating more entrepreneurship opportunities</td>\n",
       "      <td>no</td>\n",
       "      <td>Yes</td>\n",
       "      <td>Yes</td>\n",
       "      <td>No</td>\n",
       "      <td>NaN</td>\n",
       "    </tr>\n",
       "    <tr>\n",
       "      <th>3</th>\n",
       "      <td>NaN</td>\n",
       "      <td>NaN</td>\n",
       "      <td>NaN</td>\n",
       "      <td>NaN</td>\n",
       "      <td>NaN</td>\n",
       "      <td>NaN</td>\n",
       "      <td>NaN</td>\n",
       "      <td>NaN</td>\n",
       "      <td>JHS</td>\n",
       "      <td>NaN</td>\n",
       "      <td>...</td>\n",
       "      <td>NaN</td>\n",
       "      <td>NaN</td>\n",
       "      <td>NaN</td>\n",
       "      <td>NaN</td>\n",
       "      <td>NaN</td>\n",
       "      <td>NaN</td>\n",
       "      <td>NaN</td>\n",
       "      <td>NaN</td>\n",
       "      <td>NaN</td>\n",
       "      <td>NaN</td>\n",
       "    </tr>\n",
       "    <tr>\n",
       "      <th>4</th>\n",
       "      <td>15- 20</td>\n",
       "      <td>Female</td>\n",
       "      <td>Single</td>\n",
       "      <td>No</td>\n",
       "      <td>NaN</td>\n",
       "      <td>No</td>\n",
       "      <td>NaN</td>\n",
       "      <td>Currently attending</td>\n",
       "      <td>SHS</td>\n",
       "      <td>SHS</td>\n",
       "      <td>...</td>\n",
       "      <td>No</td>\n",
       "      <td>NaN</td>\n",
       "      <td>Reading</td>\n",
       "      <td>Sanitation issues</td>\n",
       "      <td>By engaging in communal labour</td>\n",
       "      <td>Several cases of teenage pregnancy</td>\n",
       "      <td>Yes</td>\n",
       "      <td>Yes</td>\n",
       "      <td>No</td>\n",
       "      <td>NaN</td>\n",
       "    </tr>\n",
       "  </tbody>\n",
       "</table>\n",
       "<p>5 rows × 77 columns</p>\n",
       "</div>"
      ],
      "text/plain": [
       "      Age  Gender MaritalStatus HasChildren NumChildren HasDisability  \\\n",
       "0   31-35    Male        Maried         Yes           3            No   \n",
       "1     NaN     NaN           NaN         NaN         NaN           NaN   \n",
       "2   31-35  Female        Maried         Yes           3            No   \n",
       "3     NaN     NaN           NaN         NaN         NaN           NaN   \n",
       "4  15- 20  Female        Single          No         NaN            No   \n",
       "\n",
       "  DisabilityType      EducationStatus HighestEducationLevel  \\\n",
       "0            NaN  Currently attending              TERTIARY   \n",
       "1            NaN                  NaN                   NaN   \n",
       "2            NaN                  NaN              TERTIARY   \n",
       "3            NaN                  NaN                   JHS   \n",
       "4            NaN  Currently attending                   SHS   \n",
       "\n",
       "  CurrentEducationLevel  ... HeardAboutKofkroProject  \\\n",
       "0                   NaN  ...                     Yes   \n",
       "1                   NaN  ...                     NaN   \n",
       "2                   NaN  ...                     Yes   \n",
       "3                   NaN  ...                     NaN   \n",
       "4                   SHS  ...                      No   \n",
       "\n",
       "                                  SourceOfKofkroInfo InterestsOrHobbies  \\\n",
       "0  AFES Ghana's Koforidua Youth Manifesto Project...          Research    \n",
       "1                                                NaN                NaN   \n",
       "2              During the Koforidua Manifesto Launch            Reading   \n",
       "3                                                NaN                NaN   \n",
       "4                                                NaN            Reading   \n",
       "\n",
       "   CommunityChallenges                  CommunityChallengesSolutions  \\\n",
       "0  Youth unemployment               Creating more job opportunities    \n",
       "1                  NaN                                           NaN   \n",
       "2         unemployment  creating more entrepreneurship opportunities   \n",
       "3                  NaN                                           NaN   \n",
       "4   Sanitation issues                 By engaging in communal labour   \n",
       "\n",
       "                        AdditionalInfo YouthActivityInterest  \\\n",
       "0                                  NaN                   NaN   \n",
       "1                                  NaN                   NaN   \n",
       "2                                   no                   Yes   \n",
       "3                                  NaN                   NaN   \n",
       "4  Several cases of teenage pregnancy                    Yes   \n",
       "\n",
       "  FutureFollowupInterest QuestionsOrSuggestions SuggestionsOrRecommendations  \n",
       "0                    NaN                    NaN                    Thank you  \n",
       "1                    NaN                    NaN                          NaN  \n",
       "2                    Yes                     No                          NaN  \n",
       "3                    NaN                    NaN                          NaN  \n",
       "4                    Yes                     No                          NaN  \n",
       "\n",
       "[5 rows x 77 columns]"
      ]
     },
     "execution_count": 9,
     "metadata": {},
     "output_type": "execute_result"
    }
   ],
   "source": [
    "df.head(5)"
   ]
  },
  {
   "cell_type": "code",
   "execution_count": 10,
   "metadata": {},
   "outputs": [
    {
     "data": {
      "text/html": [
       "<div>\n",
       "<style scoped>\n",
       "    .dataframe tbody tr th:only-of-type {\n",
       "        vertical-align: middle;\n",
       "    }\n",
       "\n",
       "    .dataframe tbody tr th {\n",
       "        vertical-align: top;\n",
       "    }\n",
       "\n",
       "    .dataframe thead th {\n",
       "        text-align: right;\n",
       "    }\n",
       "</style>\n",
       "<table border=\"1\" class=\"dataframe\">\n",
       "  <thead>\n",
       "    <tr style=\"text-align: right;\">\n",
       "      <th></th>\n",
       "      <th>count</th>\n",
       "      <th>unique</th>\n",
       "      <th>top</th>\n",
       "      <th>freq</th>\n",
       "    </tr>\n",
       "  </thead>\n",
       "  <tbody>\n",
       "    <tr>\n",
       "      <th>Age</th>\n",
       "      <td>2920</td>\n",
       "      <td>9</td>\n",
       "      <td>21- 25</td>\n",
       "      <td>1079</td>\n",
       "    </tr>\n",
       "    <tr>\n",
       "      <th>Gender</th>\n",
       "      <td>2905</td>\n",
       "      <td>3</td>\n",
       "      <td>Male</td>\n",
       "      <td>1750</td>\n",
       "    </tr>\n",
       "    <tr>\n",
       "      <th>MaritalStatus</th>\n",
       "      <td>2908</td>\n",
       "      <td>2</td>\n",
       "      <td>Single</td>\n",
       "      <td>2656</td>\n",
       "    </tr>\n",
       "    <tr>\n",
       "      <th>HasChildren</th>\n",
       "      <td>2875</td>\n",
       "      <td>2</td>\n",
       "      <td>No</td>\n",
       "      <td>2396</td>\n",
       "    </tr>\n",
       "    <tr>\n",
       "      <th>NumChildren</th>\n",
       "      <td>490</td>\n",
       "      <td>34</td>\n",
       "      <td>1</td>\n",
       "      <td>145</td>\n",
       "    </tr>\n",
       "    <tr>\n",
       "      <th>...</th>\n",
       "      <td>...</td>\n",
       "      <td>...</td>\n",
       "      <td>...</td>\n",
       "      <td>...</td>\n",
       "    </tr>\n",
       "    <tr>\n",
       "      <th>AdditionalInfo</th>\n",
       "      <td>1166</td>\n",
       "      <td>426</td>\n",
       "      <td>No</td>\n",
       "      <td>546</td>\n",
       "    </tr>\n",
       "    <tr>\n",
       "      <th>YouthActivityInterest</th>\n",
       "      <td>2860</td>\n",
       "      <td>3</td>\n",
       "      <td>Yes</td>\n",
       "      <td>1982</td>\n",
       "    </tr>\n",
       "    <tr>\n",
       "      <th>FutureFollowupInterest</th>\n",
       "      <td>2849</td>\n",
       "      <td>3</td>\n",
       "      <td>Yes</td>\n",
       "      <td>1885</td>\n",
       "    </tr>\n",
       "    <tr>\n",
       "      <th>QuestionsOrSuggestions</th>\n",
       "      <td>2775</td>\n",
       "      <td>3</td>\n",
       "      <td>No</td>\n",
       "      <td>2430</td>\n",
       "    </tr>\n",
       "    <tr>\n",
       "      <th>SuggestionsOrRecommendations</th>\n",
       "      <td>270</td>\n",
       "      <td>209</td>\n",
       "      <td>No</td>\n",
       "      <td>35</td>\n",
       "    </tr>\n",
       "  </tbody>\n",
       "</table>\n",
       "<p>77 rows × 4 columns</p>\n",
       "</div>"
      ],
      "text/plain": [
       "                             count unique     top  freq\n",
       "Age                           2920      9  21- 25  1079\n",
       "Gender                        2905      3    Male  1750\n",
       "MaritalStatus                 2908      2  Single  2656\n",
       "HasChildren                   2875      2      No  2396\n",
       "NumChildren                    490     34       1   145\n",
       "...                            ...    ...     ...   ...\n",
       "AdditionalInfo                1166    426      No   546\n",
       "YouthActivityInterest         2860      3     Yes  1982\n",
       "FutureFollowupInterest        2849      3     Yes  1885\n",
       "QuestionsOrSuggestions        2775      3      No  2430\n",
       "SuggestionsOrRecommendations   270    209      No    35\n",
       "\n",
       "[77 rows x 4 columns]"
      ]
     },
     "execution_count": 10,
     "metadata": {},
     "output_type": "execute_result"
    }
   ],
   "source": [
    "df.describe().T"
   ]
  },
  {
   "cell_type": "code",
   "execution_count": 11,
   "metadata": {},
   "outputs": [
    {
     "name": "stdout",
     "output_type": "stream",
     "text": [
      "<class 'pandas.core.frame.DataFrame'>\n",
      "RangeIndex: 2932 entries, 0 to 2931\n",
      "Data columns (total 77 columns):\n",
      " #   Column                        Non-Null Count  Dtype \n",
      "---  ------                        --------------  ----- \n",
      " 0   Age                           2920 non-null   object\n",
      " 1   Gender                        2905 non-null   object\n",
      " 2   MaritalStatus                 2908 non-null   object\n",
      " 3   HasChildren                   2875 non-null   object\n",
      " 4   NumChildren                   490 non-null    object\n",
      " 5   HasDisability                 2856 non-null   object\n",
      " 6   DisabilityType                144 non-null    object\n",
      " 7   EducationStatus               2844 non-null   object\n",
      " 8   HighestEducationLevel         2218 non-null   object\n",
      " 9   CurrentEducationLevel         1053 non-null   object\n",
      " 10  DayLocation                   2831 non-null   object\n",
      " 11  NightLocation                 2815 non-null   object\n",
      " 12  Residence_OldEstateWest       135 non-null    object\n",
      " 13  Residence_OldEstateEast       138 non-null    object\n",
      " 14  Residence_Nyamekrom           113 non-null    object\n",
      " 15  Residence_RailwayStation      48 non-null     object\n",
      " 16  Residence_NsuakwoAbotanso     104 non-null    object\n",
      " 17   Residence_Tanoso             58 non-null     object\n",
      " 18  Residence_Nsukwaoso           277 non-null    object\n",
      " 19  Residence_OsabeneMile_50      79 non-null     object\n",
      " 20  Residence_AdwesoEstate        49 non-null     object\n",
      " 21  Residence_AdwesoTown          83 non-null     object\n",
      " 22  Residence_TwoStreams          84 non-null     object\n",
      " 23  Residence_NyeredeNorth        19 non-null     object\n",
      " 24  Residence_NyeredeSouth        12 non-null     object\n",
      " 25  Residence_Oguaa               109 non-null    object\n",
      " 26  Residence_ResidentialArea     194 non-null    object\n",
      " 27  Residence_Sempoamiensa        128 non-null    object\n",
      " 28  Residence_OhemaaPark          213 non-null    object\n",
      " 29  Residence_Adontua             4 non-null      object\n",
      " 30  Residence_SchoolTown          7 non-null      object\n",
      " 31  Residence_Anglican            41 non-null     object\n",
      " 32  Residence_Asuafiriso          33 non-null     object\n",
      " 33  Residence_AnloTownSouth       81 non-null     object\n",
      " 34  Residence_AnloTownNorth       41 non-null     object\n",
      " 35  Residence_CentralHospital     34 non-null     object\n",
      " 36  Residence_KluTownYawKyerema   239 non-null    object\n",
      " 37  Residence_SocialWelfare       76 non-null     object\n",
      " 38  Residence_CentralMarket       20 non-null     object\n",
      " 39  Residence_Debrakrom           15 non-null     object\n",
      " 40  Residence_AkwaasuAsebi        27 non-null     object\n",
      " 41  Residence_Kantudu             65 non-null     object\n",
      " 42  Residence_NewZongo_AB         123 non-null    object\n",
      " 43  Residence_NewZongo_C          99 non-null     object\n",
      " 44  Residence_NewZongo_D          146 non-null    object\n",
      " 45  Residence_Ada                 90 non-null     object\n",
      " 46  PhoneNumber                   2392 non-null   object\n",
      " 47  OnWhatsApp                    2451 non-null   object\n",
      " 48  WhatsAppNumber                71 non-null     object\n",
      " 49  OnSocialMedia                 2725 non-null   object\n",
      " 50  SocialMediaPlatforms          2117 non-null   object\n",
      " 51  EmailAddressOptional          381 non-null    object\n",
      " 52  EmploymentStatus              2839 non-null   object\n",
      " 53  EmploymentNature              960 non-null    object\n",
      " 54  JobSearchStatus               2011 non-null   object\n",
      " 55  EmploymentSatisfaction        1979 non-null   object\n",
      " 56  UndergoingTraining            2709 non-null   object\n",
      " 57  TrainingTypeAndReason         311 non-null    object\n",
      " 58  AccessToAmenities             2834 non-null   object\n",
      " 59  AmenitiesType                 2667 non-null   object\n",
      " 60  HasHealthInsurance            2876 non-null   object\n",
      " 61  HasVotersID                   2878 non-null   object\n",
      " 62  VotedBefore                   2859 non-null   object\n",
      " 63  PlanToVote                    2859 non-null   object\n",
      " 64  TownHallParticipation         2842 non-null   object\n",
      " 65  CommunityActivity             2846 non-null   object\n",
      " 66  ActivityType                  583 non-null    object\n",
      " 67  HeardAboutKofkroProject       2831 non-null   object\n",
      " 68  SourceOfKofkroInfo            261 non-null    object\n",
      " 69  InterestsOrHobbies            2736 non-null   object\n",
      " 70  CommunityChallenges           2618 non-null   object\n",
      " 71  CommunityChallengesSolutions  2466 non-null   object\n",
      " 72  AdditionalInfo                1166 non-null   object\n",
      " 73  YouthActivityInterest         2860 non-null   object\n",
      " 74  FutureFollowupInterest        2849 non-null   object\n",
      " 75  QuestionsOrSuggestions        2775 non-null   object\n",
      " 76  SuggestionsOrRecommendations  270 non-null    object\n",
      "dtypes: object(77)\n",
      "memory usage: 1.7+ MB\n"
     ]
    }
   ],
   "source": [
    "df.info()"
   ]
  },
  {
   "cell_type": "code",
   "execution_count": 12,
   "metadata": {},
   "outputs": [
    {
     "data": {
      "text/plain": [
       "array(['31-35', nan, '15- 20', '21- 25', '26- 30', '15- 20, 21- 25',\n",
       "       '15- 20, 26- 30', '21- 25, 26- 30', '21- 25, 31-35',\n",
       "       '26- 30, 31-35'], dtype=object)"
      ]
     },
     "execution_count": 12,
     "metadata": {},
     "output_type": "execute_result"
    }
   ],
   "source": [
    "df['Age'].unique()"
   ]
  },
  {
   "cell_type": "code",
   "execution_count": 13,
   "metadata": {},
   "outputs": [],
   "source": [
    "df['Age'] = df['Age'].str.replace(\" \", \"\")\n",
    "\n",
    "#  Handle multiple ranges\n",
    "# Convert multiple ranges to a single range by taking the first one\n",
    "df['Age'] = df['Age'].apply(lambda x: x.split(',')[0] if isinstance(x, str) else x)\n",
    "\n",
    "#  Optionally, fill NaN with 'Unknown' or other placeholder\n",
    "df['Age'] = df['Age'].fillna('Unknown')\n",
    "\n"
   ]
  },
  {
   "cell_type": "code",
   "execution_count": 14,
   "metadata": {},
   "outputs": [
    {
     "data": {
      "text/plain": [
       "array(['31-35', 'Unknown', '15-20', '21-25', '26-30'], dtype=object)"
      ]
     },
     "execution_count": 14,
     "metadata": {},
     "output_type": "execute_result"
    }
   ],
   "source": [
    "df['Age'].unique()"
   ]
  },
  {
   "cell_type": "code",
   "execution_count": 15,
   "metadata": {},
   "outputs": [
    {
     "data": {
      "text/plain": [
       "array(['Male', nan, 'Female', 'Male, Female'], dtype=object)"
      ]
     },
     "execution_count": 15,
     "metadata": {},
     "output_type": "execute_result"
    }
   ],
   "source": [
    "df['Gender'].unique()"
   ]
  },
  {
   "cell_type": "code",
   "execution_count": 16,
   "metadata": {},
   "outputs": [],
   "source": [
    "##  Standardize multiple values to a single value, taking the first listed gender\n",
    "df['Gender'] = df['Gender'].apply(lambda x: x.split(',')[0].strip() if isinstance(x, str) else x)\n",
    "\n",
    "# Fill NaN values with 'Unknown' or another placeholder\n",
    "df['Gender'] = df['Gender'].fillna('Unknown')\n"
   ]
  },
  {
   "cell_type": "code",
   "execution_count": 17,
   "metadata": {},
   "outputs": [
    {
     "data": {
      "text/plain": [
       "array(['Male', 'Unknown', 'Female'], dtype=object)"
      ]
     },
     "execution_count": 17,
     "metadata": {},
     "output_type": "execute_result"
    }
   ],
   "source": [
    "df['Gender'].unique()"
   ]
  },
  {
   "cell_type": "code",
   "execution_count": 18,
   "metadata": {},
   "outputs": [
    {
     "data": {
      "text/plain": [
       "array(['Maried', nan, 'Single'], dtype=object)"
      ]
     },
     "execution_count": 18,
     "metadata": {},
     "output_type": "execute_result"
    }
   ],
   "source": [
    "df['MaritalStatus'].unique()"
   ]
  },
  {
   "cell_type": "code",
   "execution_count": 19,
   "metadata": {},
   "outputs": [
    {
     "data": {
      "text/plain": [
       "array(['Yes', nan, 'No'], dtype=object)"
      ]
     },
     "execution_count": 19,
     "metadata": {},
     "output_type": "execute_result"
    }
   ],
   "source": [
    "df['HasChildren'].unique()"
   ]
  },
  {
   "cell_type": "code",
   "execution_count": 20,
   "metadata": {},
   "outputs": [
    {
     "data": {
      "text/plain": [
       "array([3, nan, 'One', 'Two', 'I dont', 'One ', 5, 2, 'Zero', 1, 'None ',\n",
       "       'Three', 'One Child', 'Non', 4, 'No children ', 'Two ', 0, '0ne',\n",
       "       'Tow', 'Threee', '( 1 ) one ', 'Four', 'No ', 'Six', 'Three ',\n",
       "       'Four ', 'one', 'TWO', 'One daughter ', 7, 6, 'Can’t disclose ',\n",
       "       'Not yet', 'ONE'], dtype=object)"
      ]
     },
     "execution_count": 20,
     "metadata": {},
     "output_type": "execute_result"
    }
   ],
   "source": [
    "df['NumChildren'].unique()"
   ]
  },
  {
   "cell_type": "code",
   "execution_count": 21,
   "metadata": {},
   "outputs": [],
   "source": [
    "#  Define a dictionary to map textual numbers to integers\n",
    "text_to_num = {\n",
    "    'zero': 0, 'none': 0, 'no': 0, 'not yet': 0, 'no children': 0, 'i dont': 0, 'non': 0,\n",
    "    'one': 1, '1': 1, '(1) one': 1, 'one child': 1, 'one daughter': 1, '0ne': 1, 'ONE': 1,\n",
    "    'two': 2, 'tow': 2, 'two ': 2, 'TWO': 2,\n",
    "    'three': 3, 'threee': 3, 'three ': 3,\n",
    "    'four': 4, 'four ': 4,\n",
    "    'five': 5,\n",
    "    'six': 6,\n",
    "    'seven': 7\n",
    "}\n",
    "\n",
    "# Clean the data\n",
    "# Convert all values to lowercase and strip whitespace\n",
    "df['NumChildren'] = df['NumChildren'].astype(str).str.strip().str.lower()\n",
    "\n",
    "# Map text values to numbers\n",
    "df['NumChildren'] = df['NumChildren'].replace(text_to_num)\n",
    "\n",
    "# Handle non-numeric and irrelevant entries\n",
    "# Convert entries that could not be mapped to a number to NaN\n",
    "df['NumChildren'] = pd.to_numeric(df['NumChildren'], errors='coerce')\n",
    "\n",
    "# Step 4: Optionally, fill NaN with 0 or another placeholder (which mean 'no children')\n",
    "df['NumChildren'] = df['NumChildren'].fillna(0)"
   ]
  },
  {
   "cell_type": "code",
   "execution_count": 22,
   "metadata": {},
   "outputs": [
    {
     "data": {
      "text/plain": [
       "array([3., 0., 1., 2., 5., 4., 6., 7.])"
      ]
     },
     "execution_count": 22,
     "metadata": {},
     "output_type": "execute_result"
    }
   ],
   "source": [
    "df['NumChildren'].unique()"
   ]
  },
  {
   "cell_type": "code",
   "execution_count": 23,
   "metadata": {},
   "outputs": [
    {
     "data": {
      "text/plain": [
       "array(['No', nan, 'Yes'], dtype=object)"
      ]
     },
     "execution_count": 23,
     "metadata": {},
     "output_type": "execute_result"
    }
   ],
   "source": [
    "df['HasDisability'].unique()"
   ]
  },
  {
   "cell_type": "code",
   "execution_count": 24,
   "metadata": {},
   "outputs": [
    {
     "data": {
      "text/plain": [
       "array([nan, 'Physically Challenged (Hands and Legs)', 'Visual impairment',\n",
       "       'Psychological/mental disorder', 'Hearing impairment', 'Albinism',\n",
       "       'Speech impairment', 'Hearing impairment, Speech impairment',\n",
       "       'Speech impairment, Psychological/mental disorder',\n",
       "       'Physically Challenged (Hands and Legs), Hearing impairment'],\n",
       "      dtype=object)"
      ]
     },
     "execution_count": 24,
     "metadata": {},
     "output_type": "execute_result"
    }
   ],
   "source": [
    "df['DisabilityType'].unique()"
   ]
  },
  {
   "cell_type": "code",
   "execution_count": 25,
   "metadata": {},
   "outputs": [
    {
     "name": "stdout",
     "output_type": "stream",
     "text": [
      "['Hearing Impairment', 'Speech Impairment', 'physically challenged (hands and legs)', 'hearing impairment', 'Mental Disorder', 'psychological/mental disorder', 'speech impairment', 'none', 'Visual Impairment', 'Physical Disability', 'Albinism']\n"
     ]
    }
   ],
   "source": [
    "#  Replace NaN with a placeholder ('None')\n",
    "df['DisabilityType'] = df['DisabilityType'].fillna('None')\n",
    "\n",
    "# : Standardize terms: strip extra spaces, and lowercase the text\n",
    "df['DisabilityType'] = df['DisabilityType'].str.strip().str.lower()\n",
    "\n",
    "# : Standardize terms based on predefined mapping\n",
    "standard_disabilities = {\n",
    "    'physically challenged (hands and legs)': 'Physical Disability',\n",
    "    'visual impairment': 'Visual Impairment',\n",
    "    'psychological/mental disorder': 'Mental Disorder',\n",
    "    'hearing impairment': 'Hearing Impairment',\n",
    "    'albinism': 'Albinism',\n",
    "    'speech impairment': 'Speech Impairment'\n",
    "}\n",
    "\n",
    "# Replace each disability type with the standardized name\n",
    "df['DisabilityType'] = df['DisabilityType'].apply(lambda x: standard_disabilities.get(x, x))\n",
    "\n",
    "#  Split entries that contain multiple disabilities and flatten the list\n",
    "df['DisabilityType'] = df['DisabilityType'].apply(lambda x: x.split(', ') if ', ' in x else [x])\n",
    "\n",
    "# Flatten and remove duplicates\n",
    "flattened_disabilities = [disability for sublist in df['DisabilityType'] for disability in sublist]\n",
    "cleaned_disabilities = list(set(flattened_disabilities))\n",
    "\n",
    "# Print the cleaned unique disability types\n",
    "print(cleaned_disabilities)"
   ]
  },
  {
   "cell_type": "code",
   "execution_count": null,
   "metadata": {},
   "outputs": [],
   "source": []
  },
  {
   "cell_type": "markdown",
   "metadata": {},
   "source": [
    "### CLEANING _DayLocation_ FEATURE"
   ]
  },
  {
   "cell_type": "code",
   "execution_count": 26,
   "metadata": {},
   "outputs": [
    {
     "name": "stdout",
     "output_type": "stream",
     "text": [
      "There are 101 missing values in this feature\n",
      "Number of unique responses is 322\n"
     ]
    }
   ],
   "source": [
    "df['DayLocation'] = df['DayLocation']\n",
    "missing_vals = df['DayLocation'].isna().sum()\n",
    "\n",
    "print(f\"There are {missing_vals} missing values in this feature\")\n",
    "\n",
    "# Removing whitespaces, recasting to lower case and removing all punctuations\n",
    "df['DayLocation'] = df['DayLocation'].str.strip().str.lower().str.replace('[^\\w\\s]', '', regex=True)\n",
    "\n",
    "# Filling the missing values with 'unknown' temporarily\n",
    "df['DayLocation'].fillna('unknown', inplace=True)\n",
    "\n",
    "\n",
    "print(f\"Number of unique responses is {df['DayLocation'].nunique()}\")\n",
    "\n",
    "def cleaning_home_helper(val):\n",
    "    if 'home' in val or 'house' in val:\n",
    "        if 'home or school' in val or 'home pr on campus' in val or 'home or at school' in val or 'school and home' in val or 'at school and at home' in val:\n",
    "            return 'home_or_school'\n",
    "        if 'home or work' in val or 'work or home' in val or 'at work and at home' in val or 'work place snnit house' in val:\n",
    "            return 'home_or_work'\n",
    "        if 'house' in val or 'home' in val:\n",
    "            return 'home'\n",
    "    return val\n",
    "        \n",
    "    \n",
    "# Generic cleaning function\n",
    "def generic_cleaner(val, keyword, recoded):\n",
    "    \"\"\"\n",
    "    Args:\n",
    "        val (str): entry in dataset\n",
    "        keyword (str): keyword to search for in val\n",
    "        recoded (str): new word used to replace val\n",
    "\n",
    "    Returns:\n",
    "        str: recoded word\n",
    "    \"\"\"\n",
    "    if keyword in val:\n",
    "        return recoded\n",
    "    return val        "
   ]
  },
  {
   "cell_type": "code",
   "execution_count": 27,
   "metadata": {},
   "outputs": [
    {
     "name": "stdout",
     "output_type": "stream",
     "text": [
      "Number of unique responses is 19\n"
     ]
    },
    {
     "data": {
      "text/plain": [
       "array(['home', 'unknown', 'town', 'school', 'workplace', 'game_centre',\n",
       "       'home_or_work', 'worship_place', 'football_field', 'street',\n",
       "       'ghetto', 'hospital', 'bar', 'library', 'station', 'internet_cafe',\n",
       "       'betting_centre', 'hotel', 'zongo'], dtype=object)"
      ]
     },
     "execution_count": 27,
     "metadata": {},
     "output_type": "execute_result"
    }
   ],
   "source": [
    "### Cleaning for school\n",
    "for i in range(len(df['DayLocation'])):\n",
    "    df['DayLocation'][i] = generic_cleaner(df['DayLocation'][i], 'scho', 'school') # recoding for school\n",
    "    df['DayLocation'][i] = generic_cleaner(df['DayLocation'][i], 'cam', 'school') # For observations capture as campus\n",
    "    df['DayLocation'][i] = generic_cleaner(df['DayLocation'][i], 'class', 'school') # For observations captured as classes\n",
    "    df['DayLocation'][i] = generic_cleaner(df['DayLocation'][i], 'schiol', 'school')\n",
    "    df['DayLocation'][i] = generic_cleaner(df['DayLocation'][i], 'all nations university', 'school')\n",
    "    df['DayLocation'][i] = generic_cleaner(df['DayLocation'][i], 'learning', 'school')\n",
    "    df['DayLocation'][i] = generic_cleaner(df['DayLocation'][i], 'leaning', 'school')\n",
    "    df['DayLocation'][i] = generic_cleaner(df['DayLocation'][i], 'sch', 'school')\n",
    "    \n",
    "    \n",
    "    \n",
    "    \n",
    "    \n",
    "towns_listed = ['morovia', 'betom', 'asakore', 'srodae', 'yaw kyerema', 'adweso', 'asokore', 'trom', 'nkurakine', 'effiduase', 'betom riss', 'high way',\n",
    "       'pentecosts area nyamekrom', 'jubilee park', 'yawkyerema', 'atekyem', 'snnit', 'nsukwao', 'nsukwao estate junction', 'koforidua', 'assciontion presby',\n",
    "       'moronvia', 'galloway', 'agaveye', 'kassadjan', 'base', 'apenkwa', 'poly', 'asokorekoforidua', 'indoors', 'mile 50', 'residential area', 'railways', \n",
    "       'pipeline', 'kete krachi', 'old estate', 'apenkwa new site', 'monrovia', 'ada', 'kenkey factory', 'mallam park', 'old traffic', 'kasajan', \n",
    "       'sempoamiensa', 'drug lane', 'oguaa']\n",
    "# I will encode all the areas listed by name as 'home'\n",
    "\n",
    "### Cleaning for home\n",
    "for i in range(len(df['DayLocation'])):\n",
    "    df['DayLocation'][i] = cleaning_home_helper(df['DayLocation'][i])\n",
    "    df['DayLocation'][i] = generic_cleaner(df['DayLocation'][i], 'room', 'home')\n",
    "    df['DayLocation'][i] = generic_cleaner(df['DayLocation'][i], 'anlo town', 'home')\n",
    "    df['DayLocation'][i] = generic_cleaner(df['DayLocation'][i], 'hime', 'home')\n",
    "    df['DayLocation'][i] = generic_cleaner(df['DayLocation'][i], 'normally spend time grandmom cos does what i love most', 'home')\n",
    "    df['DayLocation'][i] = generic_cleaner(df['DayLocation'][i], 'com', 'home')\n",
    "    df['DayLocation'][i] = generic_cleaner(df['DayLocation'][i], 'are', 'home')\n",
    "    df['DayLocation'][i] = generic_cleaner(df['DayLocation'][i], 'fri', 'home')\n",
    "    \n",
    "for ele in  towns_listed:\n",
    "    for i in range(len(df['DayLocation'])):\n",
    "        df['DayLocation'][i] = generic_cleaner(df['DayLocation'][i], ele, 'home')\n",
    "    \n",
    "### Cleaning for Workplace\n",
    "for i in range(len(df['DayLocation'])):\n",
    "    if df['DayLocation'][i] == 'home_or_work':\n",
    "        continue\n",
    "    df['DayLocation'][i] = generic_cleaner(df['DayLocation'][i], 'wor', 'workplace') \n",
    "    df['DayLocation'][i] = generic_cleaner(df['DayLocation'][i], 'sho', 'workplace') # For observations with captured as shops\n",
    "    df['DayLocation'][i] = generic_cleaner(df['DayLocation'][i], 'most at the construction site', 'workplace')\n",
    "    df['DayLocation'][i] = generic_cleaner(df['DayLocation'][i], 'mar', 'workplace') \n",
    "    df['DayLocation'][i] = generic_cleaner(df['DayLocation'][i], 'at the makert', 'workplace') \n",
    "    df['DayLocation'][i] = generic_cleaner(df['DayLocation'][i], 'sto', 'workplace') \n",
    "    df['DayLocation'][i] = generic_cleaner(df['DayLocation'][i], 'woek', 'workplace') \n",
    "    df['DayLocation'][i] = generic_cleaner(df['DayLocation'][i], 'wok', 'workplace') \n",
    "    df['DayLocation'][i] = generic_cleaner(df['DayLocation'][i], 'sell', 'workplace')\n",
    "    df['DayLocation'][i] = generic_cleaner(df['DayLocation'][i], 'taxi driver', 'workplace')\n",
    "    df['DayLocation'][i] = generic_cleaner(df['DayLocation'][i], 'at the chopbar serving', 'workplace')\n",
    "    df['DayLocation'][i] = generic_cleaner(df['DayLocation'][i], 'teaching', 'workplace')\n",
    "    df['DayLocation'][i] = generic_cleaner(df['DayLocation'][i], 'attachment', 'workplace')\n",
    "    df['DayLocation'][i] = generic_cleaner(df['DayLocation'][i], 'site', 'workplace')\n",
    "    df['DayLocation'][i] = generic_cleaner(df['DayLocation'][i], 'job', 'workplace')\n",
    "    df['DayLocation'][i] = generic_cleaner(df['DayLocation'][i], 'office', 'workplace')\n",
    "    df['DayLocation'][i] = generic_cleaner(df['DayLocation'][i], 'wo4', 'workplace')\n",
    "    df['DayLocation'][i] = generic_cleaner(df['DayLocation'][i], 'far', 'workplace')\n",
    "    df['DayLocation'][i] = generic_cleaner(df['DayLocation'][i], 'trading', 'workplace')\n",
    "    df['DayLocation'][i] = generic_cleaner(df['DayLocation'][i], 'nankese', 'workplace')\n",
    "    \n",
    "    \n",
    "    \n",
    "### Cleaning for church\n",
    "for i in range(len(df['DayLocation'])):\n",
    "    df['DayLocation'][i] = generic_cleaner(df['DayLocation'][i], 'chu', 'worship_place')\n",
    "    df['DayLocation'][i] = generic_cleaner(df['DayLocation'][i], 'mosq', 'worship_place')\n",
    "    df['DayLocation'][i] = generic_cleaner(df['DayLocation'][i], 'singing', 'worship_place')\n",
    "    \n",
    "\n",
    "\n",
    "### Cleaning for ghetto\n",
    "for i in range(len(df['DayLocation'])):\n",
    "    df['DayLocation'][i] = generic_cleaner(df['DayLocation'][i], 'ge', 'ghetto')\n",
    "    df['DayLocation'][i] = generic_cleaner(df['DayLocation'][i], 'ghe', 'ghetto')\n",
    "    df['DayLocation'][i] = generic_cleaner(df['DayLocation'][i], 'gator', 'ghetto')\n",
    "    \n",
    "# ### Cleaning for street\n",
    "for i in range(len(df['DayLocation'])):\n",
    "    df['DayLocation'][i] = generic_cleaner(df['DayLocation'][i], 'str', 'street')\n",
    "    df['DayLocation'][i] = generic_cleaner(df['DayLocation'][i], 'roa', 'street')\n",
    "    df['DayLocation'][i] = generic_cleaner(df['DayLocation'][i], 'on the outdoors', 'street')\n",
    "    \n",
    "    \n",
    "    \n",
    "# ### Cleaning for hospital\n",
    "for i in range(len(df['DayLocation'])):\n",
    "    df['DayLocation'][i] = generic_cleaner(df['DayLocation'][i], 'hos', 'hospital')\n",
    "    df['DayLocation'][i] = generic_cleaner(df['DayLocation'][i], 'cli', 'hospital')\n",
    "    \n",
    "### Cleaning for town\n",
    "for i in range(len(df['DayLocation'])):\n",
    "    df['DayLocation'][i] = generic_cleaner(df['DayLocation'][i], 'tow', 'town')\n",
    "    df['DayLocation'][i] = generic_cleaner(df['DayLocation'][i], 'in the t', 'town')\n",
    "    df['DayLocation'][i] = generic_cleaner(df['DayLocation'][i], 'searching for a job', 'town')\n",
    "    \n",
    "### Cleaning for station\n",
    "for i in range(len(df['DayLocation'])):\n",
    "    df['DayLocation'][i] = generic_cleaner(df['DayLocation'][i], 'stati', 'station')\n",
    "    df['DayLocation'][i] = generic_cleaner(df['DayLocation'][i], 'accra staion', 'station')\n",
    "\n",
    "### Cleaning for library\n",
    "for i in range(len(df['DayLocation'])):\n",
    "    df['DayLocation'][i] = generic_cleaner(df['DayLocation'][i], 'lib', 'library')\n",
    "    \n",
    "### Cleaning for cafe\n",
    "for i in range(len(df['DayLocation'])):\n",
    "    df['DayLocation'][i] = generic_cleaner(df['DayLocation'][i], 'caf', 'internet_cafe')\n",
    "    df['DayLocation'][i] = generic_cleaner(df['DayLocation'][i], 'on the internet', 'internet_cafe')\n",
    "    \n",
    "### Cleaning for bar\n",
    "for i in range(len(df['DayLocation'])):\n",
    "    df['DayLocation'][i] = generic_cleaner(df['DayLocation'][i], 'pub', 'bar')\n",
    "\n",
    "### Cleaning for gaming centre\n",
    "for i in range(len(df['DayLocation'])):\n",
    "    df['DayLocation'][i] = generic_cleaner(df['DayLocation'][i], 'game center', 'game_centre')\n",
    "    df['DayLocation'][i] = generic_cleaner(df['DayLocation'][i], 'gaming centre', 'game_centre')\n",
    "    df['DayLocation'][i] = generic_cleaner(df['DayLocation'][i], 'playing game', 'game_centre')\n",
    "    \n",
    "### Cleaning for football field\n",
    "for i in range(len(df['DayLocation'])):\n",
    "    df['DayLocation'][i] = generic_cleaner(df['DayLocation'][i], 'football field', 'football_field')\n",
    "    df['DayLocation'][i] = generic_cleaner(df['DayLocation'][i], 'at the peace', 'football_field')\n",
    "    df['DayLocation'][i] = generic_cleaner(df['DayLocation'][i], 'peace park', 'football_field')\n",
    "    df['DayLocation'][i] = generic_cleaner(df['DayLocation'][i], 'peer park', 'football_field')\n",
    "    df['DayLocation'][i] = generic_cleaner(df['DayLocation'][i], 'at the park', 'football_field')\n",
    "    df['DayLocation'][i] = generic_cleaner(df['DayLocation'][i], 'on the pitch', 'football_field')\n",
    "    df['DayLocation'][i] = generic_cleaner(df['DayLocation'][i], 'park', 'football_field')\n",
    "    \n",
    "    \n",
    "### Cleaning for hotel\n",
    "for i in range(len(df['DayLocation'])):\n",
    "    df['DayLocation'][i] = generic_cleaner(df['DayLocation'][i], 'hotel fun', 'hotel')\n",
    "\n",
    "\n",
    "### Cleaning for betting centre\n",
    "for i in range(len(df['DayLocation'])):\n",
    "    df['DayLocation'][i] = generic_cleaner(df['DayLocation'][i], 'sporty bet centre', 'betting_centre')\n",
    "    \n",
    "###  Unknown\n",
    "for i in range(len(df['DayLocation'])):\n",
    "    df['DayLocation'][i] = generic_cleaner(df['DayLocation'][i], 'i spend most of my time at', 'unknown')\n",
    "\n",
    "print(f\"Number of unique responses is {df['DayLocation'].nunique()}\")\n",
    "\n",
    "df['DayLocation'].unique()\n"
   ]
  },
  {
   "cell_type": "markdown",
   "metadata": {},
   "source": [
    "### CLEANING _NightLocation_ FEATURE"
   ]
  },
  {
   "cell_type": "code",
   "execution_count": 28,
   "metadata": {},
   "outputs": [
    {
     "name": "stdout",
     "output_type": "stream",
     "text": [
      "Number of unique responses is 236\n",
      "Number of unique responses is 14\n",
      "['home' 'unknown' 'workplace' 'street' 'worship_place' 'ghetto' 'school'\n",
      " 'zongo' 'bar' 'station' 'hospital' 'cafe' 'gaming_centre' 'hotel']\n"
     ]
    }
   ],
   "source": [
    "# Removing whitespaces, recasting to lower case and removing all punctuations\n",
    "df['NightLocation'] = df['NightLocation'].str.strip().str.lower().str.replace('[^\\w\\s]', '', regex=True)\n",
    "\n",
    "# Filling the missing values with 'unknown' temporarily\n",
    "df['NightLocation'].fillna('unknown', inplace=True)\n",
    "\n",
    "print(f\"Number of unique responses is {df['NightLocation'].nunique()}\")\n",
    "\n",
    "### Cleaning for home\n",
    "for i in range(len(df['NightLocation'])):\n",
    "    df['NightLocation'][i] = generic_cleaner(df['NightLocation'][i], 'home', 'home')\n",
    "    df['NightLocation'][i] = generic_cleaner(df['NightLocation'][i], 'house', 'home')\n",
    "    df['NightLocation'][i] = generic_cleaner(df['NightLocation'][i], 'abode', 'home')\n",
    "    df['NightLocation'][i] = generic_cleaner(df['NightLocation'][i], 'parents place', 'home')\n",
    "    df['NightLocation'][i] = generic_cleaner(df['NightLocation'][i], 'room', 'home')\n",
    "    df['NightLocation'][i] = generic_cleaner(df['NightLocation'][i], 'residence', 'home')\n",
    "    df['NightLocation'][i] = generic_cleaner(df['NightLocation'][i], 'fri', 'home')\n",
    "    df['NightLocation'][i] = generic_cleaner(df['NightLocation'][i], 'parent', 'home')\n",
    "    df['NightLocation'][i] = generic_cleaner(df['NightLocation'][i], 'mum', 'home')\n",
    "    df['NightLocation'][i] = generic_cleaner(df['NightLocation'][i], 'mom', 'home')\n",
    "    df['NightLocation'][i] = generic_cleaner(df['NightLocation'][i], 'rented', 'home')\n",
    "    df['NightLocation'][i] = generic_cleaner(df['NightLocation'][i], 'bed', 'home')\n",
    "    df['NightLocation'][i] = generic_cleaner(df['NightLocation'][i], 'apartment', 'home')\n",
    "    df['NightLocation'][i] = generic_cleaner(df['NightLocation'][i], 'hone', 'home')\n",
    "    df['NightLocation'][i] = generic_cleaner(df['NightLocation'][i], 'perching', 'home')\n",
    "    df['NightLocation'][i] = generic_cleaner(df['NightLocation'][i], 'hom', 'home')\n",
    "    df['NightLocation'][i] = generic_cleaner(df['NightLocation'][i], 'homw', 'home')\n",
    "    df['NightLocation'][i] = generic_cleaner(df['NightLocation'][i], 'base', 'home')\n",
    "    \n",
    "towns_listed_night = ['kasajan', 'sempoamiensa', 'nsukwao', 'oguaa', 'betom', 'srodie', 'adweso', 'anlo town', 'klutown', 'apenkwa', 'abotanso', 'asokore', 'trom', 'oyoko', 'yawkyerema',\n",
    "                    'klu town', 'bonya', 'alon town', 'ada', 'effiduase', 'kassadjan', 'korle', 'cantudu', 'major 1', 'nsukwa', 'old estate', 'klu town', 'yaw kyerema', 'two streams',\n",
    "                    'pipeline', 'shadrak', 'anglo town', 'monrovia', 'moronvia', 'morovia', 'koforidua', 'effeduase prisons', 'nyamekrom', 'osabene', 'sorodae', 'atekyem',  'nankese',\n",
    "                    'pantoase', 'yaw', 'mile 50', 'srodae', 'agata', 'estate', 'mallam park', 'agartha', 'wanzam', 'agatha', 'agavenya', 'community', 'my area', 'areas']\n",
    "\n",
    "for ele in towns_listed_night:\n",
    "    for i in range(len(df['NightLocation'])):\n",
    "        df['NightLocation'][i] = generic_cleaner(df['NightLocation'][i], ele, 'home')\n",
    "\n",
    "### Cleaning for work\n",
    "for i in range(len(df['NightLocation'])):\n",
    "    df['NightLocation'][i] = generic_cleaner(df['NightLocation'][i], 'wor', 'workplace')\n",
    "    df['NightLocation'][i] = generic_cleaner(df['NightLocation'][i], 'at my shop', 'workplace')\n",
    "    df['NightLocation'][i] = generic_cleaner(df['NightLocation'][i], 'close late in the night', 'workplace')\n",
    "    df['NightLocation'][i] = generic_cleaner(df['NightLocation'][i], 'veterans administration', 'workplace')\n",
    "    df['NightLocation'][i] = generic_cleaner(df['NightLocation'][i], 'sometimes in the farm', 'workplace')\n",
    "    \n",
    "### Cleaning for school\n",
    "for i in range(len(df['NightLocation'])):\n",
    "    df['NightLocation'][i] = generic_cleaner(df['NightLocation'][i], 'sch', 'school')\n",
    "    df['NightLocation'][i] = generic_cleaner(df['NightLocation'][i], 'host', 'school')\n",
    "    df['NightLocation'][i] = generic_cleaner(df['NightLocation'][i], 'camp', 'school')\n",
    "    df['NightLocation'][i] = generic_cleaner(df['NightLocation'][i], 'dormitory', 'school')\n",
    "\n",
    "### Cleaning for street\n",
    "for i in range(len(df['NightLocation'])):\n",
    "    df['NightLocation'][i] = generic_cleaner(df['NightLocation'][i], 'stree', 'street')\n",
    "    df['NightLocation'][i] = generic_cleaner(df['NightLocation'][i], 'road', 'street')\n",
    "    df['NightLocation'][i] = generic_cleaner(df['NightLocation'][i], 'sho', 'street')\n",
    "    df['NightLocation'][i] = generic_cleaner(df['NightLocation'][i], 'outside', 'street')\n",
    "    df['NightLocation'][i] = generic_cleaner(df['NightLocation'][i], 'market', 'street')\n",
    "    df['NightLocation'][i] = generic_cleaner(df['NightLocation'][i], 'town', 'street')\n",
    "    df['NightLocation'][i] = generic_cleaner(df['NightLocation'][i], 'total 4', 'street')\n",
    "    df['NightLocation'][i] = generic_cleaner(df['NightLocation'][i], 'uncomplete building', 'street')\n",
    "    df['NightLocation'][i] = generic_cleaner(df['NightLocation'][i], 'bula sport', 'street')\n",
    "    df['NightLocation'][i] = generic_cleaner(df['NightLocation'][i], 'park', 'street')\n",
    "    \n",
    "### Cleaning for station\n",
    "for i in range(len(df['NightLocation'])):\n",
    "    df['NightLocation'][i] = generic_cleaner(df['NightLocation'][i], 'stati', 'station')\n",
    "    \n",
    "### Cleaning for ghetto\n",
    "for i in range(len(df['NightLocation'])):\n",
    "    df['NightLocation'][i] = generic_cleaner(df['NightLocation'][i], 'ge', 'ghetto')\n",
    "    df['NightLocation'][i] = generic_cleaner(df['NightLocation'][i], 'ghe', 'ghetto')\n",
    "\n",
    "### Cleaning for zongo\n",
    "for i in range(len(df['NightLocation'])):\n",
    "    df['NightLocation'][i] = generic_cleaner(df['NightLocation'][i], 'zo', 'zongo')\n",
    "\n",
    "### Cleaning for church\n",
    "for i in range(len(df['NightLocation'])):\n",
    "    df['NightLocation'][i] = generic_cleaner(df['NightLocation'][i], 'chu', 'worship_place')\n",
    "\n",
    "### Cleaning for hospital\n",
    "for i in range(len(df['NightLocation'])):\n",
    "    df['NightLocation'][i] = generic_cleaner(df['NightLocation'][i], 'hosp', 'hospital')\n",
    "    \n",
    "### Cleaning for cafe\n",
    "for i in range(len(df['NightLocation'])):\n",
    "    df['NightLocation'][i] = generic_cleaner(df['NightLocation'][i], 'caf', 'cafe')\n",
    "    \n",
    "### Cleaning for gaming centre\n",
    "for i in range(len(df['NightLocation'])):\n",
    "    df['NightLocation'][i] = generic_cleaner(df['NightLocation'][i], 'game center', 'gaming_centre')    \n",
    "    \n",
    "###  Unknown\n",
    "for i in range(len(df['DayLocation'])):\n",
    "    df['NightLocation'][i] = generic_cleaner(df['NightLocation'][i], 'how', 'unknown')\n",
    "    df['NightLocation'][i] = generic_cleaner(df['NightLocation'][i], 'no', 'unknown')\n",
    "    df['NightLocation'][i] = generic_cleaner(df['NightLocation'][i], 'yes', 'unknown')\n",
    "    df['NightLocation'][i] = generic_cleaner(df['NightLocation'][i], 'sometimes', 'unknown')\n",
    "    df['NightLocation'][i] = generic_cleaner(df['NightLocation'][i], 'joke', 'unknown')\n",
    "\n",
    "print(f\"Number of unique responses is {df['NightLocation'].nunique()}\")\n",
    "print(df['NightLocation'].unique())"
   ]
  },
  {
   "cell_type": "markdown",
   "metadata": {},
   "source": [
    "### _RESIDENCE_"
   ]
  },
  {
   "cell_type": "code",
   "execution_count": 29,
   "metadata": {},
   "outputs": [
    {
     "data": {
      "text/plain": [
       "{'OldEstateWest': 135,\n",
       " 'OldEstateEast': 138,\n",
       " 'Nyamekrom': 113,\n",
       " 'RailwayStation': 48,\n",
       " 'NsuakwoAbotanso': 104,\n",
       " 'Nsukwaoso': 277,\n",
       " 'OsabeneMile50': 79,\n",
       " 'AdwesoEstate': 48,\n",
       " 'AdwesoTown': 83,\n",
       " 'TwoStreams': 84,\n",
       " 'NyeredeNorth': 19,\n",
       " 'NyeredeSouth': 12,\n",
       " 'Oguaa': 109,\n",
       " 'ResidentialArea': 194,\n",
       " 'Sempoamiensa': 128,\n",
       " 'OhemaaPark': 213,\n",
       " 'Adontua': 4,\n",
       " 'SchoolTown': 7,\n",
       " 'Anglican': 41,\n",
       " 'Asuafiriso': 33,\n",
       " 'AnloTownSouth': 81,\n",
       " 'AnloTownNorth': 41,\n",
       " 'CentralHospital': 34,\n",
       " 'KluTownYawKyerema': 239,\n",
       " 'SocialWelfare': 75,\n",
       " 'CentralMarket': 20,\n",
       " 'Debrakrom': 15,\n",
       " 'AkwaasuAsebi': 27,\n",
       " 'Kantudu': 65,\n",
       " 'NewZongoAB': 123,\n",
       " 'NewZongoC': 99,\n",
       " 'NewZongoD': 146,\n",
       " 'Ada': 90}"
      ]
     },
     "execution_count": 29,
     "metadata": {},
     "output_type": "execute_result"
    }
   ],
   "source": [
    "residence_labs = []\n",
    "residence_in_df = []\n",
    "\n",
    "### Getting the indidual areas of residence\n",
    "for ele in df.columns:\n",
    "    if ele.startswith('Residence'):\n",
    "        residence_labs.append(''.join(ele.split('_')[1:]))\n",
    "        residence_in_df.append(ele)\n",
    "        \n",
    "###  Getting the count of the number of observations in each area of residence        \n",
    "residence_Count_ = dict()\n",
    "for i in range(len(residence_labs)):\n",
    "    residence_Count_[residence_labs[i]] = df[df[residence_in_df[i]] == 'Column 2'].shape[0]\n",
    "    \n",
    "residence_Count_"
   ]
  },
  {
   "cell_type": "code",
   "execution_count": 30,
   "metadata": {},
   "outputs": [
    {
     "data": {
      "text/plain": [
       "array(['Yes', nan, 'No', 'Maybe'], dtype=object)"
      ]
     },
     "execution_count": 30,
     "metadata": {},
     "output_type": "execute_result"
    }
   ],
   "source": [
    "df['OnWhatsApp'].unique()"
   ]
  },
  {
   "cell_type": "code",
   "execution_count": 31,
   "metadata": {},
   "outputs": [
    {
     "data": {
      "text/plain": [
       "array(['Yes', nan, 'No', 'Maybe'], dtype=object)"
      ]
     },
     "execution_count": 31,
     "metadata": {},
     "output_type": "execute_result"
    }
   ],
   "source": [
    "df['OnSocialMedia'].unique()"
   ]
  },
  {
   "cell_type": "code",
   "execution_count": 32,
   "metadata": {},
   "outputs": [],
   "source": [
    "df['SocialMediaPlatforms'].fillna('unknown', inplace=True)\n",
    "\n",
    "def feature_filler(feature, value):\n",
    "    if value in feature:\n",
    "        return value\n",
    "    else:\n",
    "        return 'unknown'\n",
    "\n",
    "### Creating new features for each of the social media platforms\n",
    "all_fb, all_twitter, all_instagram, all_snapchat, all_tiktok = [], [], [], [], []\n",
    "for i in range(df.shape[0]):\n",
    "    all_fb.append(feature_filler(df['SocialMediaPlatforms'][i], 'Facebook'))\n",
    "    all_twitter.append(feature_filler(df['SocialMediaPlatforms'][i], 'Tweeter'))\n",
    "    all_instagram.append(feature_filler(df['SocialMediaPlatforms'][i], 'Instagram'))\n",
    "    all_snapchat.append(feature_filler(df['SocialMediaPlatforms'][i], 'Snapchat'))\n",
    "    all_tiktok.append(feature_filler(df['SocialMediaPlatforms'][i], 'Tiktok'))\n",
    "    \n",
    "df['SocialMediaPlatforms_Facebook'] = all_fb\n",
    "df['SocialMediaPlatforms_Twitter'] = all_twitter\n",
    "df['SocialMediaPlatforms_Instagram'] = all_instagram\n",
    "df['SocialMediaPlatforms_Snapchat'] = all_snapchat\n",
    "df['SocialMediaPlatforms_Tiktok'] = all_tiktok\n",
    "\n",
    "### NB: In the newly created features, 'unknown' denotes missing values.\n",
    "\n",
    "### Dropping the SocialMediaPlatforms feature\n",
    "df.drop(labels=['SocialMediaPlatforms'], axis=1, inplace=True)\n"
   ]
  },
  {
   "cell_type": "code",
   "execution_count": 33,
   "metadata": {},
   "outputs": [
    {
     "data": {
      "text/plain": [
       "array(['Self-employed', nan, 'Unemployed', 'Employed'], dtype=object)"
      ]
     },
     "execution_count": 33,
     "metadata": {},
     "output_type": "execute_result"
    }
   ],
   "source": [
    "df['EmploymentStatus'].unique()"
   ]
  },
  {
   "cell_type": "markdown",
   "metadata": {},
   "source": [
    "### CLEANING _EmploymentNature_ FEATURE"
   ]
  },
  {
   "cell_type": "code",
   "execution_count": 34,
   "metadata": {},
   "outputs": [
    {
     "name": "stdout",
     "output_type": "stream",
     "text": [
      "The number of unique values is 543\n",
      "The number of unique values is 28\n"
     ]
    },
    {
     "data": {
      "text/plain": [
       "array(['unknown', 'fashion_designing/cloth_making',\n",
       "       'rendering_of_service', 'teaching', 'sales',\n",
       "       'employed_unspecified', 'civil_servant', 'engineering', 'banking',\n",
       "       'manufacturing', 'security', 'masonry',\n",
       "       'graphic_designing/photography', 'carpentry', 'farming',\n",
       "       'painting', 'training', 'driving', 'health_worker', 'baking',\n",
       "       'it_expert', 'marketing', 'rearing', 'machinery_operator',\n",
       "       'human_resource_manager', 'real_estate', 'adminstrator',\n",
       "       'accounting'], dtype=object)"
      ]
     },
     "execution_count": 34,
     "metadata": {},
     "output_type": "execute_result"
    }
   ],
   "source": [
    "print(f\"The number of unique values is {df['EmploymentNature'].nunique()}\")\n",
    "\n",
    "df['EmploymentNature'].fillna('unknown', inplace=True)\n",
    "\n",
    "# Removing whitespaces, recasting to lower case and removing all punctuations\n",
    "df['EmploymentNature'] = df['EmploymentNature'].str.strip().str.lower().str.replace('[^\\w\\s]', '', regex=True)\n",
    "\n",
    "employment_nature_dict = {\n",
    "    'adminstrator': ['adm'],\n",
    "    'fashion_designing/cloth_making': [\n",
    "        'fashion', 'seam', 'tail', 'tay', 'seems'\n",
    "    ],\n",
    "    'sales': [\n",
    "        'trad', 'sal', 'sel', 'vend', 'momo', 'market woman', 'shop', 'att', 'dea', 'del', 'mob', 'hawk', 'sto', 'working at filling station for someone',\n",
    "        'business', 'bout', 'pharmacy counter assistant', 'doing of spaghetti', 'working for someone at filling stations', 'cos', 'kfc', 'roaster',\n",
    "        'game center', 'supplier', 'buyer', 'provisions'\n",
    "    ],\n",
    "    'teaching': ['tea', 'early stage'],\n",
    "    'engineering': ['eng'],\n",
    "    'civil_servant': ['gov', 'civ', 'electoral commission ghana', 'work at electricity', 'mil', 'pol', 'municipal  assembly','cocobod',\n",
    "        'prisons officer', 'extension officer', 'records officer', 'office work', 'work with lands commission', 'lott', \n",
    "        'environmental protection agency', 'lab at intravenous', 'ncce', 'nya'\n",
    "    ],\n",
    "    'health_worker': ['nur', 'health', 'heath worker', 'doc', 'med', 'anaesthesia assistance', 'hos'],\n",
    "    'masonry': ['mas', 'const', 'work under someone by day', 'til' ],\n",
    "    'rendering_of_service': ['fit', 'mech', 'ren', 'hai', 'barb', 'kay', 'beau', 'makeup', 'plum', 'elect', 'cle', 'dj', 'servi', 'house keeping',\n",
    "            'school laboure', 'bouncer at soccerbet', 'labour work', 'rece', 'nss', 'hotel', 'wai', 'house help', 'nail technician',\n",
    "            'wash', 'cooking', 'helping travelers carry their luggages', 'load', 'kitchen assistant', 'zoom', 'interpreter', 'pop', 'roof', 'disc',\n",
    "            'laundry', 'glazing', 'mtn', 'tele', 'key cutting', 'fixing of glass', 'weld', 'shoe', 'caterer', 'sprayer', 'porter', 'potter', 'printing',\n",
    "            'guest house', 'repair', 'glass man', 'decorations', 'working under someone', 'working in a chop bar', 'advisor', 'secretary', \n",
    "            'mourtary manager', 'qnet', 'matron', 'hardware technician', 'fuel station supervisor',\n",
    "    ],\n",
    "    'human_resource_manager': ['human resource manager'],\n",
    "    'manufacturing': ['stee', 'alu', 'manu', 'blo', 'ben','water', 'production', 'producing raw materials for a company'],\n",
    "    'machinery_operator': ['ope'],\n",
    "    'carpentry': ['carp', 'cap'],\n",
    "    'driving': ['dri', 'rid'],\n",
    "    'farming': ['far', 'fam'],\n",
    "    'painting': ['paint'],\n",
    "    'baking': ['bak', 'pas'],\n",
    "    'banking': ['ban', 'loans officer', 'fina', 'susu', 'loan', 'credit', 'cashier'],\n",
    "    'graphic_designing/photography': ['grap', 'video editor'],\n",
    "    'marketing': ['mar'],\n",
    "    'accounting': ['acc', 'aco'],\n",
    "    'security': ['secu'],\n",
    "    'real_estate': ['real'],\n",
    "    'rearing': ['rea', 'bree'],\n",
    "    'it_expert': ['compu', 'it person', 'disc jockey and it personnel'],\n",
    "    'training': ['schooling'],\n",
    "    'employed_unspecified': ['full time', 'regular', 'at work', 'blas', 'private formal', 'company work', 'm'],\n",
    "    'unemployed': ['not employed yet']\n",
    "}\n",
    "\n",
    "def employment_nature_cleaner(val):\n",
    "    for grouping, challenges in employment_nature_dict.items():\n",
    "        if any(challenge in val for challenge in challenges):\n",
    "            return grouping\n",
    "    return 'unknown'\n",
    "\n",
    "df['EmploymentNature'] = df['EmploymentNature'].apply(employment_nature_cleaner)\n",
    "\n",
    "print(f\"The number of unique values is {df['EmploymentNature'].nunique()}\")\n",
    "\n",
    "df['EmploymentNature'].unique()\n"
   ]
  },
  {
   "cell_type": "code",
   "execution_count": 35,
   "metadata": {},
   "outputs": [
    {
     "data": {
      "text/plain": [
       "array(['No', nan, 'Yes', 'Maybe'], dtype=object)"
      ]
     },
     "execution_count": 35,
     "metadata": {},
     "output_type": "execute_result"
    }
   ],
   "source": [
    "df['JobSearchStatus'].unique()"
   ]
  },
  {
   "cell_type": "code",
   "execution_count": 36,
   "metadata": {},
   "outputs": [
    {
     "data": {
      "text/plain": [
       "array(['Yes', nan, 'No', 'Maybe'], dtype=object)"
      ]
     },
     "execution_count": 36,
     "metadata": {},
     "output_type": "execute_result"
    }
   ],
   "source": [
    "df['EmploymentSatisfaction'].unique()"
   ]
  },
  {
   "cell_type": "code",
   "execution_count": 37,
   "metadata": {},
   "outputs": [
    {
     "data": {
      "text/plain": [
       "array(['No', nan, 'Maybe', 'Yes'], dtype=object)"
      ]
     },
     "execution_count": 37,
     "metadata": {},
     "output_type": "execute_result"
    }
   ],
   "source": [
    "df['UndergoingTraining'].unique()"
   ]
  },
  {
   "cell_type": "markdown",
   "metadata": {},
   "source": [
    "### cleaning training type and reason  "
   ]
  },
  {
   "cell_type": "code",
   "execution_count": 38,
   "metadata": {},
   "outputs": [
    {
     "data": {
      "text/plain": [
       "array(['Yes', nan, 'No', 'Maybe'], dtype=object)"
      ]
     },
     "execution_count": 38,
     "metadata": {},
     "output_type": "execute_result"
    }
   ],
   "source": [
    "df['AccessToAmenities'].unique()"
   ]
  },
  {
   "cell_type": "code",
   "execution_count": 39,
   "metadata": {},
   "outputs": [
    {
     "data": {
      "text/plain": [
       "array(['Running /portable water, Electricity, Toilet facility, School, Hospital',\n",
       "       nan, 'Electricity',\n",
       "       'Running /portable water, Electricity, School, Hospital', 'School',\n",
       "       'Hospital', 'Electricity, Toilet facility, School, Hospital',\n",
       "       'Running /portable water, Electricity, Hospital',\n",
       "       'Electricity, Toilet facility, Hospital',\n",
       "       'Running /portable water, Electricity, Toilet facility',\n",
       "       'Running /portable water',\n",
       "       'Running /portable water, Electricity, Toilet facility, Hospital',\n",
       "       'Running /portable water, Electricity', 'Electricity, Hospital',\n",
       "       'Running /portable water, Electricity, Toilet facility, School',\n",
       "       'Electricity, Toilet facility',\n",
       "       'Running /portable water, Electricity, School',\n",
       "       'Electricity, School, Hospital',\n",
       "       'Electricity, Toilet facility, School', 'Toilet facility',\n",
       "       'Running /portable water, Hospital',\n",
       "       'Running /portable water, Toilet facility',\n",
       "       'Running /portable water, Toilet facility, School, Hospital',\n",
       "       'Toilet facility, School, Hospital', 'Electricity, School',\n",
       "       'School, Hospital',\n",
       "       'Running /portable water, Toilet facility, School',\n",
       "       'Running /portable water, School', 'Toilet facility, Hospital',\n",
       "       'Running /portable water, Toilet facility, Hospital',\n",
       "       'Toilet facility, School'], dtype=object)"
      ]
     },
     "execution_count": 39,
     "metadata": {},
     "output_type": "execute_result"
    }
   ],
   "source": [
    "df['AmenitiesType'].unique()"
   ]
  },
  {
   "cell_type": "markdown",
   "metadata": {},
   "source": [
    "#### cleaning amenitiestype \n"
   ]
  },
  {
   "cell_type": "code",
   "execution_count": 40,
   "metadata": {},
   "outputs": [
    {
     "name": "stdout",
     "output_type": "stream",
     "text": [
      "'Toilet Facility':\n",
      "'School':\n",
      "'Water':\n",
      "'Hospital':\n",
      "'Electricity':\n",
      "'No amenities':\n",
      "'Electricity':\n",
      "'Hospital':\n",
      "'School':\n",
      "'Electricity':\n",
      "'Water':\n",
      "'School':\n",
      "'Hospital':\n",
      "'Hospital':\n",
      "'Toilet Facility':\n",
      "'Electricity':\n",
      "'School':\n",
      "'Hospital':\n",
      "'Electricity':\n",
      "'Water':\n",
      "'Hospital':\n",
      "'Toilet Facility':\n",
      "'Electricity':\n",
      "'Toilet Facility':\n",
      "'Electricity':\n",
      "'Water':\n",
      "'Water':\n",
      "'Hospital':\n",
      "'Toilet Facility':\n",
      "'Electricity':\n",
      "'Water':\n",
      "'Electricity':\n",
      "'Water':\n",
      "'Hospital':\n",
      "'Electricity':\n",
      "'Toilet Facility':\n",
      "'School':\n",
      "'Electricity':\n",
      "'Water':\n",
      "'Toilet Facility':\n",
      "'Electricity':\n",
      "'School':\n",
      "'Electricity':\n",
      "'Water':\n",
      "'Hospital':\n",
      "'Electricity':\n",
      "'School':\n",
      "'Toilet Facility':\n",
      "'Electricity':\n",
      "'School':\n",
      "'Toilet Facility':\n",
      "'Hospital':\n",
      "'Water':\n",
      "'Toilet Facility':\n",
      "'Water':\n",
      "'Hospital':\n",
      "'School':\n",
      "'Toilet Facility':\n",
      "'Water':\n",
      "'Hospital':\n",
      "'Toilet Facility':\n",
      "'School':\n",
      "'Electricity':\n",
      "'School':\n",
      "'Hospital':\n",
      "'School':\n",
      "'School':\n",
      "'Toilet Facility':\n",
      "'Water':\n",
      "'School':\n",
      "'Water':\n",
      "'Hospital':\n",
      "'Toilet Facility':\n",
      "'Hospital':\n",
      "'Toilet Facility':\n",
      "'Water':\n",
      "'Toilet Facility':\n",
      "'School':\n"
     ]
    }
   ],
   "source": [
    "\n",
    "\n",
    "# Replace NaN with \"No amenities\"\n",
    "df['AmenitiesType'] = df['AmenitiesType'].fillna('No amenities')\n",
    "\n",
    "# Define standard names for amenities to replace variations\n",
    "standard_amenities = {\n",
    "    'Running /portable water': 'Water',\n",
    "    'Electricity': 'Electricity',\n",
    "    'Toilet facility': 'Toilet Facility',\n",
    "    'School': 'School',\n",
    "    'Hospital': 'Hospital'\n",
    "}\n",
    "\n",
    "# Clean each cell by:\n",
    "# - Splitting by comma\n",
    "# - Stripping whitespace\n",
    "# - Standardizing each amenity using the dictionary\n",
    "# - Removing duplicates within each row\n",
    "\n",
    "def clean_amenities(cell):\n",
    "    # If the cell contains 'No amenities', return it as a list\n",
    "    if cell == 'No amenities':\n",
    "        return [cell]\n",
    "    else:\n",
    "        # Split by commas and strip any surrounding whitespace\n",
    "        amenities = cell.split(',')\n",
    "        # Standardize amenities using the dictionary\n",
    "        standardized = [standard_amenities.get(amenity.strip(), amenity.strip()) for amenity in amenities]\n",
    "        # Remove duplicates and return as a list\n",
    "        return list(set(standardized))\n",
    "\n",
    "# Apply the cleaning function\n",
    "df['CleanedAmenities'] = df['AmenitiesType'].apply(clean_amenities)\n",
    "\n",
    "# Convert each list to a comma-separated string to make it hashable\n",
    "df['CleanedAmenitiesStr'] = df['CleanedAmenities'].apply(lambda x: ', '.join(x))\n",
    "\n",
    "# Get unique values from the new column\n",
    "unique_amenities = df['CleanedAmenitiesStr'].unique()\n",
    "\n",
    "# Print the cleaned amenities in the desired format\n",
    "for amenity in unique_amenities:\n",
    "    for standard_amenity in amenity.split(', '):\n",
    "        print(f\"'{standard_amenity}':\")"
   ]
  },
  {
   "cell_type": "code",
   "execution_count": 41,
   "metadata": {},
   "outputs": [
    {
     "data": {
      "text/plain": [
       "array(['Yes', nan, 'No', 'Maybe'], dtype=object)"
      ]
     },
     "execution_count": 41,
     "metadata": {},
     "output_type": "execute_result"
    }
   ],
   "source": [
    "df['HasHealthInsurance'].unique()"
   ]
  },
  {
   "cell_type": "code",
   "execution_count": 42,
   "metadata": {},
   "outputs": [
    {
     "data": {
      "text/plain": [
       "array(['Yes', nan, 'No', 'Maybe'], dtype=object)"
      ]
     },
     "execution_count": 42,
     "metadata": {},
     "output_type": "execute_result"
    }
   ],
   "source": [
    "df['HasVotersID'].unique()"
   ]
  },
  {
   "cell_type": "code",
   "execution_count": 43,
   "metadata": {},
   "outputs": [
    {
     "data": {
      "text/plain": [
       "array(['Yes', nan, 'No', 'Maybe'], dtype=object)"
      ]
     },
     "execution_count": 43,
     "metadata": {},
     "output_type": "execute_result"
    }
   ],
   "source": [
    "df['VotedBefore'].unique()"
   ]
  },
  {
   "cell_type": "code",
   "execution_count": 44,
   "metadata": {},
   "outputs": [
    {
     "data": {
      "text/plain": [
       "array(['Yes', nan, 'No', 'Maybe'], dtype=object)"
      ]
     },
     "execution_count": 44,
     "metadata": {},
     "output_type": "execute_result"
    }
   ],
   "source": [
    "df['PlanToVote'].unique()"
   ]
  },
  {
   "cell_type": "code",
   "execution_count": 45,
   "metadata": {},
   "outputs": [
    {
     "data": {
      "text/plain": [
       "array(['Yes', nan, 'No', 'Maybe'], dtype=object)"
      ]
     },
     "execution_count": 45,
     "metadata": {},
     "output_type": "execute_result"
    }
   ],
   "source": [
    "df['TownHallParticipation'].unique()"
   ]
  },
  {
   "cell_type": "code",
   "execution_count": 46,
   "metadata": {},
   "outputs": [
    {
     "data": {
      "text/plain": [
       "array(['Yes', nan, 'No', 'Maybe'], dtype=object)"
      ]
     },
     "execution_count": 46,
     "metadata": {},
     "output_type": "execute_result"
    }
   ],
   "source": [
    "df['CommunityActivity'].unique()"
   ]
  },
  {
   "cell_type": "markdown",
   "metadata": {},
   "source": [
    "#### Activitytype "
   ]
  },
  {
   "cell_type": "code",
   "execution_count": 47,
   "metadata": {},
   "outputs": [
    {
     "data": {
      "text/plain": [
       "array(['Community development ', nan, 'distilling of gutters',\n",
       "       'Community health walk ', 'Clean up', 'Communal labour ',\n",
       "       'Cleaning the gaters', 'Monthly cleaning of the community ',\n",
       "       'Sweeping ', 'It was a sanitation project ', 'Clean up exercise ',\n",
       "       'Cleaning the gutters and other staff', 'Distilled gutter ',\n",
       "       'General cleanup ', 'Fixing of road', 'Comminual labour',\n",
       "       'Cleaning up the community ', 'cleaning dirty gutters in town',\n",
       "       'Cleaning ', 'Cleaning of road side ', 'Cleaning up',\n",
       "       'Cleaning of roadside ', 'Cleaning of road ', 'Town cleaning ',\n",
       "       'Cleaning of gutters ', 'Clean up ',\n",
       "       'Weeding and cleaning of bush areas', 'Communal labour',\n",
       "       'Clearing of bushy roads ', 'Road constraction',\n",
       "       'Cleaning of choked gutters and sweeping the township ',\n",
       "       'Desilting and clearing of weeds in my community',\n",
       "       'Dredging of Gutter ',\n",
       "       'Weeding around and doing the community roads ',\n",
       "       'Keeping the environment clean ', 'Communal Labor ',\n",
       "       'Communal Labour ', 'Distilling choked gutters ',\n",
       "       'Weeding bushy places and filling places that erosion have taken places',\n",
       "       'Keeping the community clean ',\n",
       "       'Weeding and cleaning of choke gutters around the community ',\n",
       "       'Fixing the roads in our community ', 'Communal labor ',\n",
       "       'Cleaning gutters ', 'General cleaning ', 'Community work',\n",
       "       'Cleaning exercise ', 'Distilling gutters', 'Weeding',\n",
       "       'Sand carrying', 'Draining of gutters', 'Weeding ',\n",
       "       'Cleaning exercise', 'Clearing of bushy areas ',\n",
       "       'General exercise ', 'Cleaning of choke gutters ',\n",
       "       'Cleaning of gutters and also cleaning our taxi station ',\n",
       "       'Weeding and spraying throughout the area organized by the assembly member ',\n",
       "       'Cleanup exercise ', 'Meeting some of the assembly men',\n",
       "       'Every sanitation day', 'Collection of rubbish ', ' Leaning ',\n",
       "       'Comm', 'Community labour', 'Communal labour  ',\n",
       "       'Distillation of gutter ', 'Wedding ', 'Cleaning the environment',\n",
       "       'Weeding and controlling of erosion ', 'Cleaning up exercise ',\n",
       "       'Such as removing of gutters and other stuff ', 'Area clean up ',\n",
       "       'Cleaning our community ', 'Desilting of gutters',\n",
       "       'Filling  of potholes ', 'Fixing of bad roads ',\n",
       "       'Sharing of items ', 'Removing of gutters ',\n",
       "       'End of year clean up exercise ', 'Communal',\n",
       "       'Environmental clean up exercise ',\n",
       "       'Clean up organized by Kofcity Konnect', 'Sweeping the Gutters',\n",
       "       'Creating of a Wooden bridge over a Gutter', 'GCB street',\n",
       "       'Iguana clean up exercise ', 'Srodie clean up ',\n",
       "       'Cleaning the station', 'Korle clean up exercise ',\n",
       "       'Clean up exercise at Kûmàsï station ',\n",
       "       'Weeding around the community ', 'Community clean up exercise ',\n",
       "       'Cleanup exercise', 'Cleaning',\n",
       "       'Filling of potholes and controlling of erosion',\n",
       "       'Weeding roadside', 'Gathering of stones from the choke gutyersy',\n",
       "       'Cleani g of gutters', 'Cleaning of the gutters',\n",
       "       'Keeping the peace and tidy up dirty places ',\n",
       "       'Did my best in clearing those bushy areas ',\n",
       "       'Cleaning of bushy areas and choked gutters ',\n",
       "       'Cleaning of gutters',\n",
       "       'Keep the peace in the community and cleaning rubbish ',\n",
       "       'Cleaning of bushy areas ', 'Oguaa clean up exercise ',\n",
       "       'Communal health walk ', 'Health walk ', 'Clean up exercise',\n",
       "       'Community labour ', 'Community clean-up exercise',\n",
       "       'The routine clean up exercise every first Saturday of the month ',\n",
       "       'Community mobilization/ NGO leadership ',\n",
       "       'Wefix the potholes on the roads at the community', 'Sanitation',\n",
       "       'Communal Labour', 'Sweeping', 'Cleaning exercises ',\n",
       "       'Removing choked gutters and weeding by roadside ',\n",
       "       'Zongo clean up exercise ', 'So go clean up exercise ',\n",
       "       'Oguaa clean up', 'Community clean up',\n",
       "       'Pole hole filling exercise ', 'Clearing of Choked gutters',\n",
       "       'Cleaning of the environment',\n",
       "       'We were instructed to clean up our Neighbourhood.',\n",
       "       'Keeping our environment clean', 'Road clearance ',\n",
       "       'Clearing of bushes in the community', 'Sporting activities ',\n",
       "       'Manifesto delivery ', 'Community cleaning ',\n",
       "       'Cleaning chocked gutters ', 'Fixing of lights ',\n",
       "       'All African service project ', 'Clearing bushes',\n",
       "       'Koforidua clean up exercise ', 'Trillx clean up exercise ',\n",
       "       'Betom home coming clean up week', 'Filling port holes ',\n",
       "       'Cleaning my community ', 'Church communal labor ',\n",
       "       ' Communal labour', 'Cleaning up exercises ',\n",
       "       'Gutter distillation ', 'Clean up the exercise ',\n",
       "       'Town clean-up exercise', 'Road potholes filling ',\n",
       "       'Betom clean up', 'Cleaning activities ',\n",
       "       'Filling of portholes in the area ', 'Filling potholes',\n",
       "       'Construction of roads ', 'Clearing of weeds in the community',\n",
       "       'General Cleaning ', 'Clean up exercises ',\n",
       "       'School clean up exercise', 'Engaging the youth ',\n",
       "       'Youths programme ', 'Gutters cleaning ',\n",
       "       'Cleaning of chock gutters',\n",
       "       'Weeding and cleaning of choke Gutters', 'Home clean up exercise',\n",
       "       'Agatha clean up exercise ', 'Nsukwa clean up exercise ',\n",
       "       'Agatha clean up ', 'Filling of potholes ', 'Health walk',\n",
       "       'Community labor ', 'Weeding and Burning of the Grass',\n",
       "       'Cleaning choke Gutters', 'Clean-up exercise',\n",
       "       'Clearing bushes in my community ', 'Cleaning of the surroundings',\n",
       "       'Cleaning of choked gutters',\n",
       "       'Clearing or weeding of the environment', 'Iguana clean up ',\n",
       "       'Cleaning up and weeding ', 'General weeding', 'Come Labour ',\n",
       "       'Kantudo homecoming ', 'Kantodu homecoming ',\n",
       "       'Kantudu homecoming ', 'WEEDING', 'Community communal',\n",
       "       'Communitycommunal', 'Pushing wheelbarrow', 'Weeding and sweeping',\n",
       "       'Carrying of sand', 'Cleaning of choke gutters',\n",
       "       'Betom home coming ', 'Betom home coming clean up exercise ',\n",
       "       'DMAC PROGRAMME', 'MARKET clean-up exercise',\n",
       "       'Clearing of choked gutters and pushing of wheelbarrows',\n",
       "       'Collecting garbage ', 'Filling pot holes ', 'Clean-up exercise ',\n",
       "       'Railway station clean up exercise ', 'Bonya clean up exercise ',\n",
       "       'Town clean up', 'Railway clean up exercise ',\n",
       "       'Communual labour at central police staion', 'Cleaning the market',\n",
       "       'Voluntary service and communal labour', 'General cleaning',\n",
       "       'Cleaning the road side', 'Road construction ',\n",
       "       'Agartha clean up exercise ', 'Controlling Erosion',\n",
       "       'Controlling erosion ', 'Communual labour',\n",
       "       'Training market women on fiinance', 'Community clean up exercise'],\n",
       "      dtype=object)"
      ]
     },
     "execution_count": 47,
     "metadata": {},
     "output_type": "execute_result"
    }
   ],
   "source": [
    "df['ActivityType'].unique()"
   ]
  },
  {
   "cell_type": "code",
   "execution_count": 48,
   "metadata": {},
   "outputs": [
    {
     "data": {
      "text/plain": [
       "array(['community_work', 'health_walk', 'cleanup', 'sanitation',\n",
       "       'road_repair', 'weeding'], dtype=object)"
      ]
     },
     "execution_count": 48,
     "metadata": {},
     "output_type": "execute_result"
    }
   ],
   "source": [
    "#  Fill NaN values with a placeholder if needed\n",
    "df['ActivityType'] = df['ActivityType'].fillna('No Activity')\n",
    "\n",
    "# : Define standard terms to map variations\n",
    "standard_activities = {\n",
    "    'cleanup': [\n",
    "        'Clean up', 'Clean up exercise', 'General cleanup', 'Cleaning up', \n",
    "        'Cleanup exercise', 'Cleaning of the community', 'Community clean up', \n",
    "        'Environmental clean up exercise', 'Town clean up', 'Community cleaning',\n",
    "        'Sanitation day', 'Monthly cleaning of the community', 'End of year clean up exercise',\n",
    "        'Clean-up', 'Cleanup activities', 'Community cleanup', 'Cleaning the community', \n",
    "        'Community clean-up', 'Clean up the environment', 'Environmental cleaning', \n",
    "        'Street cleaning', 'Organized cleanup', 'Gutters cleaning', 'Clean-up exercise',\n",
    "        'Public cleaning', 'Community-wide cleaning'\n",
    "    ],\n",
    "    'weeding': [\n",
    "        'Weeding', 'Clearing of bushy areas', 'Clearing of bushes', \n",
    "        'Clearing bushes in the community', 'General weeding', \n",
    "        'Weeding and cleaning', 'Weeding bushy places', 'Weeding and clearing', \n",
    "        'Weeding roadside', 'Bush clearing', 'Weeding and burning', \n",
    "        'Weeding and spraying', 'Weeding of roadsides', 'Weeding in the fields', \n",
    "        'Filling of weeding holes', 'Grass cutting', 'Grass clearing', 'Removing weeds', \n",
    "        'Clearing of weeds', 'Removing unwanted grass', 'Weeding in the community', \n",
    "        'Weeding and controlling erosion', 'Cleaning and weeding', 'Bush and grass cutting'\n",
    "    ],\n",
    "    'road_repair': [\n",
    "        'Fixing of road', 'Road construction', 'Filling of potholes', \n",
    "        'Filling potholes', 'Road potholes filling', 'Filling of portholes',\n",
    "        'Filling pot holes', 'Filling port holes', 'Construction of roads', \n",
    "        'Fixing bad roads', 'Repairing roads', 'Resurfacing roads', 'Pothole repair',\n",
    "        'Fixing road damage', 'Repairing road potholes', 'Fixing the road', 'Maintenance of roads',\n",
    "        'Road repairs', 'Repairing damaged roads', 'Filling of pothole areas', 'Filling cracks in roads',\n",
    "        'Resurfacing damaged roads'\n",
    "    ],\n",
    "    'sanitation': [\n",
    "        'Cleaning the environment', 'Cleaning the gutters', 'Cleaning', 'Sweeping',\n",
    "        'Draining of gutters', 'Cleaning of gutters', 'Gutter distillation', \n",
    "        'Distilling gutters', 'Distilled gutter', 'Cleaning up the community',\n",
    "        'Sanitation', 'General cleaning', 'Environmental cleaning', 'Waste disposal',\n",
    "        'Waste collection', 'Trash removal', 'Clearing of litter', 'Removal of waste',\n",
    "        'Sanitary cleaning', 'Cleaning up', 'Garbage collection', 'Garbage removal',\n",
    "        'Street cleaning', 'Clearing of waste', 'Sanitation work', 'Cleaning the streets', \n",
    "        'Cleaning the market', 'Public sanitation', 'Waste management', 'Cleaning drains',\n",
    "        'Clearing blocked gutters', 'Rubbish collection', 'Street sweeping', 'Drainage maintenance'\n",
    "    ],\n",
    "    'health_walk': [\n",
    "        'Health walk', 'Walking for health', 'Sanitation walk', \n",
    "        'Community health walk', 'Health and fitness walk', 'Health exercise',\n",
    "        'Walk for health', 'Walking exercise', 'Public health walk', 'Exercise walk', \n",
    "        'Walking for fitness', 'Wellness walk', 'Community health exercise', 'Morning walk',\n",
    "        'Public health awareness walk', 'Community fitness walk', 'Health campaign walk'\n",
    "    ],\n",
    "    'community_work': [\n",
    "        'Community work', 'Community service', 'Volunteering', 'Community development',\n",
    "        'Community mobilization', 'Helping the community', 'Community outreach', \n",
    "        'Helping in the community', 'Community improvement', 'Community engagement',\n",
    "        'Voluntary service', 'Community assistance', 'Service to the community',\n",
    "        'Supporting community initiatives', 'Community projects', 'Community service activity',\n",
    "        'Community building', 'Neighborhood service', 'Social service'\n",
    "    ],\n",
    "    'education_programme': [\n",
    "        'Education program', 'Training', 'Community education', 'Skill training', \n",
    "        'Community teaching', 'Educational activities', 'Community outreach education',\n",
    "        'Public education', 'Training for development', 'Public awareness program', \n",
    "        'Educational outreach', 'Skill development program', 'Youth education',\n",
    "        'Workshops and training', 'Awareness program', 'Community education program'\n",
    "    ]\n",
    "}\n",
    "\n",
    "#  Function to standardize activities\n",
    "def standardize_activity(activity):\n",
    "    # Loop through the dictionary to check if the activity matches any of the defined terms\n",
    "    for category, activities in standard_activities.items():\n",
    "        if any(activity.strip().lower() in a.lower() for a in activities):\n",
    "            return category  # Return the category if it matches\n",
    "    return 'Other'  # Return 'Other' if no match is found\n",
    "\n",
    "#  Apply the function to your DataFrame column\n",
    "df['Standardized_Activity'] = df['ActivityType'].apply(standardize_activity)\n",
    "\n",
    "#  Filter out \"Other\" or any unwanted categories\n",
    "df_filtered = df[df['Standardized_Activity'] != 'Other']\n",
    "\n",
    "#  View the unique standardized categories\n",
    "df_filtered['Standardized_Activity'].unique()"
   ]
  },
  {
   "cell_type": "code",
   "execution_count": 49,
   "metadata": {},
   "outputs": [
    {
     "data": {
      "text/plain": [
       "array(['Yes', nan, 'No', 'Maybe'], dtype=object)"
      ]
     },
     "execution_count": 49,
     "metadata": {},
     "output_type": "execute_result"
    }
   ],
   "source": [
    "df['HeardAboutKofkroProject'].unique()"
   ]
  },
  {
   "cell_type": "code",
   "execution_count": 50,
   "metadata": {},
   "outputs": [
    {
     "data": {
      "text/plain": [
       "array([\"AFES Ghana's Koforidua Youth Manifesto Project launch \", nan,\n",
       "       'During the Koforidua Manifesto Launch', 'Radio',\n",
       "       'A friend told me ', 'A friend ', 'From a friend ',\n",
       "       'A friend told me about it ', 'From Meldad',\n",
       "       'My brother told me more about that ',\n",
       "       'I heard the Kofkro is a special project made for the youth to speak on their behalf and also assist them in decision making ',\n",
       "       'A friend', \"No I haven't \", \"It's an NGO \", 'Television ',\n",
       "       'A friend invited me to one of your programs ', '@town',\n",
       "       'On radio ', 'Friend', 'At the library center ',\n",
       "       'My friend spoke about it to me ', 'Koforidua Library ',\n",
       "       'From a Member of youth Advisory Co',\n",
       "       'My friends had been attending it ', 'At a program ',\n",
       "       'I heard it from one of my brothers ', 'A Friend ',\n",
       "       'My sister attended program with them', 'In my community ', 'F',\n",
       "       'Through a friend ', 'From a friend',\n",
       "       'From one of these questionnaires', 'From and advertisement ',\n",
       "       'My friend ', 'At AFES Garderings ', 'From a Friend ',\n",
       "       'At workplace',\n",
       "       'It intervain my dialogue with a friend who has attended one of the seminar ',\n",
       "       ' A Friend ', 'Tech family hub',\n",
       "       'A friend of mine is a member so he always tell me things about the project ',\n",
       "       'My parents ', 'A sister ', 'My friends.', 'Radio Station ',\n",
       "       'Municipal Assembly', 'From a  friend ',\n",
       "       'By a friends recommendation ', 'A friend told me about it',\n",
       "       'Friend ', 'I saw someone in their atare and ask of it ',\n",
       "       'In town ', 'Fron the elders from our community ',\n",
       "       'From a colleague ', 'My brother', 'From a Youth Advisory Member',\n",
       "       'In town', 'This my first time hearing',\n",
       "       'From a customer that came to my working place ', 'Whatsap',\n",
       "       'From Assembly member ', 'Television', 'Through a friend',\n",
       "       'A colleague ', 'I was once invited to a seminar ',\n",
       "       'Through someone', 'On Radio', 'Star-gh capacity building ',\n",
       "       'Advertisement', 'Advert',\n",
       "       'It is a project to help young people to partake in governance',\n",
       "       'A brother ', 'Brother ', 'Radio ', 'Through  a friend ',\n",
       "       'A friend of mine Asante Raphael told me a little about it ',\n",
       "       'My cousin ', 'Afes program', 'Afes programs ', 'Assembly man',\n",
       "       'From a Friend', 'From a Youth Advisory Council Member',\n",
       "       'From Meldad ', 'From friend ', 'Neighbor ', 'Assembly member',\n",
       "       'A sister of his talk about it yo him ',\n",
       "       'I saw them on a float in town ', 'On the internet ', 'Media ',\n",
       "       'My friend told me about it and my sister too', 'At a meeting ',\n",
       "       \"It's about youth advocacy\", 'Mate', 'On radio', 'From my Brother',\n",
       "       'From a friend in the Youth Advisory Council',\n",
       "       'From a YAC member ', 'From a program ', 'Youth programme ',\n",
       "       'O went for a youth programme ', 'Koforidua New Libery ',\n",
       "       'Friends', 'From same meet', 'From friends', 'On Social media',\n",
       "       'True a colleague', ' A school mate', 'From town',\n",
       "       'From other meetings', 'The enumerator', 'Enumerator',\n",
       "       'The enumerator ', 'At town',\n",
       "       'It’s a platform that helps the youth', 'From an NGO',\n",
       "       'AFES program ', 'A friend with AFES Ghana ', 'From radio',\n",
       "       'From friend', 'Youth project', 'From brother', 'Afes meetings',\n",
       "       'From the Programme', 'True a friend ', 'Youth program ',\n",
       "       'Youth project ', 'Youth projects ', 'From a brother',\n",
       "       'Youth advocacy ', 'Youth advocacy project',\n",
       "       'Youth advocacy  project ', 'Brother', 'Youth advocacy project ',\n",
       "       'Online ', \"It's about youth advocacy \", 'A good friend ',\n",
       "       'From a friend of mine called Meldad'], dtype=object)"
      ]
     },
     "execution_count": 50,
     "metadata": {},
     "output_type": "execute_result"
    }
   ],
   "source": [
    "df['SourceOfKofkroInfo'].unique()"
   ]
  },
  {
   "cell_type": "code",
   "execution_count": 51,
   "metadata": {},
   "outputs": [
    {
     "name": "stdout",
     "output_type": "stream",
     "text": [
      "['Other' 'Radio' 'Friend' 'Meldad' 'Brother' 'Television'\n",
      " 'Youth Advisory Council' 'Sister' 'Advertisement' 'Workplace' 'Town'\n",
      " 'Colleague' 'Customer' 'Assembly Member' 'Star-GH' 'AFES Program' 'Media'\n",
      " 'Youth Advocacy' 'Program' 'Youth Program' 'Same Meet' 'Social Media'\n",
      " 'School Mate' 'Other Meetings' 'NGO' 'Youth Project' 'Online']\n"
     ]
    }
   ],
   "source": [
    "# Replace NaN with \"Unknown\" or \"No information\"\n",
    "df['SourceOfKofkroInfo'] = df['SourceOfKofkroInfo'].fillna('No information')\n",
    "\n",
    "# Standardize variations of sources\n",
    "\n",
    "standard_sources = {\n",
    "    'friend': 'Friend',\n",
    "    'a friend': 'Friend',\n",
    "    'from a friend': 'Friend',\n",
    "    'my friend': 'Friend',\n",
    "    'from meldad': 'Meldad',\n",
    "    'from my brother': 'Brother',\n",
    "    'brother': 'Brother',\n",
    "    'sister': 'Sister',\n",
    "    'radio': 'Radio',\n",
    "    'television': 'Television',\n",
    "    'whatsapp': 'WhatsApp',\n",
    "    'social media': 'Social Media',\n",
    "    'afes program': 'AFES Program',\n",
    "    'afes programs': 'AFES Program',\n",
    "    'afes meetings': 'AFES Program',\n",
    "    'youth program': 'Youth Program',\n",
    "    'youth projects': 'Youth Program',\n",
    "    'youth advocacy': 'Youth Advocacy',\n",
    "    'assembly member': 'Assembly Member',\n",
    "    'from a youth advisory member': 'Youth Advisory Council',\n",
    "    'from a colleague': 'Colleague',\n",
    "    'from the internet': 'Internet',\n",
    "    'from radio': 'Radio',\n",
    "    'from a program': 'Program',\n",
    "    'from advertisement': 'Advertisement',\n",
    "    'from a friend of mine': 'Friend',\n",
    "    'from a member of youth advisory co': 'Youth Advisory Council',\n",
    "    'from a customer': 'Customer',\n",
    "    'from a sister': 'Sister',\n",
    "    'from a YAC member': 'Youth Advisory Council',\n",
    "    'from a youth advisory council member': 'Youth Advisory Council',\n",
    "    'assembly man': 'Assembly Member',\n",
    "    'from a program': 'Program',\n",
    "    'from a meeting': 'Meeting',\n",
    "    'from other meetings': 'Other Meetings',\n",
    "    'online': 'Online',\n",
    "    'at town': 'Town',\n",
    "    'at workplace': 'Workplace',\n",
    "    'at library center': 'Library',\n",
    "    'in town': 'Town',\n",
    "    'from a float': 'Float',\n",
    "    'media': 'Media',\n",
    "    'star-gh capacity building': 'Star-GH',\n",
    "    'advertisement': 'Advertisement',\n",
    "    'afes program': 'AFES Program',\n",
    "    'afes programs': 'AFES Program',\n",
    "    'youth programme': 'Youth Program',\n",
    "    'youth project': 'Youth Project',\n",
    "    'youth advocacy project': 'Youth Advocacy Project',\n",
    "    'youth projects': 'Youth Program',\n",
    "    'from a brother': 'Brother',\n",
    "    'youth advocacy': 'Youth Advocacy',\n",
    "    'youth advocacy project': 'Youth Advocacy Project',\n",
    "    'from an NGO': 'NGO',\n",
    "    'from same meet': 'Same Meet',\n",
    "    'from friends': 'Friends',\n",
    "    'from a good friend': 'Friend',\n",
    "    'a school mate': 'School Mate',\n",
    "    'from a youth advisory council': 'Youth Advisory Council',\n",
    "\n",
    "}\n",
    "\n",
    "# Function to clean and standardize the sources\n",
    "def clean_sources(cell):\n",
    "    # Convert to lower case and check if the source matches any defined standard\n",
    "    for variant, standard in standard_sources.items():\n",
    "        if variant.lower() in cell.lower():\n",
    "            return standard\n",
    "    return 'Other'  # If no match found, return 'Other'\n",
    "\n",
    "# Apply the cleaning function\n",
    "df['CleanedSource'] = df['SourceOfKofkroInfo'].apply(clean_sources)\n",
    "\n",
    "# Get unique cleaned sources\n",
    "unique_sources = df['CleanedSource'].unique()\n",
    "\n",
    "# Print the cleaned sources\n",
    "print(unique_sources)"
   ]
  },
  {
   "cell_type": "code",
   "execution_count": 52,
   "metadata": {},
   "outputs": [
    {
     "data": {
      "text/plain": [
       "array(['Research ', nan, 'Reading', 'Like  watching football ',\n",
       "       'Cooking ', 'Watching a movie ', 'Braiding ',\n",
       "       'Listening to music and reading ', 'Listen to music ', 'Reading ',\n",
       "       'Football', ' music and dancing', 'Playing basketball ',\n",
       "       'Football ', 'Dance', 'I love listening to music ', 'nails making',\n",
       "       'Reading novels', 'Programming', 'Arts', 'Singing and dancing ',\n",
       "       'Music, movies, working and sleeping ', 'Watching Football ',\n",
       "       'Drumming,and playing games ', 'Singing and Reading ',\n",
       "       'Work and fun',\n",
       "       \"I'm much interested in reading but I admit singing and dancing as hobbies \",\n",
       "       'Reading of books and music ', 'Music and roaming', 'Music ',\n",
       "       'Listening to preaching’s ', 'Music', 'To become an electrician ',\n",
       "       'Playing video games and research ', 'Singing',\n",
       "       'Listening to music', 'Serving my clients ', 'Playing Football',\n",
       "       'Watching football ', 'Football and acting ', 'Music and work ',\n",
       "       'Automobiles and motorbikes ', 'Football, music and movies ',\n",
       "       'Listening to music ', 'Singing ', 'Playing football',\n",
       "       'Reading and listening to music ', 'Praying at the mosque',\n",
       "       'Playing ludo', 'Playing games ',\n",
       "       \"i love to play music everyday. And i'm also interested in learning about software and hardware.\",\n",
       "       'Joking ', 'playing football games', 'Staking lotto',\n",
       "       'Playing ludo ', 'Playing game ', 'music', 'dance',\n",
       "       'playing tv games', 'singing', 'movies', 'Oware ',\n",
       "       'Playing football ', 'Writing poems ', 'Playing of football ',\n",
       "       'dancing', 'playing', 'Ludo', 'Playing football games ',\n",
       "       'Watch movies ', 'Playing draft', 'Talking', 'Dancing',\n",
       "       'Watching movies', 'Listening to music unemployed ', 'Scamming ',\n",
       "       'Watching movies ', 'Football, ', 'Listening to Reggae Music',\n",
       "       'Barbring', 'Football,listening music ', 'Movies', 'Working ',\n",
       "       'Pressing phone', 'Studying the Bible ', 'Firing work',\n",
       "       'Football and food ', 'Football and reading story books ', 'Oware',\n",
       "       'Repairs of phone ', 'Playing games and reading ',\n",
       "       'Football and volleyball ',\n",
       "       'Am interested in football and my hobbies are reading ',\n",
       "       'Interested in selling ', 'Game play ', 'Music and Acting',\n",
       "       'Music and Tiktoking', 'listening to music ',\n",
       "       'Having knowledge of technology ', 'Sports presenter ', 'Dancing ',\n",
       "       'Volleyball ', 'Singing and movies', 'Music and Public Speaking ',\n",
       "       'Playing Games', 'Playing Cards', 'Singing and reading ',\n",
       "       'Reading books ', 'Game',\n",
       "       'Listening to music and playing of football ',\n",
       "       'Reading and listening to music', 'Reading and dancing ',\n",
       "       'Reading and Football ', 'Dancing and reading', 'Gaming', 'GAMING',\n",
       "       'Listening to Music', 'Dance and football', 'LEARNING', 'Soccer ',\n",
       "       'Teaching', 'Playing games', 'Trailoring', 'Watching television ',\n",
       "       'Cooking', 'Computer gaming ', 'Tv games ', 'Drawing ',\n",
       "       'Basketball ', 'Browsing ', 'Playing valley ball',\n",
       "       'Football and athletics ', 'Playing video games ', 'Swimming ',\n",
       "       'Watching of movies ', 'Volley ', 'Watching Football',\n",
       "       'Listening to  music ', 'Playing ', 'Driving ',\n",
       "       'Reading and watching of football ',\n",
       "       'Football and listening to music ', 'Watching  movies ',\n",
       "       'Hair styling ', 'Listening music', 'Playing Aviator', 'Games',\n",
       "       'Betting ', 'Music and reading ', 'Watching football match ',\n",
       "       'Learning and and football ', 'Learning programming ',\n",
       "       'Football, tv games, and music ', 'Social media', 'Songs',\n",
       "       'Playimg football', 'Playing game', 'Gambling ',\n",
       "       'Watching movies and listening to music ',\n",
       "       'Playing of football and tv games ', 'Watching videos ',\n",
       "       'Like watching  movies ', 'Like typing', 'Playing volleyball ',\n",
       "       'Movies ', 'Like watching movies', 'Play Games', 'Teaching ',\n",
       "       'Motor ŕiding', 'Watching football', 'football', 'Quize',\n",
       "       'Am interested in playing music and hobbies are eating ',\n",
       "       'Social media ', 'Photographing', 'Singing and music',\n",
       "       'My intereste are work ', 'Fashion designing ',\n",
       "       'Playing game on phone', 'Public gatherings',\n",
       "       'Playing with friends', 'Listening to music and singing ',\n",
       "       'Am interested in dancing ',\n",
       "       'My interest is selling same as my hobbies ',\n",
       "       'Driving and the hobbies I like football ', 'Netball ',\n",
       "       'Fixing electrical machines ', 'Bending metal',\n",
       "       'Chatting my boys or dancing ',\n",
       "       'Selling and my hobbies are studying ', 'Singing and football',\n",
       "       'Sowing ',\n",
       "       'Am interested in schooling and my hobbies are singing ',\n",
       "       'Watching football matches ',\n",
       "       'Am interested in selling and my hobbies are to learn ',\n",
       "       'Talking with friends ', 'Braiding', 'Play sporty ',\n",
       "       'Watching  your ok videos ', 'Welding ',\n",
       "       'Fixing things same as hobbies ', 'Music and football ',\n",
       "       'Don’t really have interest in anything but hobbie is skating ',\n",
       "       'Working and watching football ',\n",
       "       'My interest is fixing things and my hobbies panting ',\n",
       "       'Contractions work', 'Studies and games are my hobbies ', 'Game ',\n",
       "       'Football is my hobbies ', 'Music and Reading ',\n",
       "       'Church fellowship ', 'Listening music ', 'Traveling',\n",
       "       'Basketball \\nPainting ', 'Valley ball and reading ',\n",
       "       'Watching football match', 'Football game ',\n",
       "       'Running and football ', 'Sewing ', 'Running ', 'Riding ',\n",
       "       'Fixing things ', 'Selling ', 'Watching and playing football',\n",
       "       'Learning ', 'Reading story books and playing football',\n",
       "       'Listen to music', 'Playing cards', 'Like watching  movies  ',\n",
       "       'Playing games on my phone', 'Soccer', 'Cooking \\nReading ',\n",
       "       'Watching Movies', 'Watching football match\\nPlaying games',\n",
       "       'Painting ', 'Dancing and cooking', 'Sewing Cloths ',\n",
       "       '1.Reading \\n2. Playing football ', 'Watching Television ',\n",
       "       '1.Playing ludu\\n2. Football ', 'Dancing and talking',\n",
       "       'Volleyball \\nRunning ', 'Coding ', 'Watching of Soccer',\n",
       "       'Watching football \\nReading ', 'Volleyball \\n',\n",
       "       'Video gaming \\nFootball ',\n",
       "       'Playing games on my phone\\nWatching football ',\n",
       "       'Watching of football and music ',\n",
       "       'Listening to music and reading novels ',\n",
       "       'Playing Electronic Games',\n",
       "       'Watching of football, reading of books and listening of music ',\n",
       "       'Singing and Dance', 'Am interested in watching football ',\n",
       "       'Ampe/Netball', 'Games ', 'Indoors games', 'Exercising ',\n",
       "       'Gym workout ', 'Playing Football ', 'No ', 'Eating', 'Walking',\n",
       "       'READING', 'I really enjoy cooking ',\n",
       "       'My interest are to save lives ', 'Working is my hobbies ',\n",
       "       'Reading and music', 'Farming ', 'Watching ', 'Traveling ', 'Gym ',\n",
       "       'Jimming ', 'Dancing and music', 'Sing', 'Capiter ',\n",
       "       'Football and basketball ', 'Listening to music and dancing',\n",
       "       'Leather craft ', 'Playing video games', 'Football and dancing',\n",
       "       'Playing with phone mostly the social media',\n",
       "       'Laughing with my peers', 'Writing ', 'None ', 'Typing\\nSwimming ',\n",
       "       'Instruments', '\\nReading the Bible \\n', 'Bike riding', 'Playing',\n",
       "       'Learning', 'Acting', 'Spend time with my old grandmom',\n",
       "       'Smoking ', 'Phone repires', ' Reading ', 'Like playing games',\n",
       "       'Playing  football ', 'Ludo ', 'On social media',\n",
       "       'Watching of movies', 'Like searching ', 'Like working ',\n",
       "       'Like driving ', 'Football or into sports ', 'Love working',\n",
       "       'Athletes ', 'Watching TV', 'Listening to sports news',\n",
       "       'Football and reading ', 'Playing with my pet', 'Television game ',\n",
       "       'Footballer ', 'Cooking and reading ', 'Moving to places ',\n",
       "       'Gymnastics ', 'Praying', 'Mechanic work ', 'Playing chess ',\n",
       "       'Learning mostly reading ', 'Training animals ',\n",
       "       'Playing of games ', 'Playing of drums ',\n",
       "       'Singing and listening to music ', 'Football and tv games ',\n",
       "       'Tv games and music ',\n",
       "       'Listening to music and steadying of sounds ',\n",
       "       'Reading and writing ', 'Playing  Games', 'Video games',\n",
       "       'Playing instruments ', 'Singing,dancing and reading ', 'Faming ',\n",
       "       'Sleeping and cooking ', 'Enjoying music ',\n",
       "       'Video Game and football ', 'Music and reading',\n",
       "       'Reading/ Community mobilization ', 'Rapping',\n",
       "       'Reading and playing', 'Football matches ',\n",
       "       'Video gaming and watching football ', 'Reading news',\n",
       "       'Playing soccer ', 'Movie', 'Agriculture', '\\nReading', 'Swimming',\n",
       "       'Electrical work ', 'Atletics ', 'Listening and singing to music',\n",
       "       'Selling', 'Browsing through the internet', 'Reading stories ',\n",
       "       'Making research ', 'Playing Mobile Games ',\n",
       "       'Reading and watching movies ', 'Playing ball',\n",
       "       'Reading and playing games ', 'Singing and dancing',\n",
       "       'Watching Korean series', 'Sleeping',\n",
       "       'Singing and watching movies', 'Watching titok videos',\n",
       "       'Calculation', 'Athletics ', 'Computing ', 'Doing music ',\n",
       "       'Going out ', 'Comedy ', 'Treating patient ', 'Training ',\n",
       "       'Service to the people ', 'Playing with my phone',\n",
       "       'Playing game on my phone', 'Dancing and reading ',\n",
       "       'Listing to music', 'Football, Reading and mostly researching ',\n",
       "       'Reading story books', 'Reading, Playing video Games, Singing',\n",
       "       'Singing and playing games ', 'Playing of netball and football',\n",
       "       'Gambling', 'Hockey  and handball', 'Football and movies',\n",
       "       'Working',\n",
       "       'Playing basketball, watching movies and making songs  . ',\n",
       "       'Creativity ', 'Being on Camera and creating content ', 'reading ',\n",
       "       'Vibrant humanitarian activist. \\nPhilanthropist.\\nBoard skating.\\nMusician [emerging artist].\\nHeavy duty operation. \\nPodcasts & documentaries.\\n\\n',\n",
       "       'gardening', 'Dancingno ', 'Reading and watching Tv',\n",
       "       'playing football', 'taking care of patience',\n",
       "       'listening to music and tiktoking', 'Drumming ', 'Adventure',\n",
       "       'Drinking ', 'I like singing ', 'patching clothes', 'drawing ',\n",
       "       'Graphic design works', 'watching movies',\n",
       "       'Watching tiktok videos ', 'Visiting farm', 'Politics', 'My work ',\n",
       "       'Reading novels ', 'Reading story books ', 'Hiking ',\n",
       "       'Hair doing ', 'Using of phone ', 'Watching Clothing Snippets ',\n",
       "       'Getting Money', 'Surfing Online', 'Making Crafts',\n",
       "       'Watching videos', 'reading', 'cooking', 'painting', 'baking',\n",
       "       'To learn a skill', 'Playing  games ', 'Play tennis ball',\n",
       "       'Work out', 'Jamming to songs', 'Learning a skill', 'Researching',\n",
       "       'swimming', 'I’m a comedian', 'Playing pool', 'Dancer ',\n",
       "       'Playing of instruments ', 'Designing ', 'Music and Dancing ',\n",
       "       'Sports ', 'Football and Games', 'Football and music',\n",
       "       'Football and basketball', 'Football and sports betting ',\n",
       "       'Music and movies ', 'Networking ', 'Reading. Watching movies',\n",
       "       'Watching movie ', 'Drawing reading, singing and baseball',\n",
       "       'Always on your phone', 'Football and video games',\n",
       "       'Playing snooker', 'Music and movies', 'Watching sports',\n",
       "       'Jogging ', 'No', 'Fashion ', 'Computer software ',\n",
       "       'Playing chess', 'Basketball and tv game ', 'Music listening ',\n",
       "       'Reading and movie watching ', 'Movie watching ',\n",
       "       '1.Football \\n2. Dancing ', 'Any', '1.Football \\n2.writting',\n",
       "       'Sleeping \\nFootball ', 'Movies \\nCooking ', 'Working\\n',\n",
       "       'Exercising', 'Dancing and music ', 'Jogging', ' Watching movies',\n",
       "       'Dance ', 'Eating ', 'Training on the peace ', 'Art work ',\n",
       "       'Driving \\nSwimming ', 'Singing \\nWatching movies ',\n",
       "       'Movies\\nReading ', 'Signing ',\n",
       "       'Watching movies \\nLearning how to make new things eg wigs and makeup ',\n",
       "       'Football \\nReading books\\nAt time social media ',\n",
       "       'Cooking, singing and sports ', 'Singing, cooking and football ',\n",
       "       'Watching Korean movies ', 'Table tennis ',\n",
       "       'Football and reciting of Quran ',\n",
       "       'Movies, cooking, trying new things ',\n",
       "       'Listening to music and dancing ', 'Surfing the internet',\n",
       "       'Farming', 'Tv game and football at times ', 'Weaving',\n",
       "       'Playing PS', 'Football and music ',\n",
       "       'Listening to music and tv games', 'Taking pictures ', 'Tv games',\n",
       "       'Outing stuffs', 'Drama',\n",
       "       'Reading of books and listening to music ', 'Athletics',\n",
       "       'Playing tennis', 'Football\\nPlaying games', 'I love cooking',\n",
       "       'Going to the gym', 'Video Games ', 'Going to parties ',\n",
       "       'Just home', 'Playing games or music ', 'With my phone',\n",
       "       'I love to dance ', 'Listening to gospel music ', 'Night parties ',\n",
       "       'My work', 'Using my phone ', 'To sell ',\n",
       "       'Football \\nPlaying games', 'Reading of books ',\n",
       "       'Dancing, Singing ', 'Going out to have fun ',\n",
       "       'Football, talking, traveling ', 'Playing Video Games',\n",
       "       'Singing, cooking ', 'Physical Training ', 'Tiling  ',\n",
       "       'Watching Fashion Snippets ', 'playing Video Game',\n",
       "       'Physical Training', 'Playing Music At Events', 'Watching Movies ',\n",
       "       ' Music', 'Playing Video Games ', 'Cooking and Watching Movies',\n",
       "       'Music and Dancing', 'Listening to Dancehall Music', 'Online ',\n",
       "       'Drama ', 'Basketball',\n",
       "       'Watching football or movies or listening to music ',\n",
       "       'Being online ', 'Self exercise', \"Movie's or music \", 'Tenisball',\n",
       "       'Watching Tv', 'On social media ', 'Playing football and dancing',\n",
       "       'Playing football, listening to music and watching movies',\n",
       "       'Listening to radio', 'Partaking in cultural dance', 'Sleeping ',\n",
       "       'Watching movies, reading and singing ', 'Photo and Video Editing',\n",
       "       'Listening to Music and Singing ', 'Listening of music',\n",
       "       'Watching football and listening to music', 'Playing drums ',\n",
       "       'Play conca', 'Fixing of things ', 'Dressing ',\n",
       "       'Online  or football ', 'Listening to music and movies ',\n",
       "       'Music, movies and football ', 'Football, music and outing ',\n",
       "       'Football and movies ', 'Movies and listening to music ',\n",
       "       'Movies and being online ', 'Listening to music or with my pH ',\n",
       "       'Handcraft works ', 'Listening to music and watching movies ',\n",
       "       'My interest at this moment is to get a job', 'Driving',\n",
       "       'Playing football and listening to music ',\n",
       "       'Playing musical instruments ', 'Watching movies on phone ',\n",
       "       'Watching football March ', 'Play football ', 'Jim',\n",
       "       'Watch football ', 'Hpbbie', 'Researching ', 'No interest',\n",
       "       'watching Football', 'Playing table tennis ',\n",
       "       'Watching of football ', 'Computer games ',\n",
       "       'Watching and playing Football ', 'FOOTBALL', 'MOVIES', 'Footbal',\n",
       "       'Tennisball', 'Volleyball', 'Reding ', 'Music and reciting ',\n",
       "       'Rapping ', 'Playing with computers',\n",
       "       'Playing of Fifa on computers', 'Basket ball and video games',\n",
       "       'Online games ', 'Making videos ', 'Online carding ',\n",
       "       'Playing drums', 'Visiting  the Gym', 'Watching tictok',\n",
       "       'p\\n \\nPlaying football games ', 'Hair pletting',\n",
       "       'Playing games like Fifa', 'Riding', 'Exercise ',\n",
       "       'Playing Ludo with friends', 'Reading storybooks',\n",
       "       'Football and reading books ', 'Watching movies and football ',\n",
       "       'Listening to music or movies ',\n",
       "       'Listening to music and football ',\n",
       "       'Watching videos or movies or music ',\n",
       "       'Watching movies and music ',\n",
       "       'Spending time with the bible and my family ',\n",
       "       'Music and dancing ', 'Exercise', 'Watching movie',\n",
       "       'Playing of football', 'Listening to songs',\n",
       "       'Playing pool , listening to music, singing, dancing ',\n",
       "       'Playing computer', 'I love singing ', 'LISTENING TO MUSIC',\n",
       "       'MUSIC', 'COOKING', 'Londo', 'Using my phone', 'Sports',\n",
       "       'Football and reading', 'Playing Ludo',\n",
       "       'playing tennis ball, singing and dancing', 'Television games ',\n",
       "       'Snapping of pictures ', 'Carding on phone ',\n",
       "       'reading , drawing and dancing', 'Playing Game',\n",
       "       'Playing of football and reading of books ', 'Writing poems',\n",
       "       'Singing and reading', 'Movies, playing games, singing ',\n",
       "       'Football, reading', 'Typing, Football, reading ',\n",
       "       'Movies, cooking ', 'Swimming and reading story books',\n",
       "       'Playing around', 'Watching movies and drawing ', 'Playing Music',\n",
       "       'Baking ', 'Hobbie', 'Teaching, watching movies', 'Entertainment ',\n",
       "       'Playing with my laptop', 'Playing Soccer ', 'Movies and football',\n",
       "       'Drawing', 'Playing drafts', 'Gaming ',\n",
       "       'Sports and fashion design', 'Readinq', 'Phone games ',\n",
       "       'Gardening ', 'Going out with friends ', 'Making fun',\n",
       "       'Fashionista ', 'Music and football', 'Reading journals',\n",
       "       'I love music', 'Charting with friends ', 'Paying tennis',\n",
       "       'Photography', 'Music and games', 'Playing and watching football ',\n",
       "       'Playing  football and  dancing ', 'Playing  hockey ',\n",
       "       'Disc jockeying ', 'I love hiking', 'Watching Soccer ',\n",
       "       'Drawing and Dancing ', 'Footba', 'I love children ', 'SINGING',\n",
       "       'DANCING', 'Watching movies or listening to music ',\n",
       "       'Playing games and watching movies ', 'Playing ludu',\n",
       "       'Watching movies or being online ',\n",
       "       'Watching footbal and playing keyboard',\n",
       "       'Being online or learning ', 'Reading and writing poems',\n",
       "       'Reading, Music and cooking', 'Music, reading and gyming',\n",
       "       'Hunting', 'Reading and singing', 'Calculations ', 'Painting',\n",
       "       'Baking, cooking ', 'Football,  singing ', 'Reading,  exercising ',\n",
       "       'Trying new things, football', 'Movies,music, traveling ',\n",
       "       'Reading,  movies, singing ', 'Lisrltening musoc', 'Fun',\n",
       "       'Racing ', 'Going out for parties ',\n",
       "       'Watching movies and playing games', 'Watching football Marches ',\n",
       "       'Watching sports ', 'Reading books', 'Movies and games',\n",
       "       'Playing video game ', 'I like watching movies alot',\n",
       "       'Traveling, Nature, Sports, Music,',\n",
       "       'Reading books and exploring the computer ', 'Playing tennis ',\n",
       "       'Mudic', 'Talking ', 'Playing games and having fun with friends ',\n",
       "       'Reason '], dtype=object)"
      ]
     },
     "execution_count": 52,
     "metadata": {},
     "output_type": "execute_result"
    }
   ],
   "source": [
    "df['InterestsOrHobbies'].unique()"
   ]
  },
  {
   "cell_type": "code",
   "execution_count": 53,
   "metadata": {},
   "outputs": [
    {
     "name": "stdout",
     "output_type": "stream",
     "text": [
      "['Other' 'hobby' 'gaming' 'video games' 'playing draft games'\n",
      " 'watching movies' 'football' 'watching football' 'playing games'\n",
      " 'playing' 'fixing electrical machines' 'playing sports' 'laughing'\n",
      " 'listening to sports radio' 'playing musical instruments'\n",
      " 'watching Korean series' 'playing music' 'doing research'\n",
      " 'content creation' 'dancing' 'using phone' 'playing tennis' 'working out'\n",
      " 'learning' 'cooking, singing, sports' 'listening to gospel' 'tennis ball'\n",
      " 'listening to the radio' 'listening to music' 'fixing things'\n",
      " 'watching football matches' 'no hobbies' 'playing ping pong' 'reading'\n",
      " 'watching TikTok' 'music']\n"
     ]
    }
   ],
   "source": [
    "# Replace NaN with \"Unknown\" or \"No information\"\n",
    "df['InterestsOrHobbies'] = df['InterestsOrHobbies'].fillna('No hobbies')\n",
    "\n",
    "# Standardize variations of hobbies\n",
    "standard_hobbies = {\n",
    "    'reding': 'reading',\n",
    "    'mudic': 'music',\n",
    "    'fooball': 'football',\n",
    "    'tv games': 'video games',\n",
    "    'hobbie': 'hobby',\n",
    "    'gamming': 'gaming',\n",
    "    'soccer': 'football',\n",
    "    'playing football and tv games': 'playing football',\n",
    "    'playimg': 'playing',\n",
    "    'studing': 'studying',\n",
    "    'dancingno': 'dancing',\n",
    "    'tv games ': 'video games',\n",
    "    'game': 'gaming',\n",
    "    'football or into sports': 'football',\n",
    "    'tv games': 'video games',\n",
    "    'learning a skill': 'learning',\n",
    "    'watching of football': 'watching football',\n",
    "    'play sporty': 'playing sports',\n",
    "    'playing aviator': 'playing games',\n",
    "    'tenisball': 'tennis ball',\n",
    "    'play tennis ball': 'playing tennis',\n",
    "    'work out': 'working out',\n",
    "    'laughing with my peers': 'laughing',\n",
    "    'hockey and handball': 'hockey, handball',\n",
    "    'online games': 'playing online games',\n",
    "    'doing music': 'playing music',\n",
    "    'using of phone': 'using phone',\n",
    "    'fixing of things': 'fixing things',\n",
    "    'game play': 'gaming',\n",
    "    'creating content': 'content creation',\n",
    "    'p\\n \\nplaying football games': 'playing football games',\n",
    "    'fixing electrical machines': 'fixing electrical machines',\n",
    "    'playing draft': 'playing draft games',\n",
    "    'fixing electrical': 'fixing electrical items',\n",
    "    'researching': 'doing research',\n",
    "    'tv games and music': 'video games and music',\n",
    "    'tv games and movies': 'video games and movies',\n",
    "    'watching tictok': 'watching TikTok',\n",
    "    'listening to gospel music': 'listening to gospel',\n",
    "    'listening to sports news': 'listening to sports radio',\n",
    "    'no interest': 'no hobbies',\n",
    "    'watching korean series': 'watching Korean series',\n",
    "    'playing table tennis': 'playing ping pong',\n",
    "    'watching football match': 'watching football',\n",
    "    'watching movie': 'watching movies',\n",
    "    'listening of music': 'listening to music',\n",
    "    'cooking, singing and sports': 'cooking, singing, sports',\n",
    "    'listening to radio': 'listening to the radio',\n",
    "    'playing mobile games': 'playing mobile games',\n",
    "    'painting and gaming': 'painting and gaming',\n",
    "    'playing Fifa on computers': 'playing FIFA on computer',\n",
    "    'playing instruments': 'playing musical instruments',\n",
    "    'watching of football, reading of books and listening of music': 'watching football, reading books, listening to music',\n",
    "    'watching football march': 'watching football matches',\n",
    "}\n",
    "\n",
    "# Function to clean and standardize the hobbies\n",
    "def clean_hobbies(cell):\n",
    "    # Convert to lower case and check if the hobby matches any defined standard\n",
    "    for variant, standard in standard_hobbies.items():\n",
    "        if variant.lower() in cell.lower():\n",
    "            return standard\n",
    "    return 'Other'  # If no match found, return 'Other'\n",
    "\n",
    "# Apply the cleaning function\n",
    "df['CleanedHobbies'] = df['InterestsOrHobbies'].apply(clean_hobbies)\n",
    "\n",
    "# Get unique cleaned hobbies\n",
    "unique_hobbies = df['CleanedHobbies'].unique()\n",
    "\n",
    "# Print the cleaned hobbies\n",
    "print(unique_hobbies)\n"
   ]
  },
  {
   "cell_type": "markdown",
   "metadata": {},
   "source": [
    "### Cleaning the _CommunityChallenges_"
   ]
  },
  {
   "cell_type": "code",
   "execution_count": 54,
   "metadata": {},
   "outputs": [
    {
     "name": "stdout",
     "output_type": "stream",
     "text": [
      "The number of unique values is 1023\n",
      "The number of unique values is 32\n"
     ]
    },
    {
     "data": {
      "text/plain": [
       "array(['unemployment', 'unknown', 'social_amenities_sanitation',\n",
       "       'teenage_pregnancy', 'social_amenities_water_challenges',\n",
       "       'social_amenities_PoorRoads/Bridges', 'lack_of_quality_education',\n",
       "       'security', 'social_amenities_toilet_challenges', 'gambling',\n",
       "       'drug/alcohol_abuse', 'financial_challenges', 'promiscuity',\n",
       "       'peer_pressure', 'lack_of_support',\n",
       "       'lack_of_recreational_facilities', 'PWDs_challenges', 'theft',\n",
       "       'social_amenities_electricity', 'social_amenities_health',\n",
       "       'poor_leaders', 'ghetto_lifestyle', 'social_amenities_lightening',\n",
       "       'inadequate_skills_training', 'fraudulent_activities',\n",
       "       'social_media_influence', 'social_amenities_accommodation',\n",
       "       'environmental_flooding', 'poor_network_connections', 'inflation',\n",
       "       'entrepreneurship_challenges',\n",
       "       'low_youth_participation_in_decision_making'], dtype=object)"
      ]
     },
     "execution_count": 54,
     "metadata": {},
     "output_type": "execute_result"
    }
   ],
   "source": [
    "df['CommunityChallenges'].fillna('unknown', inplace=True)\n",
    "\n",
    "print(f\"The number of unique values is {df['CommunityChallenges'].nunique()}\")\n",
    "\n",
    "df['CommunityChallenges'] = df['CommunityChallenges'].str.lower().str.strip().str.replace('[^\\w\\s]', '', regex=True)\n",
    "\n",
    "challenges_dict = {\n",
    "    'social_amenities_PoorRoads/Bridges': [\n",
    "        'road', 'bridge', 'trans', 'potholes'\n",
    "    ],\n",
    "    'social_amenities_sanitation': [\n",
    "        'sanitation', 'danitstion problem', 'wast', 'filtering around the community', 'pollu',\n",
    "        'bad drainage system', 'improper disposal of garbage', 'dump site situated just behind a school',\n",
    "        'dirt'\n",
    "    ],\n",
    "    'social_amenities_water_challenges': [\n",
    "        'water', 'pipe'\n",
    "    ],\n",
    "    'PWDs_challenges': [\n",
    "        'discri', 'stig', 'special needs support and inclusion', 'lack of community engagement and participation especially with deaf people',\n",
    "        'no support for handicap in the community', 'unfriendly terrain'\n",
    "        \n",
    "    ],\n",
    "    'social_amenities_toilet_challenges': [\n",
    "        'toilet'\n",
    "    ],\n",
    "    'social_amenities_lightening': [\n",
    "        'light'\n",
    "    ],\n",
    "    'social_amenities_accommodation': [\n",
    "        'accom', 'sleep'\n",
    "    ],\n",
    "    'social_amenities_electricity': [\n",
    "        'elec'\n",
    "    ],\n",
    "    'social_amenities_health': [\n",
    "        'hos', 'health'\n",
    "    ],\n",
    "    'teenage_pregnancy': [\n",
    "        'teen', 'early', 'child marriage'\n",
    "    ],\n",
    "    'theft': [\n",
    "        'robb', 'thief', 'steal', 'stilling', 'rubbery', 'theft', 'high crime rate',\n",
    "        'increase in crime rate', 'there is an increase in social vices among the youth leading to appalling incidences',\n",
    "        \n",
    "    ],\n",
    "    'fraudulent_activities': [\n",
    "        'fraud', 'scam', 'frude'\n",
    "    ],\n",
    "    'ghetto_lifestyle': [\n",
    "        'getto',  'ghet'\n",
    "    ],\n",
    "    'environmental_flooding': [\n",
    "        'flood'\n",
    "    ],\n",
    "    'drug/alcohol_abuse': [\n",
    "        'drug', 'smo', 'shisha', 'subs', 'alcohol', 'opening of a new pub near the road side allowing the youth to buy all kind of stuffs there',\n",
    "        \n",
    "    ],\n",
    "    'social_media_influence': [\n",
    "        'media'\n",
    "    ],\n",
    "    'peer_pressure': [\n",
    "        'peer', 'pressure'\n",
    "    ],\n",
    "    'lack_of_quality_education': [\n",
    "        'edu', 'sch', 'leaning material', 'library', 'few classrooms', 'i c t facilities',\n",
    "        'illiteracy', 'illetrate', 'inadequate social life education and mentorship',\n",
    "        'overcrowding of students in various schools', 'there are no buses in my school',\n",
    "        'there are no buses for students'\n",
    "    ],\n",
    "    'security': [\n",
    "        'secu'\n",
    "    ],\n",
    "    'poor_leaders': [\n",
    "        'leader'\n",
    "    ]\n",
    "    ,\n",
    "    'inflation': [\n",
    "        'high prices of goods and services', 'inflation', 'expen', 'high cost of living',\n",
    "        'high standard of living'\n",
    "    ],\n",
    "    'financial_challenges': [\n",
    "        'finan', 'poverty', 'hardship', 'lack of purpose due to economic uncertainty', 'hard economy',\n",
    "        'salary', 'money', 'wages', 'hunger', 'hardship in the economy'\n",
    "    ],\n",
    "    'low_youth_participation_in_decision_making': [\n",
    "        'decision', 'ineffective', 'youth voices are not heard in my community',\n",
    "        'inability to exercise their right', 'should be given the chance to express their views in political firm',\n",
    "        'lack of youth participation'\n",
    "        \n",
    "    ],\n",
    "    'inadequate_skills_training': [\n",
    "        'skill', 'limited opportunities for hands -on learning', 'traini', 'limited networking and mentorship'\n",
    "    ],\n",
    "    'entrepreneurship_challenges': [\n",
    "        'entre'\n",
    "    ],\n",
    "    'lack_of_support': [\n",
    "        'support', 'capital', 'neglect by government', 'money to establish their on jobs'\n",
    "        'loans to expand business'\n",
    "    ],\n",
    "    'lack_of_recreational_facilities': [\n",
    "        'foot', 'pitches', 'few sports facilities', 'recreational', 'lack of astro turf', 'lack of playing ground',\n",
    "        'less entertainment centre'\n",
    "    ],\n",
    "    'poor_network_connections': [\n",
    "        'internet', 'network issue', 'poor network connection', 'very poor network', 'bad network connection',\n",
    "        'bad network'\n",
    "    ],\n",
    "    'promiscuity': [\n",
    "        'pros', 'sex'\n",
    "    ],\n",
    "    'gambling': [\n",
    "        'gamb', 'bett'\n",
    "    ],\n",
    "    'unemployment': [\n",
    "        'unemploy', 'job', 'un employment', 'good works', 'laz', 'working issues', 'work issues',\n",
    "        'uneployment', 'communal work activities', 'lack of basic employment opportunities', 'work', 'employment'\n",
    "    ]\n",
    "}\n",
    "\n",
    "def challenges_cleaner(val):\n",
    "    for grouping, challenges in challenges_dict.items():\n",
    "        if any(challenge in val for challenge in challenges):\n",
    "            return grouping\n",
    "    return 'unknown'\n",
    "    \n",
    "df['CommunityChallenges'] = df['CommunityChallenges'].apply(challenges_cleaner)\n",
    "\n",
    "print(f\"The number of unique values is {df['CommunityChallenges'].nunique()}\")\n",
    "\n",
    "df['CommunityChallenges'].unique()\n"
   ]
  },
  {
   "cell_type": "markdown",
   "metadata": {},
   "source": [
    "### Cleaning _CommunityChallengesSolutions_"
   ]
  },
  {
   "cell_type": "code",
   "execution_count": 55,
   "metadata": {},
   "outputs": [
    {
     "data": {
      "text/plain": [
       "array(['creation_of_jobs/good_conditions', 'unknown', 'proper_sanitation',\n",
       "       'provision_of_quality/affordable_education/awareness_creation',\n",
       "       'provision_of_support', 'involvement_in_decision_making',\n",
       "       'improving_security_measure', 'providing_accessible_amenities',\n",
       "       'support_from_assembly', 'provision_of_street_light',\n",
       "       'sanctions_on_drug/alcohol_abuse',\n",
       "       'construction_of_roads/bridges/drainages/boreholes',\n",
       "       'training_and_skills_acquisition', 'good_leadership',\n",
       "       'youth_development', 'better_economy',\n",
       "       'provision_of_recreational_facilities', 'enforcing_the_law',\n",
       "       'good_parental_control',\n",
       "       'provision_of_quality_health_care/infrastructure',\n",
       "       'access_to_water', 'affordable_accomodation', 'gambling_control',\n",
       "       'low_cost_of_living', 'increasing_cybersecurity',\n",
       "       'improve_telecommunication', 'rehabilitation',\n",
       "       'encourage_entrepreneurship'], dtype=object)"
      ]
     },
     "execution_count": 55,
     "metadata": {},
     "output_type": "execute_result"
    }
   ],
   "source": [
    "df['CommunityChallengesSolutions'].fillna('unknown', inplace=True)\n",
    "\n",
    "df['CommunityChallengesSolutions'] = df['CommunityChallengesSolutions'].str.lower().str.strip().str.replace('[^\\w\\s]', '', regex=True)\n",
    "\n",
    "solution_dict = {\n",
    "    'creation_of_jobs/good_conditions': [\n",
    "        'job', 'emp', 'indus', 'work', 'fact', 'busin', 'compan', 'oppor', 'creating', 'government should create more',\n",
    "        'they should pay good salary in private sector', 'more facilities should be build through government'\n",
    "    ],\n",
    "    'provision_of_quality/affordable_education/awareness_creation': [\n",
    "        'aware', 'edu', 'adv', 'couns', 'sensi', 'teac', 'sch', 'lear', 'lean', 'if information would widely be spread about teenage pregnancy',\n",
    "        'sex', 'libra', 'councelling', 'discr', 'gui', 'provision of buses',\n",
    "        'the young girls should me more careful', 'government should provide  more desk', 'provision of buses for students',\n",
    "        'the girls now a days should take their time and be careful', 'approach the individual',\n",
    "        \n",
    "    ],\n",
    "    'sanctions_on_drug/alcohol_abuse': [\n",
    "        'drug', 'subs', 'weed', 'government should put restrictions on it', 'by closing down all that place', 'put a band on it if possible',\n",
    "        'limit them', 'a complete ban on certain applications', 'drive with cousions dont drink and drive',\n",
    "        'doctors must proscribe meds before they sell', 'arrest', 'pharmacys should also stop selling unpriscribe medds',\n",
    "        'by take measures to ttackly the situation'\n",
    "    ],\n",
    "    'rehabilitation': [\n",
    "        'rehab'\n",
    "    ],\n",
    "    'construction_of_roads/bridges/drainages/boreholes': [\n",
    "        'const', 'fix', 'bore', 'road', 'transpo', 'providing proper streets', 'drain'\n",
    "    ],\n",
    "    'proper_sanitation': [\n",
    "        'clean', 'communal', 'distilling our gutters', 'sani', 'wast', 'dust', 'bins', 'organizing of comminual labour',\n",
    "        'i think they should provide more containers', 'there are no recycling beene in the environment', 'resources the zoomlayon',\n",
    "        'more beens must be provide', 'organize of comminual labour'\n",
    "    ],\n",
    "    'increasing_cybersecurity': ['arresting all potential scammers', 'cybers'],\n",
    "    'improving_security_measure': [\n",
    "        'secu', 'police', 'thef'\n",
    "    ],\n",
    "    'training_and_skills_acquisition': [\n",
    "        'train', 'skill', 'vocat', 'appren', 'tvet', 'mento', 'talent retention programs', 'coming up with experiential programs',\n",
    "        \n",
    "    ],\n",
    "    'good_leadership': [\n",
    "        'lead', 'corru', 'governance', 'off', 'better government system', 'better system', 'through proper government policies',\n",
    "        'change of government'\n",
    "    ],\n",
    "    'affordable_accomodation': [\n",
    "        'government should build a place at an affordable rent to pwds', 'they should provide affordable accommodation',\n",
    "        'availability of accommodation for street children', 'ensuring the availability of accommodation'\n",
    "    ],\n",
    "    'gambling_control': [\n",
    "        'gamb', 'betti'\n",
    "    ],\n",
    "    'involvement_in_decision_making': [\n",
    "        'decis', 'community', 'developing a shared vision', 'by them being themselves',\n",
    "        'by knowing ourselves', 'everyone must do their best', 'everyone should be careful',\n",
    "        'government should take our demands into consideration', 'by respecting each others view in the you',\n",
    "        \n",
    "    ],\n",
    "    'enforcing_the_law': ['law', 'rule', 'enfor', 'innovative'],\n",
    "    'provision_of_street_light': ['light'],\n",
    "    'provision_of_support': [\n",
    "        'fina', 'loan', 'mone', 'capi', 'support', 'aid', 'help', 'assista', 'need',\n",
    "        'provision of them', 'actually it depends on the government i think the government should know how to control all this problems',\n",
    "        'unless the government come in a solve', 'through the government and private institutions',\n",
    "        'the government should come in', 'the government should get involved in this', 'the government should involve',\n",
    "        'government must rise up and look into solving these problems', 'providing', 'our mp should provide', 'from government provide',\n",
    "        'by pumping monies not the system', 'increase access to funding and resources', 'put measure in place to control the situation',\n",
    "        'fund', 'through government', 'government should push those with talent higher', 'involving the government',\n",
    "        'unless the government come in', 'government should provide', 'through the mp', 'government provide',\n",
    "    ],\n",
    "    'encourage_entrepreneurship': ['entre', 'creative', ],\n",
    "    'support_from_assembly': ['assem', 'authori', 'municipal'],\n",
    "    'good_parental_control': [\n",
    "        'parent', 'restricting teenagers in using smart phones', 'families should know how to control their children',\n",
    "        'families should be responsible'\n",
    "    ],\n",
    "    'provision_of_quality_health_care/infrastructure': [\n",
    "        'health', 'clinic', 'hosp', 'government must build more laboratory'\n",
    "    ],\n",
    "    'access_to_water': [\n",
    "        'water', 'polytank for every house'\n",
    "    ],\n",
    "    'better_economy': ['economy', 'proper economic conditions in the country'],\n",
    "    'improve_telecommunication': ['communication', 'internet'],\n",
    "    'youth_development': ['youth'],\n",
    "    'low_cost_of_living': [\n",
    "        'moderate', 'expens', 'by cutting down the cost of items which are increased every week',\n",
    "        'by government cutting down the rate at which prices are shooting up', 'by government solving the situation on inflation',\n",
    "        \n",
    "    ],\n",
    "    'providing_accessible_amenities': [\n",
    "            'toilet', 'social', 'providing it', 'providing them'\n",
    "        ],\n",
    "    'provision_of_recreational_facilities': [\n",
    "        'putting up astroturfs', 'ensuring the availability of playing grounds', 'it is the duty of the mce to provide us turf for better sports'\n",
    "\n",
    "    ]\n",
    "    \n",
    "}\n",
    "\n",
    "tpy = df['CommunityChallengesSolutions'].copy()\n",
    "\n",
    "def solutions_cleaner(val):\n",
    "    for grouping, solutions in solution_dict.items():\n",
    "        if any(solution in val for solution in solutions):\n",
    "            return grouping\n",
    "    return 'unknown'\n",
    "\n",
    "df['CommunityChallengesSolutions'] = df['CommunityChallengesSolutions'].apply(solutions_cleaner)\n",
    "#\n",
    "\n",
    "df['CommunityChallengesSolutions'].unique()"
   ]
  },
  {
   "cell_type": "markdown",
   "metadata": {},
   "source": [
    "### Cleaning _AdditionalInfo_"
   ]
  },
  {
   "cell_type": "code",
   "execution_count": 56,
   "metadata": {},
   "outputs": [
    {
     "data": {
      "text/plain": [
       "array(['unknown', 'teenage_pregnancy', 'improper_layouts',\n",
       "       'lack_of_social_amenities', 'education_challenges',\n",
       "       'financial_assistance', 'unemployment', 'theft', 'peaceful',\n",
       "       'soliciting_support', 'more_developmental_projects',\n",
       "       'personal_issues', 'sensitization_about_pwd_issues', 'counseling',\n",
       "       'sports', 'more_info_about_the_project',\n",
       "       'environmental/social/economic_challenges', 'good_behaviour',\n",
       "       'training/skills_acquisition', 'sanitation',\n",
       "       'expensive_accommodation', 'need_for_good_leadership',\n",
       "       'youth_involvement', 'gambling/fraudulent_activities',\n",
       "       'drug/alcohol_abuse', 'bad_neighbourhood',\n",
       "       'youth_engagement_in_farming', 'security_issues',\n",
       "       'religious_violence'], dtype=object)"
      ]
     },
     "execution_count": 56,
     "metadata": {},
     "output_type": "execute_result"
    }
   ],
   "source": [
    "df['AdditionalInfo'].fillna('unknown', inplace=True)\n",
    "\n",
    "df['AdditionalInfo'] = df['AdditionalInfo'].str.lower().str.strip().str.replace('[^\\w\\s]', '', regex=True)\n",
    "\n",
    "additional_info_dict = {\n",
    "    'lack_of_social_amenities': [\n",
    "        'water', 'social amenities', 'light', 'road', 'toilet', 'clinic', 'lack of healthcare facilities', 'we want our street bulbs to work regularly',\n",
    "        \n",
    "    ],\n",
    "    'education_challenges': [\n",
    "        'sch', 'illiteracy', 'edu'\n",
    "    ],\n",
    "    'training/skills_acquisition': [\n",
    "        'learn', 'train', 'skill', 'am interested in apprenticeship programme'\n",
    "    ],\n",
    "    'unemployment': [\n",
    "        'emp', 'job', 'unemp', 'work has become scared for us', 'i can work at a stationary point', 'we lack infrastructures and work',\n",
    "        'the youth dont like working', 'struggling within the youth is too much in terms of earning money'\n",
    "    ],\n",
    "    'drug/alcohol_abuse': [\n",
    "        'drug', 'alco', 'subs', 'smo'\n",
    "    ],\n",
    "    'sanitation': [\n",
    "        'sani', 'clean', 'waste', 'drain', 'we need community metal refuse containers', 'communal'\n",
    "    ],\n",
    "    'financial_assistance': [\n",
    "        'busin', 'im having a challenge in raising funds for a surgery', 'eversince i was born i struggle to feed myself', 'im suffering',\n",
    "        'i have a passion to be an entrepreneur but i dont have the funds',\n",
    "        'the work am doing is paying much and it does not reach my need  if there is any means they can do to increase private workers salary',\n",
    "        'money', 'poverty'\n",
    "    ],\n",
    "    'theft': [\n",
    "        'steal', 'robb', 'thef'\n",
    "    ],\n",
    "    'soliciting_support': [\n",
    "        'supp', 'government should provide social amenities', 'help'\n",
    "    ],\n",
    "    'environmental/social/economic_challenges': [\n",
    "        'env', 'increasing stress anxiety and depression often compounded by social and economic pressures can negatively affect young people',\n",
    "        'flood', 'fix galamsey', 'what measures can ghana use fight against gamsea and corruption',\n",
    "        'i personally think politicians are for their selfish interest'\n",
    "    ],\n",
    "    'more_developmental_projects': [\n",
    "        'strengthening youth organizations that focus on political and social change and encouraging leadership development',\n",
    "         'deve', 'community has potential', 'i would like my community to be one of the best', \n",
    "         'and in the community place of inconvenience is also a factor',\n",
    "         'addressing political instability and crime involves strengthening law enforcement promoting justice and ensuring equal opportunities for youth especially in highcrime areas',\n",
    "         'i want them to promote my talent', 'we need more programmes', 'keep on doing this is a nice idea',\n",
    "         'there is a lot of talent here'\n",
    "    ],\n",
    "    'counseling': [\n",
    "        'adv', 'couns'\n",
    "    ],\n",
    "    'teenage_pregnancy': [\n",
    "        'teen'\n",
    "    ],\n",
    "    'youth_engagement_in_farming': ['the youth should engage in farming'],\n",
    "    'security_issues': [\n",
    "        'secu', 'the community lacks police visibility',\n",
    "        'the community lacks police visibility making the youth indulge in all forms of bad life like smoking and sexual activities',\n",
    "        'it a cool community with less police presence', \n",
    "    ],\n",
    "    'more_info_about_the_project': [\n",
    "        'proj'\n",
    "    ],\n",
    "    'expensive_accommodation': [\n",
    "        'accom', 'rent'\n",
    "    ],\n",
    "    'improper_layouts': [\n",
    "        'layout'\n",
    "    ],\n",
    "    'peaceful': [\n",
    "        'peace', 'quiet', 'quite', 'the community is very cool'\n",
    "    ],\n",
    "    'sensitization_about_pwd_issues': [\n",
    "        'we albinos are not scary', 'what are the government take care of disability'\n",
    "    ],\n",
    "    'personal_issues': [\n",
    "        'am a calm guy', 'am a independent person', 'i am a person who is confident and passionate about whatever the concerns me and those around me',\n",
    "        'mentally not stable and my speech is not that well', 'im a singer', 'im a dancer', 'im a hardworking young man', 'intelligent',\n",
    "        'im a christian', 'im not friendly on my community', 'im an introvert'\n",
    "    ],\n",
    "    'need_for_good_leadership': [\n",
    "        'lead', 'we need good governance', 'yea we need good leaders here', 'we should hold the leaders accountable',\n",
    "        'let ask the leaders for accountability', 'we want government to managed our resources',\n",
    "        \n",
    "    ],\n",
    "    'good_behaviour': [\n",
    "        'we need to discipline ourselves', 'by keeping ourselves clear and safe', 'hardworking'\n",
    "    ],\n",
    "    'sports': [\n",
    "        'foot'\n",
    "    ],\n",
    "    'youth_involvement': [\n",
    "        'the youth must be connected to the stakeholders in our community', 'there must be community engagement where there will be forum for the youth to share their grievance',\n",
    "        'those in power in the community must involve everyone in participation of activities', 'we should involving our self in town hall meets',\n",
    "        'community engagement', 'how can the youth be from municipality assemble'\n",
    "    ],\n",
    "    'gambling/fraudulent_activities': [\n",
    "        'fraud', 'gamb', 'bett', 'scam'\n",
    "    ],\n",
    "    'bad_neighbourhood': [\n",
    "        'the community isnt a good community for a proper upbring of children because it consists of so many bad vices',\n",
    "        'the community mostly like violence', 'im a chorister', 'bad yourself',\n",
    "        'the community breeds more of the bad boys within the koforidua town'\n",
    "    ],\n",
    "    'religious_violence': [\n",
    "        'violence there is usually conflicts between the muslims and christians in the community'\n",
    "    ]\n",
    "        \n",
    "}\n",
    "\n",
    "def additional_info_cleaner(val):\n",
    "    for grouping, infos in additional_info_dict.items():\n",
    "        if any(info in val for info in infos):\n",
    "            return grouping\n",
    "    return 'unknown'\n",
    "\n",
    "df['AdditionalInfo'] = df['AdditionalInfo'].apply(additional_info_cleaner)\n",
    "\n",
    "df['AdditionalInfo'].unique()"
   ]
  },
  {
   "cell_type": "code",
   "execution_count": 57,
   "metadata": {},
   "outputs": [
    {
     "data": {
      "text/plain": [
       "Index(['Age', 'Gender', 'MaritalStatus', 'HasChildren', 'NumChildren',\n",
       "       'HasDisability', 'DisabilityType', 'EducationStatus',\n",
       "       'HighestEducationLevel', 'CurrentEducationLevel', 'DayLocation',\n",
       "       'NightLocation', 'Residence_OldEstateWest', 'Residence_OldEstateEast',\n",
       "       'Residence_Nyamekrom', 'Residence_RailwayStation',\n",
       "       'Residence_NsuakwoAbotanso', ' Residence_Tanoso', 'Residence_Nsukwaoso',\n",
       "       'Residence_OsabeneMile_50', 'Residence_AdwesoEstate',\n",
       "       'Residence_AdwesoTown', 'Residence_TwoStreams',\n",
       "       'Residence_NyeredeNorth', 'Residence_NyeredeSouth', 'Residence_Oguaa',\n",
       "       'Residence_ResidentialArea', 'Residence_Sempoamiensa',\n",
       "       'Residence_OhemaaPark', 'Residence_Adontua', 'Residence_SchoolTown',\n",
       "       'Residence_Anglican', 'Residence_Asuafiriso', 'Residence_AnloTownSouth',\n",
       "       'Residence_AnloTownNorth', 'Residence_CentralHospital',\n",
       "       'Residence_KluTownYawKyerema', 'Residence_SocialWelfare',\n",
       "       'Residence_CentralMarket', 'Residence_Debrakrom',\n",
       "       'Residence_AkwaasuAsebi', 'Residence_Kantudu', 'Residence_NewZongo_AB',\n",
       "       'Residence_NewZongo_C', 'Residence_NewZongo_D', 'Residence_Ada',\n",
       "       'PhoneNumber', 'OnWhatsApp', 'WhatsAppNumber', 'OnSocialMedia',\n",
       "       'EmailAddressOptional', 'EmploymentStatus', 'EmploymentNature',\n",
       "       'JobSearchStatus', 'EmploymentSatisfaction', 'UndergoingTraining',\n",
       "       'TrainingTypeAndReason', 'AccessToAmenities', 'AmenitiesType',\n",
       "       'HasHealthInsurance', 'HasVotersID', 'VotedBefore', 'PlanToVote',\n",
       "       'TownHallParticipation', 'CommunityActivity', 'ActivityType',\n",
       "       'HeardAboutKofkroProject', 'SourceOfKofkroInfo', 'InterestsOrHobbies',\n",
       "       'CommunityChallenges', 'CommunityChallengesSolutions', 'AdditionalInfo',\n",
       "       'YouthActivityInterest', 'FutureFollowupInterest',\n",
       "       'QuestionsOrSuggestions', 'SuggestionsOrRecommendations',\n",
       "       'SocialMediaPlatforms_Facebook', 'SocialMediaPlatforms_Twitter',\n",
       "       'SocialMediaPlatforms_Instagram', 'SocialMediaPlatforms_Snapchat',\n",
       "       'SocialMediaPlatforms_Tiktok', 'CleanedAmenities',\n",
       "       'CleanedAmenitiesStr', 'Standardized_Activity', 'CleanedSource',\n",
       "       'CleanedHobbies'],\n",
       "      dtype='object')"
      ]
     },
     "execution_count": 57,
     "metadata": {},
     "output_type": "execute_result"
    }
   ],
   "source": [
    "df.columns"
   ]
  },
  {
   "cell_type": "code",
   "execution_count": 58,
   "metadata": {},
   "outputs": [
    {
     "data": {
      "text/plain": [
       "array([nan, 'Yes', 'No', 'Maybe'], dtype=object)"
      ]
     },
     "execution_count": 58,
     "metadata": {},
     "output_type": "execute_result"
    }
   ],
   "source": [
    "df['YouthActivityInterest'].unique()"
   ]
  },
  {
   "cell_type": "code",
   "execution_count": 59,
   "metadata": {},
   "outputs": [
    {
     "data": {
      "text/plain": [
       "array([nan, 'Yes', 'Maybe', 'No'], dtype=object)"
      ]
     },
     "execution_count": 59,
     "metadata": {},
     "output_type": "execute_result"
    }
   ],
   "source": [
    "df['FutureFollowupInterest'].unique()"
   ]
  },
  {
   "cell_type": "code",
   "execution_count": 60,
   "metadata": {},
   "outputs": [
    {
     "data": {
      "text/plain": [
       "array([nan, 'No', 'Maybe', 'Yes'], dtype=object)"
      ]
     },
     "execution_count": 60,
     "metadata": {},
     "output_type": "execute_result"
    }
   ],
   "source": [
    "df['QuestionsOrSuggestions'].unique()"
   ]
  },
  {
   "cell_type": "markdown",
   "metadata": {},
   "source": [
    "### Cleaning _SuggestionsOrRecommendations_ feature"
   ]
  },
  {
   "cell_type": "code",
   "execution_count": 61,
   "metadata": {},
   "outputs": [
    {
     "data": {
      "text/plain": [
       "array(['great_initiative', 'unknown', 'creation_of_jobs',\n",
       "       'more_about_afes/project', 'act_on_the_responses',\n",
       "       'training/skills_acquisition', 'youth_involvement/development',\n",
       "       'provision_of_social_amenities',\n",
       "       'measures_to_curb_drug/alcohol_abuse', 'ghetto',\n",
       "       'financial_support', 'awareness_creation',\n",
       "       'education_on_teenage_pregnancy/child_marriage,parenting',\n",
       "       'involvement_of_PWDs', 'promotion_of_peace', 'low_cost_of_living',\n",
       "       'improve_security'], dtype=object)"
      ]
     },
     "execution_count": 61,
     "metadata": {},
     "output_type": "execute_result"
    }
   ],
   "source": [
    "df['SuggestionsOrRecommendations'].fillna('unknown', inplace=True)\n",
    "\n",
    "df['SuggestionsOrRecommendations'] = df['SuggestionsOrRecommendations'].str.lower().str.strip().str.replace('[^\\w\\s]', '', regex=True)\n",
    "\n",
    "suggestions_recommendations_dict = {\n",
    "    'training/skills_acquisition': ['train', 'skill', 'tvet', \n",
    "        'i suggest you lend a helping hand or startup to craftsmen in order so they can improve on themselves by getting the needed equipment so they can also teach and impart others',\n",
    "        \n",
    "    ],\n",
    "    'creation_of_jobs': ['job', 'emp', 'pls i need help i have driving licenses but i dont have a vehicle to drive if there will be any form of assistance',\n",
    "\n",
    "    ],\n",
    "    'awareness_creation': ['awar', 'couns', 'information must spread that education is powerful', \n",
    "        'if information about education could widely be spread and it importance'\n",
    "    ],\n",
    "    'measures_to_curb_drug/alcohol_abuse': ['drug', 'substan', 'smo', 'something must be done about the pub before it turns into a big problem'],\n",
    "    'more_about_afes/project': ['afes', 'proj', 'prog', 'survey', 'kofkro', 'exerc', \n",
    "            'this is a good initiative', 'effec', 'i would like to be part of you', 'come into shs schools and elaborate on this more',\n",
    "            'are you peoples trying to help us to achieve our future dreams', 'what is the aim of this platform',\n",
    "            'why are u taken this information', 'what help will the orgnization offer',\n",
    "            'will you people be sharing something in your meetings', 'why are you taken the manifesto', 'i want to be part of you',\n",
    "            'what will i benefit from this', 'how are you going to help solve these problems in    the community', \n",
    "            'what are the leaders in this ghana doing about resources'\n",
    "    ], \n",
    "    'ghetto': ['ghetto'],\n",
    "    'youth_involvement/development': ['youth', 'dev', 'please help and make ghana better', 'policies', 'if government can make the economy stable',\n",
    "        'what are the ways one can be part of good governance', 'we want our leaders to be accountable to us', 'we want more studentsto be part in this activities',\n",
    "        \n",
    "    ],\n",
    "    'involvement_of_PWDs': ['dis', 'we should concentrate more on physically challenged persons'],\n",
    "    'great_initiative': ['thank', 'it very good if it not partizan neither being backed by any political party', 'keep it up'],\n",
    "    'education_on_teenage_pregnancy/child_marriage,parenting': ['teen', 'sex education must be well spread', 'protect childrens rights and ensure laws against child marriage are upheld',\n",
    "        'parents should be sensitised on the need to involve themselves in the lives of their ward'\n",
    "    ],\n",
    "    'provision_of_social_amenities': ['road', 'water', 'provide of social amenities', 'we also need street lights',],\n",
    "    'improve_security': ['secu'],\n",
    "    'act_on_the_responses': ['i want the government to take the findings of this questionnaire seriously',\n",
    "        'my question is how are you going to help when it comes to this matters', 'will this really be used',\n",
    "        'i think it should be serious and goal oriented', 'my question is how are you going to help', 'i recommend you speak to the assembly man',\n",
    "        'so what are this platforms going to do for us and also where are we going to find out that our request will be making preparations',\n",
    "        'we are still expecting alot at least they should respond to us we are truly in need of work and support',\n",
    "        'i hope my contribution will be look at', 'kindly follow up on the matters to the necessity authorities',\n",
    "        'waiting for positive results', 'how am i going to trust you that this data is going to work',\n",
    "        'i think we use use the platform to tell the government or leaders to stop corruption and fight for the proper well being of the citizens in the community',\n",
    "        'how am l going to believe that this data you are collecting is going to work', 'im waiting to hear from you'\n",
    "    ],\n",
    "    'promotion_of_peace': ['you should used your medium to promote peace for the upcoming election', 'we want peaceful election'],\n",
    "    'low_cost_of_living': ['government should try their best to reduce the high cost of living'],\n",
    "    'financial_support': ['loan', 'help us to expand our business', 'money'],\n",
    "}\n",
    "\n",
    "def suggestion_cleaner(val):\n",
    "    for grouping, suggestions in suggestions_recommendations_dict.items():\n",
    "        if any(suggestion in val for suggestion in suggestions):\n",
    "            return grouping\n",
    "    return 'unknown'\n",
    "\n",
    "\n",
    "\n",
    "df['SuggestionsOrRecommendations'] = df['SuggestionsOrRecommendations'].apply(suggestion_cleaner)\n",
    "\n",
    "df['SuggestionsOrRecommendations'].unique()"
   ]
  },
  {
   "cell_type": "code",
   "execution_count": 62,
   "metadata": {},
   "outputs": [
    {
     "data": {
      "text/html": [
       "<div>\n",
       "<style scoped>\n",
       "    .dataframe tbody tr th:only-of-type {\n",
       "        vertical-align: middle;\n",
       "    }\n",
       "\n",
       "    .dataframe tbody tr th {\n",
       "        vertical-align: top;\n",
       "    }\n",
       "\n",
       "    .dataframe thead th {\n",
       "        text-align: right;\n",
       "    }\n",
       "</style>\n",
       "<table border=\"1\" class=\"dataframe\">\n",
       "  <thead>\n",
       "    <tr style=\"text-align: right;\">\n",
       "      <th></th>\n",
       "      <th>Age</th>\n",
       "      <th>Gender</th>\n",
       "      <th>MaritalStatus</th>\n",
       "      <th>HasChildren</th>\n",
       "      <th>NumChildren</th>\n",
       "      <th>HasDisability</th>\n",
       "      <th>DisabilityType</th>\n",
       "      <th>EducationStatus</th>\n",
       "      <th>HighestEducationLevel</th>\n",
       "      <th>CurrentEducationLevel</th>\n",
       "      <th>...</th>\n",
       "      <th>SocialMediaPlatforms_Facebook</th>\n",
       "      <th>SocialMediaPlatforms_Twitter</th>\n",
       "      <th>SocialMediaPlatforms_Instagram</th>\n",
       "      <th>SocialMediaPlatforms_Snapchat</th>\n",
       "      <th>SocialMediaPlatforms_Tiktok</th>\n",
       "      <th>CleanedAmenities</th>\n",
       "      <th>CleanedAmenitiesStr</th>\n",
       "      <th>Standardized_Activity</th>\n",
       "      <th>CleanedSource</th>\n",
       "      <th>CleanedHobbies</th>\n",
       "    </tr>\n",
       "  </thead>\n",
       "  <tbody>\n",
       "    <tr>\n",
       "      <th>0</th>\n",
       "      <td>31-35</td>\n",
       "      <td>Male</td>\n",
       "      <td>Maried</td>\n",
       "      <td>Yes</td>\n",
       "      <td>3.0</td>\n",
       "      <td>No</td>\n",
       "      <td>[none]</td>\n",
       "      <td>Currently attending</td>\n",
       "      <td>TERTIARY</td>\n",
       "      <td>NaN</td>\n",
       "      <td>...</td>\n",
       "      <td>Facebook</td>\n",
       "      <td>Tweeter</td>\n",
       "      <td>Instagram</td>\n",
       "      <td>unknown</td>\n",
       "      <td>unknown</td>\n",
       "      <td>[Toilet Facility, School, Water, Hospital, Ele...</td>\n",
       "      <td>Toilet Facility, School, Water, Hospital, Elec...</td>\n",
       "      <td>community_work</td>\n",
       "      <td>Other</td>\n",
       "      <td>Other</td>\n",
       "    </tr>\n",
       "    <tr>\n",
       "      <th>1</th>\n",
       "      <td>Unknown</td>\n",
       "      <td>Unknown</td>\n",
       "      <td>NaN</td>\n",
       "      <td>NaN</td>\n",
       "      <td>0.0</td>\n",
       "      <td>NaN</td>\n",
       "      <td>[none]</td>\n",
       "      <td>NaN</td>\n",
       "      <td>NaN</td>\n",
       "      <td>NaN</td>\n",
       "      <td>...</td>\n",
       "      <td>unknown</td>\n",
       "      <td>unknown</td>\n",
       "      <td>unknown</td>\n",
       "      <td>unknown</td>\n",
       "      <td>unknown</td>\n",
       "      <td>[No amenities]</td>\n",
       "      <td>No amenities</td>\n",
       "      <td>Other</td>\n",
       "      <td>Other</td>\n",
       "      <td>hobby</td>\n",
       "    </tr>\n",
       "    <tr>\n",
       "      <th>2</th>\n",
       "      <td>31-35</td>\n",
       "      <td>Female</td>\n",
       "      <td>Maried</td>\n",
       "      <td>Yes</td>\n",
       "      <td>3.0</td>\n",
       "      <td>No</td>\n",
       "      <td>[none]</td>\n",
       "      <td>NaN</td>\n",
       "      <td>TERTIARY</td>\n",
       "      <td>NaN</td>\n",
       "      <td>...</td>\n",
       "      <td>Facebook</td>\n",
       "      <td>unknown</td>\n",
       "      <td>unknown</td>\n",
       "      <td>unknown</td>\n",
       "      <td>unknown</td>\n",
       "      <td>[Toilet Facility, School, Water, Hospital, Ele...</td>\n",
       "      <td>Toilet Facility, School, Water, Hospital, Elec...</td>\n",
       "      <td>Other</td>\n",
       "      <td>Other</td>\n",
       "      <td>Other</td>\n",
       "    </tr>\n",
       "    <tr>\n",
       "      <th>3</th>\n",
       "      <td>Unknown</td>\n",
       "      <td>Unknown</td>\n",
       "      <td>NaN</td>\n",
       "      <td>NaN</td>\n",
       "      <td>0.0</td>\n",
       "      <td>NaN</td>\n",
       "      <td>[none]</td>\n",
       "      <td>NaN</td>\n",
       "      <td>JHS</td>\n",
       "      <td>NaN</td>\n",
       "      <td>...</td>\n",
       "      <td>unknown</td>\n",
       "      <td>unknown</td>\n",
       "      <td>unknown</td>\n",
       "      <td>unknown</td>\n",
       "      <td>unknown</td>\n",
       "      <td>[No amenities]</td>\n",
       "      <td>No amenities</td>\n",
       "      <td>Other</td>\n",
       "      <td>Other</td>\n",
       "      <td>hobby</td>\n",
       "    </tr>\n",
       "    <tr>\n",
       "      <th>4</th>\n",
       "      <td>15-20</td>\n",
       "      <td>Female</td>\n",
       "      <td>Single</td>\n",
       "      <td>No</td>\n",
       "      <td>0.0</td>\n",
       "      <td>No</td>\n",
       "      <td>[none]</td>\n",
       "      <td>Currently attending</td>\n",
       "      <td>SHS</td>\n",
       "      <td>SHS</td>\n",
       "      <td>...</td>\n",
       "      <td>unknown</td>\n",
       "      <td>unknown</td>\n",
       "      <td>unknown</td>\n",
       "      <td>unknown</td>\n",
       "      <td>Tiktok</td>\n",
       "      <td>[Toilet Facility, School, Water, Hospital, Ele...</td>\n",
       "      <td>Toilet Facility, School, Water, Hospital, Elec...</td>\n",
       "      <td>Other</td>\n",
       "      <td>Other</td>\n",
       "      <td>Other</td>\n",
       "    </tr>\n",
       "    <tr>\n",
       "      <th>5</th>\n",
       "      <td>21-25</td>\n",
       "      <td>Male</td>\n",
       "      <td>Single</td>\n",
       "      <td>No</td>\n",
       "      <td>0.0</td>\n",
       "      <td>No</td>\n",
       "      <td>[none]</td>\n",
       "      <td>Currently attending</td>\n",
       "      <td>SHS</td>\n",
       "      <td>TERTIARY</td>\n",
       "      <td>...</td>\n",
       "      <td>Facebook</td>\n",
       "      <td>unknown</td>\n",
       "      <td>unknown</td>\n",
       "      <td>unknown</td>\n",
       "      <td>Tiktok</td>\n",
       "      <td>[Electricity]</td>\n",
       "      <td>Electricity</td>\n",
       "      <td>Other</td>\n",
       "      <td>Other</td>\n",
       "      <td>hobby</td>\n",
       "    </tr>\n",
       "    <tr>\n",
       "      <th>6</th>\n",
       "      <td>26-30</td>\n",
       "      <td>Male</td>\n",
       "      <td>Single</td>\n",
       "      <td>No</td>\n",
       "      <td>0.0</td>\n",
       "      <td>NaN</td>\n",
       "      <td>[none]</td>\n",
       "      <td>Currently attending</td>\n",
       "      <td>SHS</td>\n",
       "      <td>TERTIARY</td>\n",
       "      <td>...</td>\n",
       "      <td>unknown</td>\n",
       "      <td>unknown</td>\n",
       "      <td>unknown</td>\n",
       "      <td>unknown</td>\n",
       "      <td>unknown</td>\n",
       "      <td>[Electricity]</td>\n",
       "      <td>Electricity</td>\n",
       "      <td>Other</td>\n",
       "      <td>Other</td>\n",
       "      <td>Other</td>\n",
       "    </tr>\n",
       "    <tr>\n",
       "      <th>7</th>\n",
       "      <td>31-35</td>\n",
       "      <td>Female</td>\n",
       "      <td>Single</td>\n",
       "      <td>No</td>\n",
       "      <td>0.0</td>\n",
       "      <td>No</td>\n",
       "      <td>[none]</td>\n",
       "      <td>Attended school in the past</td>\n",
       "      <td>TVET</td>\n",
       "      <td>NaN</td>\n",
       "      <td>...</td>\n",
       "      <td>Facebook</td>\n",
       "      <td>Tweeter</td>\n",
       "      <td>Instagram</td>\n",
       "      <td>Snapchat</td>\n",
       "      <td>Tiktok</td>\n",
       "      <td>[Toilet Facility, School, Water, Hospital, Ele...</td>\n",
       "      <td>Toilet Facility, School, Water, Hospital, Elec...</td>\n",
       "      <td>Other</td>\n",
       "      <td>Other</td>\n",
       "      <td>Other</td>\n",
       "    </tr>\n",
       "    <tr>\n",
       "      <th>8</th>\n",
       "      <td>21-25</td>\n",
       "      <td>Female</td>\n",
       "      <td>Single</td>\n",
       "      <td>No</td>\n",
       "      <td>0.0</td>\n",
       "      <td>No</td>\n",
       "      <td>[none]</td>\n",
       "      <td>Attended school in the past</td>\n",
       "      <td>TVET</td>\n",
       "      <td>NaN</td>\n",
       "      <td>...</td>\n",
       "      <td>Facebook</td>\n",
       "      <td>Tweeter</td>\n",
       "      <td>Instagram</td>\n",
       "      <td>Snapchat</td>\n",
       "      <td>Tiktok</td>\n",
       "      <td>[Toilet Facility, School, Water, Hospital, Ele...</td>\n",
       "      <td>Toilet Facility, School, Water, Hospital, Elec...</td>\n",
       "      <td>Other</td>\n",
       "      <td>Radio</td>\n",
       "      <td>Other</td>\n",
       "    </tr>\n",
       "    <tr>\n",
       "      <th>9</th>\n",
       "      <td>26-30</td>\n",
       "      <td>Female</td>\n",
       "      <td>NaN</td>\n",
       "      <td>Yes</td>\n",
       "      <td>1.0</td>\n",
       "      <td>No</td>\n",
       "      <td>[none]</td>\n",
       "      <td>Attended school in the past</td>\n",
       "      <td>JHS</td>\n",
       "      <td>NaN</td>\n",
       "      <td>...</td>\n",
       "      <td>unknown</td>\n",
       "      <td>unknown</td>\n",
       "      <td>unknown</td>\n",
       "      <td>unknown</td>\n",
       "      <td>Tiktok</td>\n",
       "      <td>[Toilet Facility, School, Water, Hospital, Ele...</td>\n",
       "      <td>Toilet Facility, School, Water, Hospital, Elec...</td>\n",
       "      <td>Other</td>\n",
       "      <td>Other</td>\n",
       "      <td>Other</td>\n",
       "    </tr>\n",
       "  </tbody>\n",
       "</table>\n",
       "<p>10 rows × 86 columns</p>\n",
       "</div>"
      ],
      "text/plain": [
       "       Age   Gender MaritalStatus HasChildren  NumChildren HasDisability  \\\n",
       "0    31-35     Male        Maried         Yes          3.0            No   \n",
       "1  Unknown  Unknown           NaN         NaN          0.0           NaN   \n",
       "2    31-35   Female        Maried         Yes          3.0            No   \n",
       "3  Unknown  Unknown           NaN         NaN          0.0           NaN   \n",
       "4    15-20   Female        Single          No          0.0            No   \n",
       "5    21-25     Male        Single          No          0.0            No   \n",
       "6    26-30     Male        Single          No          0.0           NaN   \n",
       "7    31-35   Female        Single          No          0.0            No   \n",
       "8    21-25   Female        Single          No          0.0            No   \n",
       "9    26-30   Female           NaN         Yes          1.0            No   \n",
       "\n",
       "  DisabilityType              EducationStatus HighestEducationLevel  \\\n",
       "0         [none]          Currently attending              TERTIARY   \n",
       "1         [none]                          NaN                   NaN   \n",
       "2         [none]                          NaN              TERTIARY   \n",
       "3         [none]                          NaN                   JHS   \n",
       "4         [none]          Currently attending                   SHS   \n",
       "5         [none]          Currently attending                   SHS   \n",
       "6         [none]          Currently attending                   SHS   \n",
       "7         [none]  Attended school in the past                  TVET   \n",
       "8         [none]  Attended school in the past                  TVET   \n",
       "9         [none]  Attended school in the past                   JHS   \n",
       "\n",
       "  CurrentEducationLevel  ... SocialMediaPlatforms_Facebook  \\\n",
       "0                   NaN  ...                      Facebook   \n",
       "1                   NaN  ...                       unknown   \n",
       "2                   NaN  ...                      Facebook   \n",
       "3                   NaN  ...                       unknown   \n",
       "4                   SHS  ...                       unknown   \n",
       "5              TERTIARY  ...                      Facebook   \n",
       "6              TERTIARY  ...                       unknown   \n",
       "7                   NaN  ...                      Facebook   \n",
       "8                   NaN  ...                      Facebook   \n",
       "9                   NaN  ...                       unknown   \n",
       "\n",
       "  SocialMediaPlatforms_Twitter SocialMediaPlatforms_Instagram  \\\n",
       "0                      Tweeter                      Instagram   \n",
       "1                      unknown                        unknown   \n",
       "2                      unknown                        unknown   \n",
       "3                      unknown                        unknown   \n",
       "4                      unknown                        unknown   \n",
       "5                      unknown                        unknown   \n",
       "6                      unknown                        unknown   \n",
       "7                      Tweeter                      Instagram   \n",
       "8                      Tweeter                      Instagram   \n",
       "9                      unknown                        unknown   \n",
       "\n",
       "  SocialMediaPlatforms_Snapchat SocialMediaPlatforms_Tiktok  \\\n",
       "0                       unknown                     unknown   \n",
       "1                       unknown                     unknown   \n",
       "2                       unknown                     unknown   \n",
       "3                       unknown                     unknown   \n",
       "4                       unknown                      Tiktok   \n",
       "5                       unknown                      Tiktok   \n",
       "6                       unknown                     unknown   \n",
       "7                      Snapchat                      Tiktok   \n",
       "8                      Snapchat                      Tiktok   \n",
       "9                       unknown                      Tiktok   \n",
       "\n",
       "                                    CleanedAmenities  \\\n",
       "0  [Toilet Facility, School, Water, Hospital, Ele...   \n",
       "1                                     [No amenities]   \n",
       "2  [Toilet Facility, School, Water, Hospital, Ele...   \n",
       "3                                     [No amenities]   \n",
       "4  [Toilet Facility, School, Water, Hospital, Ele...   \n",
       "5                                      [Electricity]   \n",
       "6                                      [Electricity]   \n",
       "7  [Toilet Facility, School, Water, Hospital, Ele...   \n",
       "8  [Toilet Facility, School, Water, Hospital, Ele...   \n",
       "9  [Toilet Facility, School, Water, Hospital, Ele...   \n",
       "\n",
       "                                 CleanedAmenitiesStr Standardized_Activity  \\\n",
       "0  Toilet Facility, School, Water, Hospital, Elec...        community_work   \n",
       "1                                       No amenities                 Other   \n",
       "2  Toilet Facility, School, Water, Hospital, Elec...                 Other   \n",
       "3                                       No amenities                 Other   \n",
       "4  Toilet Facility, School, Water, Hospital, Elec...                 Other   \n",
       "5                                        Electricity                 Other   \n",
       "6                                        Electricity                 Other   \n",
       "7  Toilet Facility, School, Water, Hospital, Elec...                 Other   \n",
       "8  Toilet Facility, School, Water, Hospital, Elec...                 Other   \n",
       "9  Toilet Facility, School, Water, Hospital, Elec...                 Other   \n",
       "\n",
       "  CleanedSource CleanedHobbies  \n",
       "0         Other          Other  \n",
       "1         Other          hobby  \n",
       "2         Other          Other  \n",
       "3         Other          hobby  \n",
       "4         Other          Other  \n",
       "5         Other          hobby  \n",
       "6         Other          Other  \n",
       "7         Other          Other  \n",
       "8         Radio          Other  \n",
       "9         Other          Other  \n",
       "\n",
       "[10 rows x 86 columns]"
      ]
     },
     "execution_count": 62,
     "metadata": {},
     "output_type": "execute_result"
    }
   ],
   "source": [
    "df.head(10)"
   ]
  },
  {
   "cell_type": "markdown",
   "metadata": {},
   "source": [
    "## EDA "
   ]
  },
  {
   "cell_type": "markdown",
   "metadata": {},
   "source": [
    "### Univariate "
   ]
  },
  {
   "cell_type": "markdown",
   "metadata": {},
   "source": [
    "\n",
    "1. Age Distribution: What is the age distribution among respondents? Are there any noticeable patterns or outliers in age?\n",
    "3. Gender Representation: What is the proportion of male vs. female respondents? Are any other gender categories represented?\n",
    "4. Marital Status Trends: What is the breakdown of marital status in the dataset? How many respondents are single, married, or have other       marital statuses?\n",
    "5. Employment Status: What proportion of respondents are employed vs. unemployed? What are the main types of employment among respondents?\n",
    "6. Disability Prevalence: How many respondents report having a disability, and what types of disabilities are most common?\n",
    "7. Residence Patterns: Which residential areas have the most and least representation among respondents?\n",
    "8. Community Engagement: What percentage of respondents participate in community activities, and which types of activities are most popular?\n",
    "9. Health Insurance Access: How many respondents have health insurance? What proportion does not?\n",
    "10. Youth Activity Interest: What percentage of respondents express interest in youth activities?\n",
    "11. Social Media Platforms: Which social media platforms are most popular among respondents (Facebook, Twitter, Instagram, etc.)?"
   ]
  },
  {
   "cell_type": "markdown",
   "metadata": {},
   "source": [
    "#### Age Distribution: What is the age distribution among respondents? Are there any noticeable patterns or outliers in age?"
   ]
  },
  {
   "cell_type": "code",
   "execution_count": 63,
   "metadata": {},
   "outputs": [
    {
     "data": {
      "text/plain": [
       "array(['31-35', 'Unknown', '15-20', '21-25', '26-30'], dtype=object)"
      ]
     },
     "execution_count": 63,
     "metadata": {},
     "output_type": "execute_result"
    }
   ],
   "source": [
    "df['Age'].unique()"
   ]
  },
  {
   "cell_type": "code",
   "execution_count": null,
   "metadata": {},
   "outputs": [],
   "source": [
    "# Filter out 'Unknown' from the 'Age' column\n",
    "df_age_cleaned = df[df['Age'] != 'Unknown']\n",
    "\n",
    "# Ensure the 'Age' column is treated as an ordered categorical type\n",
    "age_order = ['15-20', '21-25', '26-30', '31-35']\n",
    "df_age_cleaned['Age'] = pd.Categorical(df_age_cleaned['Age'], categories=age_order, ordered=True)\n",
    "\n",
    "# Plot the Age Distribution using a bar plot\n",
    "plt.figure(figsize=(10, 6))\n",
    "sns.countplot(data=df_age_cleaned, x='Age', palette='Blues')\n",
    "\n",
    "# Customize the plot\n",
    "plt.title('Age Distribution Among Respondents')\n",
    "plt.xlabel('Age Group')\n",
    "plt.ylabel('Number of Respondents')\n",
    "\n",
    "# Show the plot\n",
    "plt.show()"
   ]
  },
  {
   "cell_type": "markdown",
   "metadata": {},
   "source": [
    "##### Gender Representation: What is the proportion of male vs. female respondents? "
   ]
  },
  {
   "cell_type": "code",
   "execution_count": 64,
   "metadata": {},
   "outputs": [
    {
     "data": {
      "image/png": "[encoded data removed]",
      "text/plain": [
       "<Figure size 1000x600 with 1 Axes>"
      ]
     },
     "metadata": {},
     "output_type": "display_data"
    }
   ],
   "source": [
    "#  Remove rows where 'Gender' is 'Unknown'\n",
    "df_cleaned = df[df['Gender'] != 'Unknown']\n",
    "\n",
    "#  Count occurrences of each unique gender\n",
    "gender_counts = df_cleaned['Gender'].value_counts()\n",
    "\n",
    "#  Calculate percentage\n",
    "total_count = gender_counts.sum()\n",
    "gender_percentages = (gender_counts / total_count) * 100\n",
    "\n",
    "#  Plot the distribution using a bar chart\n",
    "plt.figure(figsize=(10, 6))\n",
    "bars = plt.bar(gender_counts.index.astype(str), gender_counts.values, color='blue')\n",
    "\n",
    "#  Add percentage labels on top of the bars\n",
    "for bar, percentage in zip(bars, gender_percentages):\n",
    "    height = bar.get_height()\n",
    "    plt.text(bar.get_x() + bar.get_width() / 2, height + 10, f'{percentage:.1f}%', \n",
    "             ha='center', va='bottom', fontsize=10)\n",
    "\n",
    "plt.xlabel('Gender')\n",
    "plt.ylabel('Number of Respondents')\n",
    "plt.title('Gender Distribution ')\n",
    "plt.xticks(rotation=0)  # 360 means no rotation, so it can be 0\n",
    "plt.show()"
   ]
  },
  {
   "cell_type": "markdown",
   "metadata": {},
   "source": [
    "####  Marital Status Trends: What is the breakdown of marital status in the dataset? How many respondents are single, married"
   ]
  },
  {
   "cell_type": "code",
   "execution_count": 65,
   "metadata": {},
   "outputs": [
    {
     "data": {
      "image/png": "[encoded data removed]",
      "text/plain": [
       "<Figure size 800x800 with 1 Axes>"
      ]
     },
     "metadata": {},
     "output_type": "display_data"
    }
   ],
   "source": [
    "# 1. Remove rows where 'MaritalStatus' is 'Unknown'\n",
    "df_cleaned = df[df['MaritalStatus'] != 'Unknown']\n",
    "\n",
    "# 2. Count occurrences of each unique marital status\n",
    "marital_counts = df_cleaned['MaritalStatus'].value_counts()\n",
    "\n",
    "# 3. Plot the distribution using a pie chart\n",
    "plt.figure(figsize=(8, 8))\n",
    "plt.pie(\n",
    "    marital_counts, \n",
    "    labels=None, \n",
    "    autopct='%1.1f%%',  # Show percentage on slices\n",
    "    startangle=140, \n",
    "    colors=plt.cm.Paired.colors  # Optional color scheme\n",
    ")\n",
    "\n",
    "# 4. Add legend\n",
    "plt.legend(marital_counts.index, title=\"Marital Status\", loc=\"best\")\n",
    "\n",
    "# 5. Add a title\n",
    "plt.title('Marital Status Distribution ')\n",
    "plt.show()"
   ]
  },
  {
   "cell_type": "markdown",
   "metadata": {},
   "source": [
    "Employment Status: What proportion of respondents are employed vs. unemployed? What are the main types of employment among respondents?"
   ]
  },
  {
   "cell_type": "code",
   "execution_count": 66,
   "metadata": {},
   "outputs": [
    {
     "data": {
      "text/plain": [
       "array(['Self-employed', nan, 'Unemployed', 'Employed'], dtype=object)"
      ]
     },
     "execution_count": 66,
     "metadata": {},
     "output_type": "execute_result"
    }
   ],
   "source": [
    "df['EmploymentStatus'].unique()"
   ]
  },
  {
   "cell_type": "code",
   "execution_count": 67,
   "metadata": {},
   "outputs": [
    {
     "data": {
      "image/png": "[encoded data removed]",
      "text/plain": [
       "<Figure size 800x800 with 1 Axes>"
      ]
     },
     "metadata": {},
     "output_type": "display_data"
    }
   ],
   "source": [
    "# 1. Remove rows where 'MaritalStatus' is 'Unknown'\n",
    "df_cleaned = df[df['EmploymentStatus'] != 'nan']\n",
    "\n",
    "# 2. Count occurrences of each unique marital status\n",
    "marital_counts = df_cleaned['EmploymentStatus'].value_counts()\n",
    "\n",
    "# 3. Plot the distribution using a pie chart\n",
    "plt.figure(figsize=(8, 8))\n",
    "plt.pie(\n",
    "    marital_counts, \n",
    "    labels=None, \n",
    "    autopct='%1.1f%%',  # Show percentage on slices\n",
    "    startangle=140, \n",
    "    colors=plt.cm.Paired.colors  # Optional color scheme\n",
    ")\n",
    "\n",
    "# 4. Add legend\n",
    "plt.legend(marital_counts.index, title=\"EmploymentStatus \", loc=\"best\")\n",
    "\n",
    "# 5. Add a title\n",
    "plt.title('EmploymentStatus  Distribution ')\n",
    "plt.show()"
   ]
  },
  {
   "cell_type": "markdown",
   "metadata": {},
   "source": [
    "### Disability Prevalence: How many respondents report having a disability, and what types of disabilities are most common?"
   ]
  },
  {
   "cell_type": "code",
   "execution_count": 68,
   "metadata": {},
   "outputs": [
    {
     "data": {
      "text/plain": [
       "array(['No', nan, 'Yes'], dtype=object)"
      ]
     },
     "execution_count": 68,
     "metadata": {},
     "output_type": "execute_result"
    }
   ],
   "source": [
    "df['HasDisability'].unique()"
   ]
  },
  {
   "cell_type": "code",
   "execution_count": 69,
   "metadata": {},
   "outputs": [
    {
     "data": {
      "image/png": "[encoded data removed]",
      "text/plain": [
       "<Figure size 1000x600 with 1 Axes>"
      ]
     },
     "metadata": {},
     "output_type": "display_data"
    }
   ],
   "source": [
    "#  Remove rows where 'Gender' is 'Unknown'\n",
    "df_cleaned = df[df['HasDisability'] != 'nan']\n",
    "\n",
    "#  Count occurrences of each unique gender\n",
    "gender_counts = df_cleaned['HasDisability'].value_counts()\n",
    "\n",
    "#  Calculate percentage\n",
    "total_count = gender_counts.sum()\n",
    "gender_percentages = (gender_counts / total_count) * 100\n",
    "\n",
    "#  Plot the distribution using a bar chart\n",
    "plt.figure(figsize=(10, 6))\n",
    "bars = plt.bar(gender_counts.index.astype(str), gender_counts.values, color='blue')\n",
    "\n",
    "#  Add percentage labels on top of the bars\n",
    "for bar, percentage in zip(bars, gender_percentages):\n",
    "    height = bar.get_height()\n",
    "    plt.text(bar.get_x() + bar.get_width() / 2, height + 10, f'{percentage:.1f}%', \n",
    "             ha='center', va='bottom', fontsize=10)\n",
    "\n",
    "plt.xlabel('HasDisability')\n",
    "plt.ylabel('Number of Respondents')\n",
    "plt.title('HasDisability Distribution ')\n",
    "plt.xticks(rotation=0)  # 360 means no rotation, so it can be 0\n",
    "plt.show()"
   ]
  },
  {
   "cell_type": "markdown",
   "metadata": {},
   "source": [
    "###  Residence Patterns: Which residential areas have the most and least representation among respondents?"
   ]
  },
  {
   "cell_type": "code",
   "execution_count": 70,
   "metadata": {},
   "outputs": [
    {
     "data": {
      "image/png": "[encoded data removed]",
      "text/plain": [
       "<Figure size 1000x1000 with 1 Axes>"
      ]
     },
     "metadata": {},
     "output_type": "display_data"
    }
   ],
   "source": [
    "# 1. Extract the columns representing residence areas\n",
    "residence_columns = [\n",
    "    'Residence_OldEstateWest', 'Residence_OldEstateEast', 'Residence_Nyamekrom', \n",
    "    'Residence_RailwayStation', 'Residence_NsuakeoAbotanso', 'Residence Tanoso',\n",
    "    'Residence Nsukwaoso', 'Residence_OsabeneMile_50', 'Residence_AdwesoEstate',\n",
    "    'Residence_AdwesoTown', 'Residence_TwoStreams', 'Residence_NyeredeNorth',\n",
    "    'Residence_NyeredeSouth', 'Residence_Oguaa', 'Residence_ResidentialArea',\n",
    "    'Residence_Sempoamiensa', 'Residence_OhemaaPark', 'Residence_Adontua',\n",
    "    'Residence_SchoolTown', 'Residence_Anglican', 'Residence_Asuafiriso',\n",
    "    'Residence_AnloTownSouth', 'Residence_AnloTownNorth', 'Residence_CentralHospital',\n",
    "    'Residence_KluTownYawKyerema', 'Residence_SocialWelfare', 'Residence_CentralMarket',\n",
    "    'Residence_Debrakrom', 'Residence_AkwaasuAsebi', 'Residence_Kantudu',\n",
    "    'Residence_NewZongo_AB', 'Residence_NewZongo_C', 'Residence_NewZongo_D', 'Residence_Ada'\n",
    "]\n",
    "\n",
    "# 2. Filter residence columns to include only those present in the DataFrame\n",
    "residence_columns = [col for col in residence_columns if col in df.columns]\n",
    "\n",
    "# 3. Count non-null values in each residence column\n",
    "residence_counts = {col: df[col].notnull().sum() for col in residence_columns}\n",
    "\n",
    "# 4. Convert counts to a DataFrame for easier plotting\n",
    "residence_df = pd.DataFrame(list(residence_counts.items()), columns=['Residence Area', 'Count'])\n",
    "\n",
    "# 5. Calculate percentage for each residence area\n",
    "total_count = residence_df['Count'].sum()\n",
    "residence_df['Percentage'] = (residence_df['Count'] / total_count) * 100\n",
    "\n",
    "# 6. Plot the horizontal bar chart\n",
    "plt.figure(figsize=(10, 10))\n",
    "bars = plt.barh(residence_df['Residence Area'], residence_df['Count'], color='blue')\n",
    "\n",
    "# 7. Add percentage labels on each bar\n",
    "for bar, percentage in zip(bars, residence_df['Percentage']):\n",
    "    plt.text(\n",
    "        bar.get_width() + 5,  # Position the text slightly right of the bar\n",
    "        bar.get_y() + bar.get_height() / 2,  # Center the text vertically on the bar\n",
    "        f'{percentage:.1f}%',  # Format as 1 decimal place percentage\n",
    "        va='center',\n",
    "        fontsize=10\n",
    "    )\n",
    "\n",
    "plt.xlabel('Number of Respondents')\n",
    "plt.ylabel('Residence Area')\n",
    "plt.title('Residence Distribution ')\n",
    "plt.tight_layout()  # Adjust layout for better fitting\n",
    "plt.show()"
   ]
  },
  {
   "cell_type": "markdown",
   "metadata": {},
   "source": [
    "Community Engagement: What percentage of respondents participate in community activities, and which types of activities are most popular?\n"
   ]
  },
  {
   "cell_type": "code",
   "execution_count": 71,
   "metadata": {},
   "outputs": [
    {
     "data": {
      "text/plain": [
       "array(['Yes', nan, 'No', 'Maybe'], dtype=object)"
      ]
     },
     "execution_count": 71,
     "metadata": {},
     "output_type": "execute_result"
    }
   ],
   "source": [
    "df['CommunityActivity'].unique()"
   ]
  },
  {
   "cell_type": "code",
   "execution_count": 72,
   "metadata": {},
   "outputs": [
    {
     "data": {
      "image/png": "[encoded data removed]",
      "text/plain": [
       "<Figure size 800x800 with 1 Axes>"
      ]
     },
     "metadata": {},
     "output_type": "display_data"
    }
   ],
   "source": [
    "# 1. Remove rows where 'MaritalStatus' is 'Unknown'\n",
    "df_cleaned = df[df['CommunityActivity'] != 'nan']\n",
    "\n",
    "# 2. Count occurrences of each unique marital status\n",
    "marital_counts = df_cleaned['CommunityActivity'].value_counts()\n",
    "\n",
    "# 3. Plot the distribution using a pie chart\n",
    "plt.figure(figsize=(8, 8))\n",
    "plt.pie(\n",
    "    marital_counts, \n",
    "    labels=None, \n",
    "    autopct='%1.1f%%',  # Show percentage on slices\n",
    "    startangle=140, \n",
    "    colors=plt.cm.Paired.colors  # Optional color scheme\n",
    ")\n",
    "\n",
    "# 4. Add legend\n",
    "plt.legend(marital_counts.index, title=\"CommunityActivity \", loc=\"best\")\n",
    "\n",
    "# 5. Add a title\n",
    "plt.title('Community Activity  Distribution ')\n",
    "plt.show()"
   ]
  },
  {
   "cell_type": "markdown",
   "metadata": {},
   "source": [
    " Health Insurance Access: How many respondents have health insurance? What proportion does not?\n"
   ]
  },
  {
   "cell_type": "code",
   "execution_count": 73,
   "metadata": {},
   "outputs": [
    {
     "data": {
      "text/plain": [
       "array(['Yes', nan, 'No', 'Maybe'], dtype=object)"
      ]
     },
     "execution_count": 73,
     "metadata": {},
     "output_type": "execute_result"
    }
   ],
   "source": [
    "df['HasHealthInsurance'].unique()"
   ]
  },
  {
   "cell_type": "code",
   "execution_count": 74,
   "metadata": {},
   "outputs": [
    {
     "data": {
      "image/png": "[encoded data removed]",
      "text/plain": [
       "<Figure size 1000x600 with 1 Axes>"
      ]
     },
     "metadata": {},
     "output_type": "display_data"
    }
   ],
   "source": [
    "#  Remove rows where 'Gender' is 'Unknown'\n",
    "df_cleaned = df[df['HasHealthInsurance'] != 'nan']\n",
    "\n",
    "#  Count occurrences of each unique gender\n",
    "gender_counts = df_cleaned['HasHealthInsurance'].value_counts()\n",
    "\n",
    "#  Calculate percentage\n",
    "total_count = gender_counts.sum()\n",
    "gender_percentages = (gender_counts / total_count) * 100\n",
    "\n",
    "#  Plot the distribution using a bar chart\n",
    "plt.figure(figsize=(10, 6))\n",
    "bars = plt.bar(gender_counts.index.astype(str), gender_counts.values, color='blue')\n",
    "\n",
    "#  Add percentage labels on top of the bars\n",
    "for bar, percentage in zip(bars, gender_percentages):\n",
    "    height = bar.get_height()\n",
    "    plt.text(bar.get_x() + bar.get_width() / 2, height + 10, f'{percentage:.1f}%', \n",
    "             ha='center', va='bottom', fontsize=10)\n",
    "\n",
    "plt.xlabel('HasHealthInsurance')\n",
    "plt.ylabel('Number of Respondents')\n",
    "plt.title('HasHealthInsurance Distribution ')\n",
    "plt.xticks(rotation=0)  # 360 means no rotation, so it can be 0\n",
    "plt.show()"
   ]
  },
  {
   "cell_type": "markdown",
   "metadata": {},
   "source": [
    " Youth Activity Interest: What percentage of respondents express interest in youth activities?\n"
   ]
  },
  {
   "cell_type": "code",
   "execution_count": 75,
   "metadata": {},
   "outputs": [
    {
     "data": {
      "text/plain": [
       "array([nan, 'Yes', 'No', 'Maybe'], dtype=object)"
      ]
     },
     "execution_count": 75,
     "metadata": {},
     "output_type": "execute_result"
    }
   ],
   "source": [
    "df['YouthActivityInterest'].unique()"
   ]
  },
  {
   "cell_type": "code",
   "execution_count": 76,
   "metadata": {},
   "outputs": [
    {
     "data": {
      "image/png": "[encoded data removed]",
      "text/plain": [
       "<Figure size 1000x600 with 1 Axes>"
      ]
     },
     "metadata": {},
     "output_type": "display_data"
    }
   ],
   "source": [
    "#  Remove rows where 'Gender' is 'Unknown'\n",
    "df_cleaned = df[df['YouthActivityInterest'] != 'nan']\n",
    "\n",
    "#  Count occurrences of each unique gender\n",
    "gender_counts = df_cleaned['YouthActivityInterest'].value_counts()\n",
    "\n",
    "#  Calculate percentage\n",
    "total_count = gender_counts.sum()\n",
    "gender_percentages = (gender_counts / total_count) * 100\n",
    "\n",
    "#  Plot the distribution using a bar chart\n",
    "plt.figure(figsize=(10, 6))\n",
    "bars = plt.bar(gender_counts.index.astype(str), gender_counts.values, color='blue')\n",
    "\n",
    "#  Add percentage labels on top of the bars\n",
    "for bar, percentage in zip(bars, gender_percentages):\n",
    "    height = bar.get_height()\n",
    "    plt.text(bar.get_x() + bar.get_width() / 2, height + 10, f'{percentage:.1f}%', \n",
    "             ha='center', va='bottom', fontsize=10)\n",
    "\n",
    "plt.xlabel('YouthActivityInterest')\n",
    "plt.ylabel('Number of Respondents')\n",
    "plt.title('YouthActivityInterest Distribution ')\n",
    "plt.xticks(rotation=0)  # 360 means no rotation, so it can be 0\n",
    "plt.show()"
   ]
  },
  {
   "cell_type": "markdown",
   "metadata": {},
   "source": [
    " Social Media Platforms: Which social media platforms are most popular among respondents (Facebook, Twitter, Instagram, etc.)?"
   ]
  },
  {
   "cell_type": "code",
   "execution_count": 77,
   "metadata": {},
   "outputs": [
    {
     "data": {
      "text/plain": [
       "array(['Facebook', 'unknown'], dtype=object)"
      ]
     },
     "execution_count": 77,
     "metadata": {},
     "output_type": "execute_result"
    }
   ],
   "source": [
    "\n",
    "df['SocialMediaPlatforms_Facebook'].unique()"
   ]
  },
  {
   "cell_type": "code",
   "execution_count": 78,
   "metadata": {},
   "outputs": [
    {
     "data": {
      "image/png": "[encoded data removed]",
      "text/plain": [
       "<Figure size 1000x600 with 1 Axes>"
      ]
     },
     "metadata": {},
     "output_type": "display_data"
    }
   ],
   "source": [
    "# Define social media platform columns\n",
    "platform_columns = [\n",
    "    'SocialMediaPlatforms_Facebook', \n",
    "    'SocialMediaPlatforms_Twitter', \n",
    "    'SocialMediaPlatforms_Instagram', \n",
    "    'SocialMediaPlatforms_Snapchat', \n",
    "    'SocialMediaPlatforms_Tiktok'\n",
    "]\n",
    "\n",
    "# Count non-null values for each platform\n",
    "platform_counts = {col: df[col].notnull().sum() for col in platform_columns}\n",
    "total_count = len(df)  # Total number of respondents\n",
    "\n",
    "# Convert counts to DataFrame for plotting\n",
    "platform_df = pd.DataFrame(list(platform_counts.items()), columns=['Platform', 'Count'])\n",
    "\n",
    "# Calculate percentages\n",
    "platform_df['Percentage'] = (platform_df['Count'] / total_count) * 100\n",
    "\n",
    "# Plot the distribution using a bar chart\n",
    "plt.figure(figsize=(10, 6))\n",
    "bars = plt.bar(platform_df['Platform'], platform_df['Count'], color='blue')\n",
    "\n",
    "# Add percentage labels on top of each bar\n",
    "for bar, percentage in zip(bars, platform_df['Percentage']):\n",
    "    height = bar.get_height()\n",
    "    plt.text(\n",
    "        bar.get_x() + bar.get_width() / 2, height + 5, \n",
    "        f'{percentage:.1f}%', ha='center', va='bottom', fontsize=10\n",
    "    )\n",
    "\n",
    "plt.xlabel('Social Media Platform')\n",
    "plt.ylabel('Number of Respondents')\n",
    "plt.title('Popularity of Social Media Platforms ')\n",
    "plt.xticks(rotation=45)\n",
    "plt.tight_layout()\n",
    "plt.show()"
   ]
  },
  {
   "cell_type": "markdown",
   "metadata": {},
   "source": [
    "## Bivariate "
   ]
  },
  {
   "cell_type": "markdown",
   "metadata": {},
   "source": [
    "1. Age vs. Employment Status: How does employment status vary by age group? Are younger respondents more likely to be unemployed or employed in certain types of jobs?\n",
    "2. Gender vs. Education Level: Is there a difference in education level distribution between male and female respondents?\n",
    "3. Marital Status vs. HasChildren: Is there a relationship between marital status and the likelihood of having children?\n",
    "4. Community Participation vs. Education Level: Are people with higher education levels more or less likely to participate in community activities?\n",
    "5. Disability vs. Employment Status: Does having a disability affect employment status?\n",
    "6. Town Hall Participation vs. PlanToVote: Are respondents who participate in town hall meetings more likely to plan to vote?\n",
    "7. CommunityChallenges vs. Residence: Do community challenges reported by respondents vary significantly between different residential areas?\n",
    "8. Social Media Usage vs. Age: How does the use of social media platforms vary across different age groups?\n",
    "9.SourceOfKofkroInfo vs. Employment Status: Do employed and unemployed respondents obtain information about Kofkro differently?\n",
    "10. FutureFollowupInterest vs. Age: Are younger or older respondents more interested in future follow-up on the project?"
   ]
  },
  {
   "cell_type": "markdown",
   "metadata": {},
   "source": [
    "#### 1. Age vs. Employment Status: How does employment status vary by age group? Are younger respondents more likely to be unemployed or employed in"
   ]
  },
  {
   "cell_type": "code",
   "execution_count": 79,
   "metadata": {},
   "outputs": [
    {
     "data": {
      "text/plain": [
       "array(['Self-employed', nan, 'Unemployed', 'Employed'], dtype=object)"
      ]
     },
     "execution_count": 79,
     "metadata": {},
     "output_type": "execute_result"
    }
   ],
   "source": [
    "df['EmploymentStatus'].unique()"
   ]
  },
  {
   "cell_type": "code",
   "execution_count": 80,
   "metadata": {},
   "outputs": [
    {
     "data": {
      "text/plain": [
       "array(['31-35', 'Unknown', '15-20', '21-25', '26-30'], dtype=object)"
      ]
     },
     "execution_count": 80,
     "metadata": {},
     "output_type": "execute_result"
    }
   ],
   "source": [
    "df['Age'].unique()"
   ]
  },
  {
   "cell_type": "code",
   "execution_count": 83,
   "metadata": {},
   "outputs": [
    {
     "data": {
      "image/png": "[encoded data removed]",
      "text/plain": [
       "<Figure size 1000x600 with 1 Axes>"
      ]
     },
     "metadata": {},
     "output_type": "display_data"
    }
   ],
   "source": [
    "# Group by 'Age' and 'EmploymentStatus', and count occurrences\n",
    "employment_by_age = df.groupby(['Age', 'EmploymentStatus']).size().reset_index(name='Count')\n",
    "\n",
    "# Filter out the 'Unknown' age group (if needed)\n",
    "employment_by_age = employment_by_age[employment_by_age['Age'] != 'Unknown']\n",
    "\n",
    "# Set up the plot\n",
    "plt.figure(figsize=(10, 6))\n",
    "sns.barplot(data=employment_by_age, x='Age', y='Count', hue='EmploymentStatus', dodge=True)\n",
    "\n",
    "# Customize the plot\n",
    "plt.title('Employment Status by Age Group')\n",
    "plt.xlabel('Age Group')\n",
    "plt.ylabel('Count')\n",
    "plt.legend(title='Employment Status', loc='upper right')\n",
    "\n",
    "# Show the plot\n",
    "plt.show()"
   ]
  },
  {
   "cell_type": "markdown",
   "metadata": {},
   "source": [
    "### 2. Gender vs. Education Level: Is there a difference in education level distribution between male and female respondents?"
   ]
  },
  {
   "cell_type": "code",
   "execution_count": 86,
   "metadata": {},
   "outputs": [
    {
     "data": {
      "text/plain": [
       "array([nan, 'SHS', 'TERTIARY', 'TVET', 'JHS'], dtype=object)"
      ]
     },
     "execution_count": 86,
     "metadata": {},
     "output_type": "execute_result"
    }
   ],
   "source": [
    "df['CurrentEducationLevel'].unique()"
   ]
  },
  {
   "cell_type": "code",
   "execution_count": 87,
   "metadata": {},
   "outputs": [
    {
     "data": {
      "text/plain": [
       "array(['TERTIARY', nan, 'JHS', 'SHS', 'TVET'], dtype=object)"
      ]
     },
     "execution_count": 87,
     "metadata": {},
     "output_type": "execute_result"
    }
   ],
   "source": [
    "df['HighestEducationLevel'].unique()"
   ]
  },
  {
   "cell_type": "code",
   "execution_count": 88,
   "metadata": {},
   "outputs": [
    {
     "data": {
      "image/png": "[encoded data removed]",
      "text/plain": [
       "<Figure size 1200x600 with 1 Axes>"
      ]
     },
     "metadata": {},
     "output_type": "display_data"
    }
   ],
   "source": [
    " #Filter out NaN values in 'CurrentEducationLevel'\n",
    "df_education_age = df.dropna(subset=['CurrentEducationLevel'])\n",
    "\n",
    "# Define the order for 'Age' and 'CurrentEducationLevel' categories\n",
    "age_order = ['15-20', '21-25', '26-30', '31-35']\n",
    "education_order = ['JHS', 'SHS', 'TVET', 'TERTIARY']\n",
    "\n",
    "# Convert 'Age' and 'CurrentEducationLevel' columns to ordered categorical types\n",
    "df_education_age['Age'] = pd.Categorical(df_education_age['Age'], categories=age_order, ordered=True)\n",
    "df_education_age['CurrentEducationLevel'] = pd.Categorical(df_education_age['CurrentEducationLevel'], categories=education_order, ordered=True)\n",
    "\n",
    "# Group by 'Age' and 'CurrentEducationLevel', and count the occurrences\n",
    "education_by_age = df_education_age.groupby(['Age', 'CurrentEducationLevel']).size().reset_index(name='Count')\n",
    "\n",
    "# Plot the grouped bar chart\n",
    "plt.figure(figsize=(12, 6))\n",
    "sns.barplot(data=education_by_age, x='Age', y='Count', hue='CurrentEducationLevel', palette='Set2')\n",
    "\n",
    "# Customize the plot\n",
    "plt.title('Distribution of Current Education Level by Age Group')\n",
    "plt.xlabel('Age Group')\n",
    "plt.ylabel('Frequency')\n",
    "plt.legend(title='Current Education Level', loc='upper right')\n",
    "\n",
    "# Show the plot\n",
    "plt.show()"
   ]
  },
  {
   "cell_type": "code",
   "execution_count": 89,
   "metadata": {},
   "outputs": [
    {
     "data": {
      "image/png": "[encoded data removed]",
      "text/plain": [
       "<Figure size 1200x600 with 1 Axes>"
      ]
     },
     "metadata": {},
     "output_type": "display_data"
    }
   ],
   "source": [
    " #Filter out NaN values in 'CurrentEducationLevel'\n",
    "df_education_age = df.dropna(subset=['HighestEducationLevel'])\n",
    "\n",
    "# Define the order for 'Age' and 'CurrentEducationLevel' categories\n",
    "age_order = ['15-20', '21-25', '26-30', '31-35']\n",
    "education_order = ['JHS', 'SHS', 'TVET', 'TERTIARY']\n",
    "\n",
    "# Convert 'Age' and 'CurrentEducationLevel' columns to ordered categorical types\n",
    "df_education_age['Age'] = pd.Categorical(df_education_age['Age'], categories=age_order, ordered=True)\n",
    "df_education_age['HighestEducationLevel'] = pd.Categorical(df_education_age['HighestEducationLevel'], categories=education_order, ordered=True)\n",
    "\n",
    "# Group by 'Age' and 'CurrentEducationLevel', and count the occurrences\n",
    "education_by_age = df_education_age.groupby(['Age', 'HighestEducationLevel']).size().reset_index(name='Count')\n",
    "\n",
    "# Plot the grouped bar chart\n",
    "plt.figure(figsize=(12, 6))\n",
    "sns.barplot(data=education_by_age, x='Age', y='Count', hue='HighestEducationLevel', palette='Set2')\n",
    "\n",
    "# Customize the plot\n",
    "plt.title('Distribution of Highest Education Level by Age Group')\n",
    "plt.xlabel('Age Group')\n",
    "plt.ylabel('Frequency')\n",
    "plt.legend(title='Highest Education Level', loc='upper right')\n",
    "\n",
    "# Show the plot\n",
    "plt.show()"
   ]
  },
  {
   "cell_type": "markdown",
   "metadata": {},
   "source": [
    "#### 3. Marital Status vs. HasChildren: Is there a relationship between marital status and the likelihood of having children?"
   ]
  },
  {
   "cell_type": "code",
   "execution_count": 90,
   "metadata": {},
   "outputs": [
    {
     "data": {
      "text/plain": [
       "array(['Maried', nan, 'Single'], dtype=object)"
      ]
     },
     "execution_count": 90,
     "metadata": {},
     "output_type": "execute_result"
    }
   ],
   "source": [
    "df['MaritalStatus'].unique()"
   ]
  },
  {
   "cell_type": "code",
   "execution_count": 91,
   "metadata": {},
   "outputs": [
    {
     "data": {
      "text/plain": [
       "array(['Yes', nan, 'No'], dtype=object)"
      ]
     },
     "execution_count": 91,
     "metadata": {},
     "output_type": "execute_result"
    }
   ],
   "source": [
    "df['HasChildren'].unique()"
   ]
  },
  {
   "cell_type": "code",
   "execution_count": 96,
   "metadata": {},
   "outputs": [
    {
     "data": {
      "image/png": "[encoded data removed]",
      "text/plain": [
       "<Figure size 800x600 with 1 Axes>"
      ]
     },
     "metadata": {},
     "output_type": "display_data"
    }
   ],
   "source": [
    "# Drop rows with NaN in 'MaritalStatus' or 'HasChildren' if they are not relevant\n",
    "df_filtered = df.dropna(subset=['MaritalStatus', 'HasChildren'])\n",
    "\n",
    "# Define the order for 'MaritalStatus' categories\n",
    "marital_order = ['Maried', 'Single']\n",
    "df_filtered['MaritalStatus'] = pd.Categorical(df_filtered['MaritalStatus'], categories=marital_order, ordered=True)\n",
    "\n",
    "# Plot the grouped bar chart\n",
    "plt.figure(figsize=(8, 6))\n",
    "ax = sns.countplot(data=df_filtered, x='MaritalStatus', hue='HasChildren', palette='coolwarm')\n",
    "\n",
    "# Annotate each bar with the count value\n",
    "for p in ax.patches:\n",
    "    height = p.get_height()  # Get the height of the bar (count value)\n",
    "    ax.text(\n",
    "        p.get_x() + p.get_width() / 2, height + 1,  # Position the text at the center of the bar\n",
    "        f'{int(height)}',  # Display the count as an integer\n",
    "        ha='center', va='bottom'\n",
    "    )\n",
    "\n",
    "# Customize the plot\n",
    "plt.title('Distribution of Respondents with Children by Marital Status')\n",
    "plt.xlabel('Marital Status')\n",
    "plt.ylabel('Number of Respondents')\n",
    "plt.legend(title='Has Children', labels=['No', 'Yes'])\n",
    "\n",
    "# Show the plot\n",
    "plt.show()"
   ]
  },
  {
   "cell_type": "markdown",
   "metadata": {},
   "source": [
    "#### 4. Community Participation vs. Education Level: Are people with higher education levels more or less likely to participate in community activities?"
   ]
  },
  {
   "cell_type": "code",
   "execution_count": 97,
   "metadata": {},
   "outputs": [
    {
     "data": {
      "text/plain": [
       "array(['Yes', nan, 'No', 'Maybe'], dtype=object)"
      ]
     },
     "execution_count": 97,
     "metadata": {},
     "output_type": "execute_result"
    }
   ],
   "source": [
    "df['CommunityActivity'].unique()"
   ]
  },
  {
   "cell_type": "code",
   "execution_count": 98,
   "metadata": {},
   "outputs": [
    {
     "data": {
      "text/plain": [
       "array(['Currently attending', nan, 'Attended school in the past',\n",
       "       'Never attended school'], dtype=object)"
      ]
     },
     "execution_count": 98,
     "metadata": {},
     "output_type": "execute_result"
    }
   ],
   "source": [
    "df['EducationStatus'].unique()"
   ]
  },
  {
   "cell_type": "code",
   "execution_count": 99,
   "metadata": {},
   "outputs": [
    {
     "data": {
      "image/png": "[encoded data removed]",
      "text/plain": [
       "<Figure size 1000x600 with 1 Axes>"
      ]
     },
     "metadata": {},
     "output_type": "display_data"
    }
   ],
   "source": [
    "# Drop rows with NaN in 'CommunityActivity' or 'EducationStatus' if they are not relevant\n",
    "df_filtered = df.dropna(subset=['CommunityActivity', 'EducationStatus'])\n",
    "\n",
    "# Define the order for 'CommunityActivity' and 'EducationStatus' categories\n",
    "community_order = ['Yes', 'No', 'Maybe']\n",
    "education_order = ['Currently attending', 'Attended school in the past', 'Never attended school']\n",
    "\n",
    "# Convert 'CommunityActivity' and 'EducationStatus' to ordered categorical types\n",
    "df_filtered['CommunityActivity'] = pd.Categorical(df_filtered['CommunityActivity'], categories=community_order, ordered=True)\n",
    "df_filtered['EducationStatus'] = pd.Categorical(df_filtered['EducationStatus'], categories=education_order, ordered=True)\n",
    "\n",
    "# Plot the grouped bar chart\n",
    "plt.figure(figsize=(10, 6))\n",
    "ax = sns.countplot(data=df_filtered, x='EducationStatus', hue='CommunityActivity', palette='viridis')\n",
    "\n",
    "# Annotate each bar with the count value\n",
    "for p in ax.patches:\n",
    "    height = p.get_height()  # Get the height of the bar (count value)\n",
    "    ax.text(\n",
    "        p.get_x() + p.get_width() / 2, height + 1,  # Position the text at the center of the bar\n",
    "        f'{int(height)}',  # Display the count as an integer\n",
    "        ha='center', va='bottom'\n",
    "    )\n",
    "\n",
    "# Customize the plot\n",
    "plt.title('Community Activity Participation by Education Status')\n",
    "plt.xlabel('Education Status')\n",
    "plt.ylabel('Number of Respondents')\n",
    "plt.legend(title='Community Activity', loc='upper right')\n",
    "\n",
    "# Show the plot\n",
    "plt.show()"
   ]
  },
  {
   "cell_type": "markdown",
   "metadata": {},
   "source": [
    "#### 5. Disability vs. Employment Status: Does having a disability affect employment status?\n"
   ]
  },
  {
   "cell_type": "markdown",
   "metadata": {},
   "source": [
    "#### 6. Town Hall Participation vs. PlanToVote: Are respondents who participate in town hall meetings more likely to plan to vote?\n"
   ]
  },
  {
   "cell_type": "markdown",
   "metadata": {},
   "source": [
    "#### 7. CommunityChallenges vs. Residence: Do community challenges reported by respondents vary significantly between different residential areas?\n"
   ]
  },
  {
   "cell_type": "markdown",
   "metadata": {},
   "source": [
    "#### 8. Social Media Usage vs. Age: How does the use of social media platforms vary across different age groups?\n"
   ]
  },
  {
   "cell_type": "markdown",
   "metadata": {},
   "source": [
    "#### 9.SourceOfKofkroInfo vs. Employment Status: Do employed and unemployed respondents obtain information about Kofkro differently?\n"
   ]
  },
  {
   "cell_type": "markdown",
   "metadata": {},
   "source": [
    "#### 10. FutureFollowupInterest vs. Age: Are younger or older respondents more interested in future follow-up on the project?"
   ]
  }
 ],
 "metadata": {
  "kernelspec": {
   "display_name": "Python 3",
   "language": "python",
   "name": "python3"
  },
  "language_info": {
   "codemirror_mode": {
    "name": "ipython",
    "version": 3
   },
   "file_extension": ".py",
   "mimetype": "text/x-python",
   "name": "python",
   "nbconvert_exporter": "python",
   "pygments_lexer": "ipython3",
   "version": "3.11.9"
  }
 },
 "nbformat": 4,
 "nbformat_minor": 2
}
